{
 "cells": [
  {
   "cell_type": "code",
   "execution_count": 1,
   "metadata": {},
   "outputs": [
    {
     "name": "stdout",
     "output_type": "stream",
     "text": [
      "Hello World\n"
     ]
    }
   ],
   "source": [
    "print('Hello World')"
   ]
  },
  {
   "cell_type": "code",
   "execution_count": 15,
   "metadata": {},
   "outputs": [
    {
     "name": "stdout",
     "output_type": "stream",
     "text": [
      "b\n",
      "Rishabh\n",
      "11\n",
      "30\n",
      "-1\n",
      "0.8333333333333334\n"
     ]
    },
    {
     "data": {
      "text/plain": [
       "6"
      ]
     },
     "execution_count": 15,
     "metadata": {},
     "output_type": "execute_result"
    }
   ],
   "source": [
    "a=5\n",
    "b=6\n",
    "c=a+b\n",
    "g=a*b\n",
    "e=a-b\n",
    "f=a/b\n",
    "d='Rishabh'\n",
    "h=str(a)\n",
    "h\n",
    "print(d[5])\n",
    "print(d)\n",
    "print(c)\n",
    "print(g)\n",
    "print(e)\n",
    "print(f)\n",
    "\n",
    "b"
   ]
  },
  {
   "cell_type": "code",
   "execution_count": 16,
   "metadata": {},
   "outputs": [
    {
     "data": {
      "text/plain": [
       "30"
      ]
     },
     "execution_count": 16,
     "metadata": {},
     "output_type": "execute_result"
    }
   ],
   "source": [
    "a*b"
   ]
  },
  {
   "cell_type": "code",
   "execution_count": 17,
   "metadata": {},
   "outputs": [
    {
     "data": {
      "text/plain": [
       "'5'"
      ]
     },
     "execution_count": 17,
     "metadata": {},
     "output_type": "execute_result"
    }
   ],
   "source": [
    "d=str(a)\n",
    "d"
   ]
  },
  {
   "cell_type": "code",
   "execution_count": 18,
   "metadata": {},
   "outputs": [
    {
     "ename": "NameError",
     "evalue": "name 'Rishabh' is not defined",
     "output_type": "error",
     "traceback": [
      "\u001b[1;31m---------------------------------------------------------------------------\u001b[0m",
      "\u001b[1;31mNameError\u001b[0m                                 Traceback (most recent call last)",
      "\u001b[1;32m<ipython-input-18-1e9306abb174>\u001b[0m in \u001b[0;36m<module>\u001b[1;34m\u001b[0m\n\u001b[1;32m----> 1\u001b[1;33m \u001b[0ma\u001b[0m\u001b[1;33m=\u001b[0m\u001b[0mRishabh\u001b[0m\u001b[1;33m\u001b[0m\u001b[1;33m\u001b[0m\u001b[0m\n\u001b[0m\u001b[0;32m      2\u001b[0m \u001b[0ma\u001b[0m\u001b[1;33m[\u001b[0m\u001b[1;33m:\u001b[0m\u001b[1;36m3\u001b[0m\u001b[1;33m]\u001b[0m\u001b[1;33m\u001b[0m\u001b[1;33m\u001b[0m\u001b[0m\n",
      "\u001b[1;31mNameError\u001b[0m: name 'Rishabh' is not defined"
     ]
    }
   ],
   "source": [
    "a=Rishabh\n",
    "a[:3]"
   ]
  },
  {
   "cell_type": "code",
   "execution_count": 19,
   "metadata": {},
   "outputs": [
    {
     "data": {
      "text/plain": [
       "'5'"
      ]
     },
     "execution_count": 19,
     "metadata": {},
     "output_type": "execute_result"
    }
   ],
   "source": [
    "d[:3]"
   ]
  },
  {
   "cell_type": "code",
   "execution_count": 20,
   "metadata": {},
   "outputs": [
    {
     "data": {
      "text/plain": [
       "'Hel'"
      ]
     },
     "execution_count": 20,
     "metadata": {},
     "output_type": "execute_result"
    }
   ],
   "source": [
    "a=\"Hello\"\n",
    "a[:3]"
   ]
  },
  {
   "cell_type": "code",
   "execution_count": 21,
   "metadata": {},
   "outputs": [
    {
     "data": {
      "text/plain": [
       "'habh'"
      ]
     },
     "execution_count": 21,
     "metadata": {},
     "output_type": "execute_result"
    }
   ],
   "source": [
    "a=\"Rishabh\"\n",
    "a[3:]"
   ]
  },
  {
   "cell_type": "code",
   "execution_count": 24,
   "metadata": {},
   "outputs": [
    {
     "data": {
      "text/plain": [
       "'s'"
      ]
     },
     "execution_count": 24,
     "metadata": {},
     "output_type": "execute_result"
    }
   ],
   "source": [
    "a[2:3]"
   ]
  },
  {
   "cell_type": "code",
   "execution_count": 25,
   "metadata": {},
   "outputs": [
    {
     "data": {
      "text/plain": [
       "'shab'"
      ]
     },
     "execution_count": 25,
     "metadata": {},
     "output_type": "execute_result"
    }
   ],
   "source": [
    "a[2:6]"
   ]
  },
  {
   "cell_type": "code",
   "execution_count": 26,
   "metadata": {},
   "outputs": [
    {
     "data": {
      "text/plain": [
       "7"
      ]
     },
     "execution_count": 26,
     "metadata": {},
     "output_type": "execute_result"
    }
   ],
   "source": [
    "len(a)"
   ]
  },
  {
   "cell_type": "code",
   "execution_count": 27,
   "metadata": {},
   "outputs": [
    {
     "data": {
      "text/plain": [
       "1"
      ]
     },
     "execution_count": 27,
     "metadata": {},
     "output_type": "execute_result"
    }
   ],
   "source": [
    "len(d)"
   ]
  },
  {
   "cell_type": "code",
   "execution_count": 28,
   "metadata": {},
   "outputs": [
    {
     "data": {
      "text/plain": [
       "'helloworld'"
      ]
     },
     "execution_count": 28,
     "metadata": {},
     "output_type": "execute_result"
    }
   ],
   "source": [
    "a=\"helloworld\"\n",
    "a"
   ]
  },
  {
   "cell_type": "code",
   "execution_count": 29,
   "metadata": {},
   "outputs": [
    {
     "ename": "NameError",
     "evalue": "name 'lower' is not defined",
     "output_type": "error",
     "traceback": [
      "\u001b[1;31m---------------------------------------------------------------------------\u001b[0m",
      "\u001b[1;31mNameError\u001b[0m                                 Traceback (most recent call last)",
      "\u001b[1;32m<ipython-input-29-231f313e9585>\u001b[0m in \u001b[0;36m<module>\u001b[1;34m\u001b[0m\n\u001b[1;32m----> 1\u001b[1;33m \u001b[0mlower\u001b[0m\u001b[1;33m(\u001b[0m\u001b[0ma\u001b[0m\u001b[1;33m)\u001b[0m\u001b[1;33m\u001b[0m\u001b[1;33m\u001b[0m\u001b[0m\n\u001b[0m",
      "\u001b[1;31mNameError\u001b[0m: name 'lower' is not defined"
     ]
    }
   ],
   "source": [
    "lower(a)"
   ]
  },
  {
   "cell_type": "code",
   "execution_count": 30,
   "metadata": {},
   "outputs": [
    {
     "ename": "NameError",
     "evalue": "name 'lower' is not defined",
     "output_type": "error",
     "traceback": [
      "\u001b[1;31m---------------------------------------------------------------------------\u001b[0m",
      "\u001b[1;31mNameError\u001b[0m                                 Traceback (most recent call last)",
      "\u001b[1;32m<ipython-input-30-f0993d42d7e0>\u001b[0m in \u001b[0;36m<module>\u001b[1;34m\u001b[0m\n\u001b[1;32m----> 1\u001b[1;33m \u001b[0mlower\u001b[0m\u001b[1;33m(\u001b[0m\u001b[0ma\u001b[0m\u001b[1;33m.\u001b[0m\u001b[0mlower\u001b[0m\u001b[1;33m)\u001b[0m\u001b[1;33m\u001b[0m\u001b[1;33m\u001b[0m\u001b[0m\n\u001b[0m",
      "\u001b[1;31mNameError\u001b[0m: name 'lower' is not defined"
     ]
    }
   ],
   "source": [
    "lower(a.lower)"
   ]
  },
  {
   "cell_type": "code",
   "execution_count": 32,
   "metadata": {},
   "outputs": [
    {
     "data": {
      "text/plain": [
       "'helloworld'"
      ]
     },
     "execution_count": 32,
     "metadata": {},
     "output_type": "execute_result"
    }
   ],
   "source": [
    "a.lower()"
   ]
  },
  {
   "cell_type": "code",
   "execution_count": 33,
   "metadata": {},
   "outputs": [
    {
     "data": {
      "text/plain": [
       "'HELLOWORLD'"
      ]
     },
     "execution_count": 33,
     "metadata": {},
     "output_type": "execute_result"
    }
   ],
   "source": [
    "a.upper()"
   ]
  },
  {
   "cell_type": "code",
   "execution_count": 34,
   "metadata": {},
   "outputs": [
    {
     "ename": "NameError",
     "evalue": "name 'script' is not defined",
     "output_type": "error",
     "traceback": [
      "\u001b[1;31m---------------------------------------------------------------------------\u001b[0m",
      "\u001b[1;31mNameError\u001b[0m                                 Traceback (most recent call last)",
      "\u001b[1;32m<ipython-input-34-bb15e11a1ba9>\u001b[0m in \u001b[0;36m<module>\u001b[1;34m\u001b[0m\n\u001b[0;32m      1\u001b[0m \u001b[0ma\u001b[0m\u001b[1;33m=\u001b[0m\u001b[1;34m\"  Hello  \"\u001b[0m\u001b[1;33m\u001b[0m\u001b[1;33m\u001b[0m\u001b[0m\n\u001b[1;32m----> 2\u001b[1;33m \u001b[0mscript\u001b[0m\u001b[1;33m(\u001b[0m\u001b[0ma\u001b[0m\u001b[1;33m)\u001b[0m\u001b[1;33m\u001b[0m\u001b[1;33m\u001b[0m\u001b[0m\n\u001b[0m",
      "\u001b[1;31mNameError\u001b[0m: name 'script' is not defined"
     ]
    }
   ],
   "source": [
    "a=\"  Hello  \"\n",
    "script(a)"
   ]
  },
  {
   "cell_type": "code",
   "execution_count": 35,
   "metadata": {},
   "outputs": [
    {
     "ename": "AttributeError",
     "evalue": "'str' object has no attribute 'script'",
     "output_type": "error",
     "traceback": [
      "\u001b[1;31m---------------------------------------------------------------------------\u001b[0m",
      "\u001b[1;31mAttributeError\u001b[0m                            Traceback (most recent call last)",
      "\u001b[1;32m<ipython-input-35-8af380c939e1>\u001b[0m in \u001b[0;36m<module>\u001b[1;34m\u001b[0m\n\u001b[1;32m----> 1\u001b[1;33m \u001b[0ma\u001b[0m\u001b[1;33m.\u001b[0m\u001b[0mscript\u001b[0m\u001b[1;33m(\u001b[0m\u001b[1;33m)\u001b[0m\u001b[1;33m\u001b[0m\u001b[1;33m\u001b[0m\u001b[0m\n\u001b[0m",
      "\u001b[1;31mAttributeError\u001b[0m: 'str' object has no attribute 'script'"
     ]
    }
   ],
   "source": [
    "a.script()"
   ]
  },
  {
   "cell_type": "code",
   "execution_count": 36,
   "metadata": {},
   "outputs": [
    {
     "data": {
      "text/plain": [
       "'Hello'"
      ]
     },
     "execution_count": 36,
     "metadata": {},
     "output_type": "execute_result"
    }
   ],
   "source": [
    "a.strip()"
   ]
  },
  {
   "cell_type": "code",
   "execution_count": 37,
   "metadata": {},
   "outputs": [
    {
     "ename": "NameError",
     "evalue": "name 'replace' is not defined",
     "output_type": "error",
     "traceback": [
      "\u001b[1;31m---------------------------------------------------------------------------\u001b[0m",
      "\u001b[1;31mNameError\u001b[0m                                 Traceback (most recent call last)",
      "\u001b[1;32m<ipython-input-37-74c1a744ef6e>\u001b[0m in \u001b[0;36m<module>\u001b[1;34m\u001b[0m\n\u001b[0;32m      1\u001b[0m \u001b[0mb\u001b[0m\u001b[1;33m=\u001b[0m\u001b[1;34m\"mehul\"\u001b[0m\u001b[1;33m\u001b[0m\u001b[1;33m\u001b[0m\u001b[0m\n\u001b[1;32m----> 2\u001b[1;33m \u001b[0mreplace\u001b[0m\u001b[1;33m(\u001b[0m\u001b[1;34m\"a\"\u001b[0m \u001b[1;33m,\u001b[0m\u001b[1;34m\"b\"\u001b[0m\u001b[1;33m)\u001b[0m\u001b[1;33m\u001b[0m\u001b[1;33m\u001b[0m\u001b[0m\n\u001b[0m",
      "\u001b[1;31mNameError\u001b[0m: name 'replace' is not defined"
     ]
    }
   ],
   "source": [
    "b=\"mehul\"\n",
    "replace(\"a\" ,\"b\")"
   ]
  },
  {
   "cell_type": "code",
   "execution_count": 39,
   "metadata": {},
   "outputs": [
    {
     "data": {
      "text/plain": [
       "'lehul'"
      ]
     },
     "execution_count": 39,
     "metadata": {},
     "output_type": "execute_result"
    }
   ],
   "source": [
    "b.replace(\"m\",\"l\")"
   ]
  },
  {
   "cell_type": "code",
   "execution_count": 40,
   "metadata": {},
   "outputs": [
    {
     "data": {
      "text/plain": [
       "'heggo'"
      ]
     },
     "execution_count": 40,
     "metadata": {},
     "output_type": "execute_result"
    }
   ],
   "source": [
    "a=\"hello\"\n",
    "a.replace(\"l\",\"g\")"
   ]
  },
  {
   "cell_type": "code",
   "execution_count": 41,
   "metadata": {},
   "outputs": [
    {
     "data": {
      "text/plain": [
       "'hlolo'"
      ]
     },
     "execution_count": 41,
     "metadata": {},
     "output_type": "execute_result"
    }
   ],
   "source": [
    "a.replace(\"el\",\"lo\")"
   ]
  },
  {
   "cell_type": "code",
   "execution_count": 42,
   "metadata": {},
   "outputs": [
    {
     "ename": "TypeError",
     "evalue": "'str' object does not support item assignment",
     "output_type": "error",
     "traceback": [
      "\u001b[1;31m---------------------------------------------------------------------------\u001b[0m",
      "\u001b[1;31mTypeError\u001b[0m                                 Traceback (most recent call last)",
      "\u001b[1;32m<ipython-input-42-9cb14d9b4983>\u001b[0m in \u001b[0;36m<module>\u001b[1;34m\u001b[0m\n\u001b[1;32m----> 1\u001b[1;33m \u001b[0ma\u001b[0m\u001b[1;33m[\u001b[0m\u001b[1;36m2\u001b[0m\u001b[1;33m]\u001b[0m\u001b[1;33m=\u001b[0m\u001b[1;34m\"b\"\u001b[0m\u001b[1;33m\u001b[0m\u001b[1;33m\u001b[0m\u001b[0m\n\u001b[0m\u001b[0;32m      2\u001b[0m \u001b[0mprint\u001b[0m\u001b[1;33m(\u001b[0m\u001b[0ma\u001b[0m\u001b[1;33m)\u001b[0m\u001b[1;33m\u001b[0m\u001b[1;33m\u001b[0m\u001b[0m\n",
      "\u001b[1;31mTypeError\u001b[0m: 'str' object does not support item assignment"
     ]
    }
   ],
   "source": [
    "a[2]=\"b\"\n",
    "print(a)"
   ]
  },
  {
   "cell_type": "code",
   "execution_count": 43,
   "metadata": {},
   "outputs": [
    {
     "ename": "TypeError",
     "evalue": "'str' object does not support item assignment",
     "output_type": "error",
     "traceback": [
      "\u001b[1;31m---------------------------------------------------------------------------\u001b[0m",
      "\u001b[1;31mTypeError\u001b[0m                                 Traceback (most recent call last)",
      "\u001b[1;32m<ipython-input-43-d103379c4add>\u001b[0m in \u001b[0;36m<module>\u001b[1;34m\u001b[0m\n\u001b[1;32m----> 1\u001b[1;33m \u001b[0ma\u001b[0m\u001b[1;33m[\u001b[0m\u001b[1;36m2\u001b[0m\u001b[1;33m]\u001b[0m\u001b[1;33m=\u001b[0m\u001b[0mb\u001b[0m\u001b[1;33m\u001b[0m\u001b[1;33m\u001b[0m\u001b[0m\n\u001b[0m\u001b[0;32m      2\u001b[0m \u001b[0ma\u001b[0m\u001b[1;33m\u001b[0m\u001b[1;33m\u001b[0m\u001b[0m\n",
      "\u001b[1;31mTypeError\u001b[0m: 'str' object does not support item assignment"
     ]
    }
   ],
   "source": [
    "a[2]=b\n",
    "a"
   ]
  },
  {
   "cell_type": "code",
   "execution_count": 45,
   "metadata": {},
   "outputs": [
    {
     "data": {
      "text/plain": [
       "'22'"
      ]
     },
     "execution_count": 45,
     "metadata": {},
     "output_type": "execute_result"
    }
   ],
   "source": [
    "a=\"2\"\n",
    "b=\"2\"\n",
    "a+b\n"
   ]
  },
  {
   "cell_type": "code",
   "execution_count": 46,
   "metadata": {},
   "outputs": [
    {
     "ename": "TypeError",
     "evalue": "can only concatenate str (not \"int\") to str",
     "output_type": "error",
     "traceback": [
      "\u001b[1;31m---------------------------------------------------------------------------\u001b[0m",
      "\u001b[1;31mTypeError\u001b[0m                                 Traceback (most recent call last)",
      "\u001b[1;32m<ipython-input-46-956b9671eb93>\u001b[0m in \u001b[0;36m<module>\u001b[1;34m\u001b[0m\n\u001b[0;32m      1\u001b[0m \u001b[0ma\u001b[0m\u001b[1;33m=\u001b[0m\u001b[1;36m18\u001b[0m\u001b[1;33m\u001b[0m\u001b[1;33m\u001b[0m\u001b[0m\n\u001b[0;32m      2\u001b[0m \u001b[0mb\u001b[0m\u001b[1;33m=\u001b[0m\u001b[1;34m\"my age is\"\u001b[0m\u001b[1;33m\u001b[0m\u001b[1;33m\u001b[0m\u001b[0m\n\u001b[1;32m----> 3\u001b[1;33m \u001b[0mprint\u001b[0m\u001b[1;33m(\u001b[0m\u001b[0mb\u001b[0m\u001b[1;33m+\u001b[0m\u001b[0ma\u001b[0m\u001b[1;33m)\u001b[0m\u001b[1;33m\u001b[0m\u001b[1;33m\u001b[0m\u001b[0m\n\u001b[0m\u001b[0;32m      4\u001b[0m \u001b[1;33m\u001b[0m\u001b[0m\n",
      "\u001b[1;31mTypeError\u001b[0m: can only concatenate str (not \"int\") to str"
     ]
    }
   ],
   "source": [
    "a=18\n",
    "b=\"my age is\"\n",
    "print(b+a)\n",
    "\n"
   ]
  },
  {
   "cell_type": "code",
   "execution_count": 48,
   "metadata": {},
   "outputs": [
    {
     "name": "stdout",
     "output_type": "stream",
     "text": [
      "my age is18\n"
     ]
    }
   ],
   "source": [
    "print(b+ str(a))\n"
   ]
  },
  {
   "cell_type": "code",
   "execution_count": 49,
   "metadata": {},
   "outputs": [
    {
     "ename": "TypeError",
     "evalue": "can only concatenate str (not \"int\") to str",
     "output_type": "error",
     "traceback": [
      "\u001b[1;31m---------------------------------------------------------------------------\u001b[0m",
      "\u001b[1;31mTypeError\u001b[0m                                 Traceback (most recent call last)",
      "\u001b[1;32m<ipython-input-49-f03a15187d34>\u001b[0m in \u001b[0;36m<module>\u001b[1;34m\u001b[0m\n\u001b[1;32m----> 1\u001b[1;33m \u001b[0mprint\u001b[0m\u001b[1;33m(\u001b[0m\u001b[1;34m\"my age is\"\u001b[0m\u001b[1;33m+\u001b[0m\u001b[0ma\u001b[0m\u001b[1;33m)\u001b[0m\u001b[1;33m\u001b[0m\u001b[1;33m\u001b[0m\u001b[0m\n\u001b[0m",
      "\u001b[1;31mTypeError\u001b[0m: can only concatenate str (not \"int\") to str"
     ]
    }
   ],
   "source": [
    "print(\"my age is\"+a)"
   ]
  },
  {
   "cell_type": "code",
   "execution_count": 51,
   "metadata": {},
   "outputs": [],
   "source": [
    "l=[1,2,3,4]\n"
   ]
  },
  {
   "cell_type": "code",
   "execution_count": 53,
   "metadata": {},
   "outputs": [
    {
     "data": {
      "text/plain": [
       "[1, 2, 3, 4]"
      ]
     },
     "execution_count": 53,
     "metadata": {},
     "output_type": "execute_result"
    }
   ],
   "source": [
    "l=[1,2,3,4]\n",
    "l"
   ]
  },
  {
   "cell_type": "code",
   "execution_count": 54,
   "metadata": {},
   "outputs": [
    {
     "data": {
      "text/plain": [
       "(1, 2, 3, 4)"
      ]
     },
     "execution_count": 54,
     "metadata": {},
     "output_type": "execute_result"
    }
   ],
   "source": [
    "t=(1,2,3,4)\n",
    "t"
   ]
  },
  {
   "cell_type": "code",
   "execution_count": 55,
   "metadata": {},
   "outputs": [
    {
     "data": {
      "text/plain": [
       "{1, 2, 3, 4}"
      ]
     },
     "execution_count": 55,
     "metadata": {},
     "output_type": "execute_result"
    }
   ],
   "source": [
    "d={1,2,3,4}\n",
    "d"
   ]
  },
  {
   "cell_type": "code",
   "execution_count": 56,
   "metadata": {},
   "outputs": [
    {
     "data": {
      "text/plain": [
       "3"
      ]
     },
     "execution_count": 56,
     "metadata": {},
     "output_type": "execute_result"
    }
   ],
   "source": [
    "l[2]\n"
   ]
  },
  {
   "cell_type": "code",
   "execution_count": 57,
   "metadata": {},
   "outputs": [
    {
     "ename": "TypeError",
     "evalue": "'tuple' object is not callable",
     "output_type": "error",
     "traceback": [
      "\u001b[1;31m---------------------------------------------------------------------------\u001b[0m",
      "\u001b[1;31mTypeError\u001b[0m                                 Traceback (most recent call last)",
      "\u001b[1;32m<ipython-input-57-1dd261525d7c>\u001b[0m in \u001b[0;36m<module>\u001b[1;34m\u001b[0m\n\u001b[1;32m----> 1\u001b[1;33m \u001b[0mt\u001b[0m\u001b[1;33m(\u001b[0m\u001b[1;36m3\u001b[0m\u001b[1;33m)\u001b[0m\u001b[1;33m\u001b[0m\u001b[1;33m\u001b[0m\u001b[0m\n\u001b[0m",
      "\u001b[1;31mTypeError\u001b[0m: 'tuple' object is not callable"
     ]
    }
   ],
   "source": [
    "t(3)"
   ]
  },
  {
   "cell_type": "code",
   "execution_count": 58,
   "metadata": {},
   "outputs": [
    {
     "ename": "SyntaxError",
     "evalue": "invalid syntax (<ipython-input-58-9a0b61b076dd>, line 1)",
     "output_type": "error",
     "traceback": [
      "\u001b[1;36m  File \u001b[1;32m\"<ipython-input-58-9a0b61b076dd>\"\u001b[1;36m, line \u001b[1;32m1\u001b[0m\n\u001b[1;33m    d{2}\u001b[0m\n\u001b[1;37m     ^\u001b[0m\n\u001b[1;31mSyntaxError\u001b[0m\u001b[1;31m:\u001b[0m invalid syntax\n"
     ]
    }
   ],
   "source": [
    "d{2}"
   ]
  },
  {
   "cell_type": "code",
   "execution_count": 60,
   "metadata": {},
   "outputs": [
    {
     "data": {
      "text/plain": [
       "[1, 2, 6, 4]"
      ]
     },
     "execution_count": 60,
     "metadata": {},
     "output_type": "execute_result"
    }
   ],
   "source": [
    "l[2]=6\n",
    "l"
   ]
  },
  {
   "cell_type": "code",
   "execution_count": 61,
   "metadata": {},
   "outputs": [
    {
     "ename": "SyntaxError",
     "evalue": "can't assign to function call (<ipython-input-61-865ce1101108>, line 1)",
     "output_type": "error",
     "traceback": [
      "\u001b[1;36m  File \u001b[1;32m\"<ipython-input-61-865ce1101108>\"\u001b[1;36m, line \u001b[1;32m1\u001b[0m\n\u001b[1;33m    t(2)=6\u001b[0m\n\u001b[1;37m          ^\u001b[0m\n\u001b[1;31mSyntaxError\u001b[0m\u001b[1;31m:\u001b[0m can't assign to function call\n"
     ]
    }
   ],
   "source": [
    "t(2)=6\n",
    "t"
   ]
  },
  {
   "cell_type": "code",
   "execution_count": 62,
   "metadata": {},
   "outputs": [
    {
     "ename": "TypeError",
     "evalue": "'tuple' object does not support item assignment",
     "output_type": "error",
     "traceback": [
      "\u001b[1;31m---------------------------------------------------------------------------\u001b[0m",
      "\u001b[1;31mTypeError\u001b[0m                                 Traceback (most recent call last)",
      "\u001b[1;32m<ipython-input-62-90dcb84a040c>\u001b[0m in \u001b[0;36m<module>\u001b[1;34m\u001b[0m\n\u001b[1;32m----> 1\u001b[1;33m \u001b[0mt\u001b[0m\u001b[1;33m[\u001b[0m\u001b[1;36m2\u001b[0m\u001b[1;33m]\u001b[0m\u001b[1;33m=\u001b[0m\u001b[1;36m7\u001b[0m\u001b[1;33m\u001b[0m\u001b[1;33m\u001b[0m\u001b[0m\n\u001b[0m\u001b[0;32m      2\u001b[0m \u001b[0mt\u001b[0m\u001b[1;33m\u001b[0m\u001b[1;33m\u001b[0m\u001b[0m\n",
      "\u001b[1;31mTypeError\u001b[0m: 'tuple' object does not support item assignment"
     ]
    }
   ],
   "source": [
    "t[2]=7\n",
    "t"
   ]
  },
  {
   "cell_type": "code",
   "execution_count": 63,
   "metadata": {},
   "outputs": [
    {
     "ename": "SyntaxError",
     "evalue": "invalid syntax (<ipython-input-63-ffde3d13ceeb>, line 1)",
     "output_type": "error",
     "traceback": [
      "\u001b[1;36m  File \u001b[1;32m\"<ipython-input-63-ffde3d13ceeb>\"\u001b[1;36m, line \u001b[1;32m1\u001b[0m\n\u001b[1;33m    d{2}=5\u001b[0m\n\u001b[1;37m     ^\u001b[0m\n\u001b[1;31mSyntaxError\u001b[0m\u001b[1;31m:\u001b[0m invalid syntax\n"
     ]
    }
   ],
   "source": [
    "d{2}=5\n",
    "d"
   ]
  },
  {
   "cell_type": "code",
   "execution_count": 64,
   "metadata": {},
   "outputs": [
    {
     "ename": "TypeError",
     "evalue": "'set' object does not support item assignment",
     "output_type": "error",
     "traceback": [
      "\u001b[1;31m---------------------------------------------------------------------------\u001b[0m",
      "\u001b[1;31mTypeError\u001b[0m                                 Traceback (most recent call last)",
      "\u001b[1;32m<ipython-input-64-5e03a16b139c>\u001b[0m in \u001b[0;36m<module>\u001b[1;34m\u001b[0m\n\u001b[1;32m----> 1\u001b[1;33m \u001b[0md\u001b[0m\u001b[1;33m[\u001b[0m\u001b[1;36m2\u001b[0m\u001b[1;33m]\u001b[0m\u001b[1;33m=\u001b[0m\u001b[1;36m5\u001b[0m\u001b[1;33m\u001b[0m\u001b[1;33m\u001b[0m\u001b[0m\n\u001b[0m\u001b[0;32m      2\u001b[0m \u001b[0md\u001b[0m\u001b[1;33m\u001b[0m\u001b[1;33m\u001b[0m\u001b[0m\n",
      "\u001b[1;31mTypeError\u001b[0m: 'set' object does not support item assignment"
     ]
    }
   ],
   "source": [
    "d[2]=5\n",
    "d"
   ]
  },
  {
   "cell_type": "code",
   "execution_count": 66,
   "metadata": {},
   "outputs": [
    {
     "data": {
      "text/plain": [
       "[1, 2, 6, 4, 6, 6]"
      ]
     },
     "execution_count": 66,
     "metadata": {},
     "output_type": "execute_result"
    }
   ],
   "source": [
    "l.append(6)\n",
    "l"
   ]
  },
  {
   "cell_type": "code",
   "execution_count": 67,
   "metadata": {},
   "outputs": [
    {
     "data": {
      "text/plain": [
       "[1, 2, 6, 4, 6, 6, 8]"
      ]
     },
     "execution_count": 67,
     "metadata": {},
     "output_type": "execute_result"
    }
   ],
   "source": [
    "l.append(8)\n",
    "l"
   ]
  },
  {
   "cell_type": "code",
   "execution_count": 68,
   "metadata": {},
   "outputs": [
    {
     "ename": "AttributeError",
     "evalue": "'tuple' object has no attribute 'append'",
     "output_type": "error",
     "traceback": [
      "\u001b[1;31m---------------------------------------------------------------------------\u001b[0m",
      "\u001b[1;31mAttributeError\u001b[0m                            Traceback (most recent call last)",
      "\u001b[1;32m<ipython-input-68-6c6280637054>\u001b[0m in \u001b[0;36m<module>\u001b[1;34m\u001b[0m\n\u001b[1;32m----> 1\u001b[1;33m \u001b[0mt\u001b[0m\u001b[1;33m.\u001b[0m\u001b[0mappend\u001b[0m\u001b[1;33m(\u001b[0m\u001b[1;36m8\u001b[0m\u001b[1;33m)\u001b[0m\u001b[1;33m\u001b[0m\u001b[1;33m\u001b[0m\u001b[0m\n\u001b[0m\u001b[0;32m      2\u001b[0m \u001b[0mt\u001b[0m\u001b[1;33m\u001b[0m\u001b[1;33m\u001b[0m\u001b[0m\n",
      "\u001b[1;31mAttributeError\u001b[0m: 'tuple' object has no attribute 'append'"
     ]
    }
   ],
   "source": [
    "t.append(8)\n",
    "t"
   ]
  },
  {
   "cell_type": "code",
   "execution_count": 69,
   "metadata": {},
   "outputs": [
    {
     "ename": "AttributeError",
     "evalue": "'set' object has no attribute 'append'",
     "output_type": "error",
     "traceback": [
      "\u001b[1;31m---------------------------------------------------------------------------\u001b[0m",
      "\u001b[1;31mAttributeError\u001b[0m                            Traceback (most recent call last)",
      "\u001b[1;32m<ipython-input-69-06df94d09c0d>\u001b[0m in \u001b[0;36m<module>\u001b[1;34m\u001b[0m\n\u001b[1;32m----> 1\u001b[1;33m \u001b[0md\u001b[0m\u001b[1;33m.\u001b[0m\u001b[0mappend\u001b[0m\u001b[1;33m(\u001b[0m\u001b[1;36m7\u001b[0m\u001b[1;33m)\u001b[0m\u001b[1;33m\u001b[0m\u001b[1;33m\u001b[0m\u001b[0m\n\u001b[0m\u001b[0;32m      2\u001b[0m \u001b[0md\u001b[0m\u001b[1;33m\u001b[0m\u001b[1;33m\u001b[0m\u001b[0m\n",
      "\u001b[1;31mAttributeError\u001b[0m: 'set' object has no attribute 'append'"
     ]
    }
   ],
   "source": [
    "d.append(7)\n",
    "d"
   ]
  },
  {
   "cell_type": "code",
   "execution_count": 70,
   "metadata": {},
   "outputs": [
    {
     "data": {
      "text/plain": [
       "7"
      ]
     },
     "execution_count": 70,
     "metadata": {},
     "output_type": "execute_result"
    }
   ],
   "source": [
    "len(l)"
   ]
  },
  {
   "cell_type": "code",
   "execution_count": 71,
   "metadata": {},
   "outputs": [
    {
     "data": {
      "text/plain": [
       "8"
      ]
     },
     "execution_count": 71,
     "metadata": {},
     "output_type": "execute_result"
    }
   ],
   "source": [
    "l.pop()\n"
   ]
  },
  {
   "cell_type": "code",
   "execution_count": 72,
   "metadata": {},
   "outputs": [
    {
     "data": {
      "text/plain": [
       "[1, 2, 6, 4, 6, 6]"
      ]
     },
     "execution_count": 72,
     "metadata": {},
     "output_type": "execute_result"
    }
   ],
   "source": [
    "l"
   ]
  },
  {
   "cell_type": "code",
   "execution_count": 74,
   "metadata": {},
   "outputs": [
    {
     "ename": "AttributeError",
     "evalue": "'list' object has no attribute 'push'",
     "output_type": "error",
     "traceback": [
      "\u001b[1;31m---------------------------------------------------------------------------\u001b[0m",
      "\u001b[1;31mAttributeError\u001b[0m                            Traceback (most recent call last)",
      "\u001b[1;32m<ipython-input-74-856e956bc647>\u001b[0m in \u001b[0;36m<module>\u001b[1;34m\u001b[0m\n\u001b[1;32m----> 1\u001b[1;33m \u001b[0ml\u001b[0m\u001b[1;33m.\u001b[0m\u001b[0mpush\u001b[0m\u001b[1;33m(\u001b[0m\u001b[1;36m0\u001b[0m\u001b[1;33m)\u001b[0m\u001b[1;33m\u001b[0m\u001b[1;33m\u001b[0m\u001b[0m\n\u001b[0m\u001b[0;32m      2\u001b[0m \u001b[0ml\u001b[0m\u001b[1;33m\u001b[0m\u001b[1;33m\u001b[0m\u001b[0m\n",
      "\u001b[1;31mAttributeError\u001b[0m: 'list' object has no attribute 'push'"
     ]
    }
   ],
   "source": [
    "l.push(0)\n",
    "l"
   ]
  },
  {
   "cell_type": "code",
   "execution_count": 75,
   "metadata": {},
   "outputs": [
    {
     "data": {
      "text/plain": [
       "[1, 2, 9, 6, 4, 6, 6]"
      ]
     },
     "execution_count": 75,
     "metadata": {},
     "output_type": "execute_result"
    }
   ],
   "source": [
    "l.insert(2,9)\n",
    "l"
   ]
  },
  {
   "cell_type": "code",
   "execution_count": 76,
   "metadata": {},
   "outputs": [
    {
     "ename": "TypeError",
     "evalue": "remove() takes exactly one argument (2 given)",
     "output_type": "error",
     "traceback": [
      "\u001b[1;31m---------------------------------------------------------------------------\u001b[0m",
      "\u001b[1;31mTypeError\u001b[0m                                 Traceback (most recent call last)",
      "\u001b[1;32m<ipython-input-76-bded48ad58c0>\u001b[0m in \u001b[0;36m<module>\u001b[1;34m\u001b[0m\n\u001b[1;32m----> 1\u001b[1;33m \u001b[0ml\u001b[0m\u001b[1;33m.\u001b[0m\u001b[0mremove\u001b[0m\u001b[1;33m(\u001b[0m\u001b[1;36m2\u001b[0m\u001b[1;33m,\u001b[0m\u001b[1;36m9\u001b[0m\u001b[1;33m)\u001b[0m\u001b[1;33m\u001b[0m\u001b[1;33m\u001b[0m\u001b[0m\n\u001b[0m\u001b[0;32m      2\u001b[0m \u001b[0ml\u001b[0m\u001b[1;33m\u001b[0m\u001b[1;33m\u001b[0m\u001b[0m\n",
      "\u001b[1;31mTypeError\u001b[0m: remove() takes exactly one argument (2 given)"
     ]
    }
   ],
   "source": [
    "l.remove(2,9)\n",
    "l"
   ]
  },
  {
   "cell_type": "code",
   "execution_count": 77,
   "metadata": {},
   "outputs": [
    {
     "ename": "ValueError",
     "evalue": "list.remove(x): x not in list",
     "output_type": "error",
     "traceback": [
      "\u001b[1;31m---------------------------------------------------------------------------\u001b[0m",
      "\u001b[1;31mValueError\u001b[0m                                Traceback (most recent call last)",
      "\u001b[1;32m<ipython-input-77-a16c39d372c5>\u001b[0m in \u001b[0;36m<module>\u001b[1;34m\u001b[0m\n\u001b[1;32m----> 1\u001b[1;33m \u001b[0ml\u001b[0m\u001b[1;33m.\u001b[0m\u001b[0mremove\u001b[0m\u001b[1;33m(\u001b[0m\u001b[1;36m3\u001b[0m\u001b[1;33m)\u001b[0m\u001b[1;33m\u001b[0m\u001b[1;33m\u001b[0m\u001b[0m\n\u001b[0m",
      "\u001b[1;31mValueError\u001b[0m: list.remove(x): x not in list"
     ]
    }
   ],
   "source": [
    "l.remove(3)"
   ]
  },
  {
   "cell_type": "code",
   "execution_count": 78,
   "metadata": {},
   "outputs": [
    {
     "data": {
      "text/plain": [
       "[1, 2, 9, 6, 4, 6, 6]"
      ]
     },
     "execution_count": 78,
     "metadata": {},
     "output_type": "execute_result"
    }
   ],
   "source": [
    "l"
   ]
  },
  {
   "cell_type": "code",
   "execution_count": 79,
   "metadata": {},
   "outputs": [],
   "source": [
    "l.remove(2)"
   ]
  },
  {
   "cell_type": "code",
   "execution_count": 80,
   "metadata": {},
   "outputs": [
    {
     "data": {
      "text/plain": [
       "[1, 9, 6, 4, 6, 6]"
      ]
     },
     "execution_count": 80,
     "metadata": {},
     "output_type": "execute_result"
    }
   ],
   "source": [
    "l"
   ]
  },
  {
   "cell_type": "code",
   "execution_count": 81,
   "metadata": {},
   "outputs": [
    {
     "data": {
      "text/plain": [
       "[1, 9, 4, 6, 6]"
      ]
     },
     "execution_count": 81,
     "metadata": {},
     "output_type": "execute_result"
    }
   ],
   "source": [
    "l.remove(6)\n",
    "l"
   ]
  },
  {
   "cell_type": "code",
   "execution_count": 83,
   "metadata": {},
   "outputs": [
    {
     "data": {
      "text/plain": [
       "[1, 9, 4, 6]"
      ]
     },
     "execution_count": 83,
     "metadata": {},
     "output_type": "execute_result"
    }
   ],
   "source": [
    "l.pop(3)\n",
    "l"
   ]
  },
  {
   "cell_type": "code",
   "execution_count": 84,
   "metadata": {},
   "outputs": [],
   "source": [
    "del(l)\n"
   ]
  },
  {
   "cell_type": "code",
   "execution_count": 85,
   "metadata": {},
   "outputs": [
    {
     "ename": "NameError",
     "evalue": "name 'l' is not defined",
     "output_type": "error",
     "traceback": [
      "\u001b[1;31m---------------------------------------------------------------------------\u001b[0m",
      "\u001b[1;31mNameError\u001b[0m                                 Traceback (most recent call last)",
      "\u001b[1;32m<ipython-input-85-cde25b5e10ad>\u001b[0m in \u001b[0;36m<module>\u001b[1;34m\u001b[0m\n\u001b[1;32m----> 1\u001b[1;33m \u001b[0ml\u001b[0m\u001b[1;33m\u001b[0m\u001b[1;33m\u001b[0m\u001b[0m\n\u001b[0m",
      "\u001b[1;31mNameError\u001b[0m: name 'l' is not defined"
     ]
    }
   ],
   "source": [
    "l"
   ]
  },
  {
   "cell_type": "code",
   "execution_count": 86,
   "metadata": {},
   "outputs": [
    {
     "ename": "NameError",
     "evalue": "name 'l' is not defined",
     "output_type": "error",
     "traceback": [
      "\u001b[1;31m---------------------------------------------------------------------------\u001b[0m",
      "\u001b[1;31mNameError\u001b[0m                                 Traceback (most recent call last)",
      "\u001b[1;32m<ipython-input-86-cde25b5e10ad>\u001b[0m in \u001b[0;36m<module>\u001b[1;34m\u001b[0m\n\u001b[1;32m----> 1\u001b[1;33m \u001b[0ml\u001b[0m\u001b[1;33m\u001b[0m\u001b[1;33m\u001b[0m\u001b[0m\n\u001b[0m",
      "\u001b[1;31mNameError\u001b[0m: name 'l' is not defined"
     ]
    }
   ],
   "source": [
    "l"
   ]
  },
  {
   "cell_type": "code",
   "execution_count": 87,
   "metadata": {},
   "outputs": [
    {
     "data": {
      "text/plain": [
       "[1, 2, 3, 4, 5, 6, 7, 8]"
      ]
     },
     "execution_count": 87,
     "metadata": {},
     "output_type": "execute_result"
    }
   ],
   "source": [
    "l=[1,2,3,4,5,6,7,8]\n",
    "l.copy()"
   ]
  },
  {
   "cell_type": "code",
   "execution_count": 88,
   "metadata": {},
   "outputs": [
    {
     "data": {
      "text/plain": [
       "[1, 2, 3, 4, 5, 6, 7, 8]"
      ]
     },
     "execution_count": 88,
     "metadata": {},
     "output_type": "execute_result"
    }
   ],
   "source": [
    "m=l.copy()\n",
    "m"
   ]
  },
  {
   "cell_type": "code",
   "execution_count": 89,
   "metadata": {},
   "outputs": [],
   "source": [
    "e=l.sort()\n",
    "e\n"
   ]
  },
  {
   "cell_type": "code",
   "execution_count": 90,
   "metadata": {},
   "outputs": [
    {
     "data": {
      "text/plain": [
       "[1, 1, 2, 7, 8]"
      ]
     },
     "execution_count": 90,
     "metadata": {},
     "output_type": "execute_result"
    }
   ],
   "source": [
    "e=[1,2,8,7,1]\n",
    "e.sort()\n",
    "e"
   ]
  },
  {
   "cell_type": "code",
   "execution_count": 91,
   "metadata": {},
   "outputs": [
    {
     "ename": "NameError",
     "evalue": "name 'split' is not defined",
     "output_type": "error",
     "traceback": [
      "\u001b[1;31m---------------------------------------------------------------------------\u001b[0m",
      "\u001b[1;31mNameError\u001b[0m                                 Traceback (most recent call last)",
      "\u001b[1;32m<ipython-input-91-4bcdbeb621d6>\u001b[0m in \u001b[0;36m<module>\u001b[1;34m\u001b[0m\n\u001b[0;32m      1\u001b[0m \u001b[0ma\u001b[0m\u001b[1;33m=\u001b[0m\u001b[1;34m\"hello world\"\u001b[0m\u001b[1;33m\u001b[0m\u001b[1;33m\u001b[0m\u001b[0m\n\u001b[1;32m----> 2\u001b[1;33m \u001b[0msplit\u001b[0m\u001b[1;33m(\u001b[0m\u001b[0ma\u001b[0m\u001b[1;33m)\u001b[0m\u001b[1;33m\u001b[0m\u001b[1;33m\u001b[0m\u001b[0m\n\u001b[0m",
      "\u001b[1;31mNameError\u001b[0m: name 'split' is not defined"
     ]
    }
   ],
   "source": [
    "a=\"hello world\"\n",
    "split(a)\n"
   ]
  },
  {
   "cell_type": "code",
   "execution_count": 92,
   "metadata": {},
   "outputs": [
    {
     "data": {
      "text/plain": [
       "['hello', 'world']"
      ]
     },
     "execution_count": 92,
     "metadata": {},
     "output_type": "execute_result"
    }
   ],
   "source": [
    "a.split()"
   ]
  },
  {
   "cell_type": "code",
   "execution_count": 93,
   "metadata": {},
   "outputs": [
    {
     "data": {
      "text/plain": [
       "['my', 'name', 'is', 'rishabh']"
      ]
     },
     "execution_count": 93,
     "metadata": {},
     "output_type": "execute_result"
    }
   ],
   "source": [
    "a=\"my name is rishabh\"\n",
    "a.split()"
   ]
  },
  {
   "cell_type": "code",
   "execution_count": 94,
   "metadata": {},
   "outputs": [
    {
     "ename": "SyntaxError",
     "evalue": "invalid syntax (<ipython-input-94-9d4d436dd53b>, line 2)",
     "output_type": "error",
     "traceback": [
      "\u001b[1;36m  File \u001b[1;32m\"<ipython-input-94-9d4d436dd53b>\"\u001b[1;36m, line \u001b[1;32m2\u001b[0m\n\u001b[1;33m    b:age\u001b[0m\n\u001b[1;37m    ^\u001b[0m\n\u001b[1;31mSyntaxError\u001b[0m\u001b[1;31m:\u001b[0m invalid syntax\n"
     ]
    }
   ],
   "source": [
    "d={a:Name\n",
    "  b:age\n",
    "  c:marks}\n",
    "d"
   ]
  },
  {
   "cell_type": "code",
   "execution_count": 97,
   "metadata": {},
   "outputs": [
    {
     "data": {
      "text/plain": [
       "{'a': 'name', 'b': 'age'}"
      ]
     },
     "execution_count": 97,
     "metadata": {},
     "output_type": "execute_result"
    }
   ],
   "source": [
    "d={\"a\":\"name\",\n",
    "  \"b\":\"age\"}\n",
    "d"
   ]
  },
  {
   "cell_type": "code",
   "execution_count": 98,
   "metadata": {},
   "outputs": [
    {
     "data": {
      "text/plain": [
       "'a'"
      ]
     },
     "execution_count": 98,
     "metadata": {},
     "output_type": "execute_result"
    }
   ],
   "source": [
    "\"a\""
   ]
  },
  {
   "cell_type": "code",
   "execution_count": 99,
   "metadata": {},
   "outputs": [
    {
     "ename": "KeyError",
     "evalue": "2",
     "output_type": "error",
     "traceback": [
      "\u001b[1;31m---------------------------------------------------------------------------\u001b[0m",
      "\u001b[1;31mKeyError\u001b[0m                                  Traceback (most recent call last)",
      "\u001b[1;32m<ipython-input-99-b41cae771af5>\u001b[0m in \u001b[0;36m<module>\u001b[1;34m\u001b[0m\n\u001b[1;32m----> 1\u001b[1;33m \u001b[0md\u001b[0m\u001b[1;33m[\u001b[0m\u001b[1;36m2\u001b[0m\u001b[1;33m]\u001b[0m\u001b[1;33m\u001b[0m\u001b[1;33m\u001b[0m\u001b[0m\n\u001b[0m",
      "\u001b[1;31mKeyError\u001b[0m: 2"
     ]
    }
   ],
   "source": [
    "d[2]"
   ]
  },
  {
   "cell_type": "code",
   "execution_count": 100,
   "metadata": {},
   "outputs": [
    {
     "data": {
      "text/plain": [
       "{'a': 'name', 'b': 'age'}"
      ]
     },
     "execution_count": 100,
     "metadata": {},
     "output_type": "execute_result"
    }
   ],
   "source": [
    "d"
   ]
  },
  {
   "cell_type": "code",
   "execution_count": 101,
   "metadata": {},
   "outputs": [
    {
     "data": {
      "text/plain": [
       "'name'"
      ]
     },
     "execution_count": 101,
     "metadata": {},
     "output_type": "execute_result"
    }
   ],
   "source": [
    "d['a']"
   ]
  },
  {
   "cell_type": "code",
   "execution_count": 102,
   "metadata": {},
   "outputs": [],
   "source": [
    "d[\"a\"]=\"rishabh\""
   ]
  },
  {
   "cell_type": "code",
   "execution_count": 103,
   "metadata": {},
   "outputs": [
    {
     "data": {
      "text/plain": [
       "{'a': 'rishabh', 'b': 'age'}"
      ]
     },
     "execution_count": 103,
     "metadata": {},
     "output_type": "execute_result"
    }
   ],
   "source": [
    "d"
   ]
  },
  {
   "cell_type": "code",
   "execution_count": 104,
   "metadata": {},
   "outputs": [
    {
     "data": {
      "text/plain": [
       "{'a': 'rishabh'}"
      ]
     },
     "execution_count": 104,
     "metadata": {},
     "output_type": "execute_result"
    }
   ],
   "source": [
    "d.pop(\"b\")\n",
    "d"
   ]
  },
  {
   "cell_type": "code",
   "execution_count": 105,
   "metadata": {},
   "outputs": [],
   "source": [
    "del(d)\n"
   ]
  },
  {
   "cell_type": "code",
   "execution_count": 106,
   "metadata": {},
   "outputs": [
    {
     "ename": "NameError",
     "evalue": "name 'd' is not defined",
     "output_type": "error",
     "traceback": [
      "\u001b[1;31m---------------------------------------------------------------------------\u001b[0m",
      "\u001b[1;31mNameError\u001b[0m                                 Traceback (most recent call last)",
      "\u001b[1;32m<ipython-input-106-e983f374794d>\u001b[0m in \u001b[0;36m<module>\u001b[1;34m\u001b[0m\n\u001b[1;32m----> 1\u001b[1;33m \u001b[0md\u001b[0m\u001b[1;33m\u001b[0m\u001b[1;33m\u001b[0m\u001b[0m\n\u001b[0m",
      "\u001b[1;31mNameError\u001b[0m: name 'd' is not defined"
     ]
    }
   ],
   "source": [
    "d"
   ]
  },
  {
   "cell_type": "code",
   "execution_count": 107,
   "metadata": {},
   "outputs": [
    {
     "data": {
      "text/plain": [
       "{'a': 'name', 'b': 'age'}"
      ]
     },
     "execution_count": 107,
     "metadata": {},
     "output_type": "execute_result"
    }
   ],
   "source": [
    "d={\"a\":\"name\",\n",
    "  \"b\":\"age\"}\n",
    "d"
   ]
  },
  {
   "cell_type": "code",
   "execution_count": 108,
   "metadata": {},
   "outputs": [
    {
     "data": {
      "text/plain": [
       "2"
      ]
     },
     "execution_count": 108,
     "metadata": {},
     "output_type": "execute_result"
    }
   ],
   "source": [
    "len(d)"
   ]
  },
  {
   "cell_type": "code",
   "execution_count": 109,
   "metadata": {},
   "outputs": [
    {
     "data": {
      "text/plain": [
       "{'a': 'name', 'b': 'age'}"
      ]
     },
     "execution_count": 109,
     "metadata": {},
     "output_type": "execute_result"
    }
   ],
   "source": [
    "k=d.copy()\n",
    "k"
   ]
  },
  {
   "cell_type": "code",
   "execution_count": 110,
   "metadata": {},
   "outputs": [
    {
     "ename": "TypeError",
     "evalue": "pop expected at least 1 arguments, got 0",
     "output_type": "error",
     "traceback": [
      "\u001b[1;31m---------------------------------------------------------------------------\u001b[0m",
      "\u001b[1;31mTypeError\u001b[0m                                 Traceback (most recent call last)",
      "\u001b[1;32m<ipython-input-110-a2b4e1f89ff3>\u001b[0m in \u001b[0;36m<module>\u001b[1;34m\u001b[0m\n\u001b[1;32m----> 1\u001b[1;33m \u001b[0mk\u001b[0m\u001b[1;33m.\u001b[0m\u001b[0mpop\u001b[0m\u001b[1;33m(\u001b[0m\u001b[1;33m)\u001b[0m\u001b[1;33m\u001b[0m\u001b[1;33m\u001b[0m\u001b[0m\n\u001b[0m\u001b[0;32m      2\u001b[0m \u001b[0mk\u001b[0m\u001b[1;33m\u001b[0m\u001b[1;33m\u001b[0m\u001b[0m\n",
      "\u001b[1;31mTypeError\u001b[0m: pop expected at least 1 arguments, got 0"
     ]
    }
   ],
   "source": [
    "k.pop()\n",
    "k"
   ]
  },
  {
   "cell_type": "code",
   "execution_count": 111,
   "metadata": {},
   "outputs": [
    {
     "data": {
      "text/plain": [
       "{'a': 'name'}"
      ]
     },
     "execution_count": 111,
     "metadata": {},
     "output_type": "execute_result"
    }
   ],
   "source": [
    "k.popitem()\n",
    "k"
   ]
  },
  {
   "cell_type": "code",
   "execution_count": null,
   "metadata": {},
   "outputs": [],
   "source": []
  },
  {
   "cell_type": "code",
   "execution_count": 112,
   "metadata": {},
   "outputs": [
    {
     "data": {
      "text/plain": [
       "dict_keys(['a', 'b'])"
      ]
     },
     "execution_count": 112,
     "metadata": {},
     "output_type": "execute_result"
    }
   ],
   "source": [
    "d.keys()"
   ]
  },
  {
   "cell_type": "code",
   "execution_count": 113,
   "metadata": {},
   "outputs": [
    {
     "data": {
      "text/plain": [
       "dict_values(['name', 'age'])"
      ]
     },
     "execution_count": 113,
     "metadata": {},
     "output_type": "execute_result"
    }
   ],
   "source": [
    "d.values()"
   ]
  },
  {
   "cell_type": "code",
   "execution_count": 114,
   "metadata": {},
   "outputs": [
    {
     "data": {
      "text/plain": [
       "{'a': 'name', 'b': 'a'}"
      ]
     },
     "execution_count": 114,
     "metadata": {},
     "output_type": "execute_result"
    }
   ],
   "source": [
    "d['b']='a'\n",
    "d"
   ]
  },
  {
   "cell_type": "code",
   "execution_count": 115,
   "metadata": {},
   "outputs": [
    {
     "data": {
      "text/plain": [
       "{'a': 'name', 'b': 'name'}"
      ]
     },
     "execution_count": 115,
     "metadata": {},
     "output_type": "execute_result"
    }
   ],
   "source": [
    "d['b']=d['a']\n",
    "d"
   ]
  },
  {
   "cell_type": "code",
   "execution_count": 117,
   "metadata": {},
   "outputs": [
    {
     "data": {
      "text/plain": [
       "'name'"
      ]
     },
     "execution_count": 117,
     "metadata": {},
     "output_type": "execute_result"
    }
   ],
   "source": [
    "d['a']"
   ]
  },
  {
   "cell_type": "code",
   "execution_count": 118,
   "metadata": {},
   "outputs": [
    {
     "ename": "ModuleNotFoundError",
     "evalue": "No module named 'wedbrowser'",
     "output_type": "error",
     "traceback": [
      "\u001b[1;31m---------------------------------------------------------------------------\u001b[0m",
      "\u001b[1;31mModuleNotFoundError\u001b[0m                       Traceback (most recent call last)",
      "\u001b[1;32m<ipython-input-118-1b81691e3786>\u001b[0m in \u001b[0;36m<module>\u001b[1;34m\u001b[0m\n\u001b[1;32m----> 1\u001b[1;33m \u001b[1;32mimport\u001b[0m \u001b[0mwedbrowser\u001b[0m \u001b[1;32mas\u001b[0m \u001b[0mwb\u001b[0m\u001b[1;33m\u001b[0m\u001b[1;33m\u001b[0m\u001b[0m\n\u001b[0m",
      "\u001b[1;31mModuleNotFoundError\u001b[0m: No module named 'wedbrowser'"
     ]
    }
   ],
   "source": [
    "import wedbrowser as wb"
   ]
  },
  {
   "cell_type": "code",
   "execution_count": 119,
   "metadata": {},
   "outputs": [
    {
     "ename": "ModuleNotFoundError",
     "evalue": "No module named 'wedbrowser'",
     "output_type": "error",
     "traceback": [
      "\u001b[1;31m---------------------------------------------------------------------------\u001b[0m",
      "\u001b[1;31mModuleNotFoundError\u001b[0m                       Traceback (most recent call last)",
      "\u001b[1;32m<ipython-input-119-96e17eb25600>\u001b[0m in \u001b[0;36m<module>\u001b[1;34m\u001b[0m\n\u001b[1;32m----> 1\u001b[1;33m \u001b[1;32mimport\u001b[0m \u001b[0mwedbrowser\u001b[0m \u001b[1;32mas\u001b[0m \u001b[0mwb\u001b[0m\u001b[1;33m\u001b[0m\u001b[1;33m\u001b[0m\u001b[0m\n\u001b[0m\u001b[0;32m      2\u001b[0m \u001b[0mwb\u001b[0m\u001b[1;33m.\u001b[0m\u001b[0mopen_new_tab\u001b[0m\u001b[1;33m(\u001b[0m\u001b[1;34m''\u001b[0m\u001b[1;33m)\u001b[0m\u001b[1;33m\u001b[0m\u001b[1;33m\u001b[0m\u001b[0m\n",
      "\u001b[1;31mModuleNotFoundError\u001b[0m: No module named 'wedbrowser'"
     ]
    }
   ],
   "source": [
    "import wedbrowser as wb\n"
   ]
  },
  {
   "cell_type": "code",
   "execution_count": 120,
   "metadata": {},
   "outputs": [
    {
     "ename": "NameError",
     "evalue": "name 'wb' is not defined",
     "output_type": "error",
     "traceback": [
      "\u001b[1;31m---------------------------------------------------------------------------\u001b[0m",
      "\u001b[1;31mNameError\u001b[0m                                 Traceback (most recent call last)",
      "\u001b[1;32m<ipython-input-120-eb49e0fcbefd>\u001b[0m in \u001b[0;36m<module>\u001b[1;34m\u001b[0m\n\u001b[1;32m----> 1\u001b[1;33m \u001b[0mwb\u001b[0m\u001b[1;33m.\u001b[0m\u001b[0mopen_new_tab\u001b[0m\u001b[1;33m(\u001b[0m\u001b[1;34m''\u001b[0m\u001b[1;33m)\u001b[0m\u001b[1;33m\u001b[0m\u001b[1;33m\u001b[0m\u001b[0m\n\u001b[0m",
      "\u001b[1;31mNameError\u001b[0m: name 'wb' is not defined"
     ]
    }
   ],
   "source": [
    "wb.open_new_tab('')"
   ]
  },
  {
   "cell_type": "code",
   "execution_count": 121,
   "metadata": {},
   "outputs": [
    {
     "ename": "ModuleNotFoundError",
     "evalue": "No module named 'wedbrowser'",
     "output_type": "error",
     "traceback": [
      "\u001b[1;31m---------------------------------------------------------------------------\u001b[0m",
      "\u001b[1;31mModuleNotFoundError\u001b[0m                       Traceback (most recent call last)",
      "\u001b[1;32m<ipython-input-121-1b81691e3786>\u001b[0m in \u001b[0;36m<module>\u001b[1;34m\u001b[0m\n\u001b[1;32m----> 1\u001b[1;33m \u001b[1;32mimport\u001b[0m \u001b[0mwedbrowser\u001b[0m \u001b[1;32mas\u001b[0m \u001b[0mwb\u001b[0m\u001b[1;33m\u001b[0m\u001b[1;33m\u001b[0m\u001b[0m\n\u001b[0m",
      "\u001b[1;31mModuleNotFoundError\u001b[0m: No module named 'wedbrowser'"
     ]
    }
   ],
   "source": [
    "import wedbrowser as wb"
   ]
  },
  {
   "cell_type": "code",
   "execution_count": 124,
   "metadata": {},
   "outputs": [
    {
     "ename": "ModuleNotFoundError",
     "evalue": "No module named 'wedbrowser'",
     "output_type": "error",
     "traceback": [
      "\u001b[1;31m---------------------------------------------------------------------------\u001b[0m",
      "\u001b[1;31mModuleNotFoundError\u001b[0m                       Traceback (most recent call last)",
      "\u001b[1;32m<ipython-input-124-090e41b3e756>\u001b[0m in \u001b[0;36m<module>\u001b[1;34m\u001b[0m\n\u001b[1;32m----> 1\u001b[1;33m \u001b[1;32mimport\u001b[0m \u001b[0mwedbrowser\u001b[0m\u001b[1;33m\u001b[0m\u001b[1;33m\u001b[0m\u001b[0m\n\u001b[0m",
      "\u001b[1;31mModuleNotFoundError\u001b[0m: No module named 'wedbrowser'"
     ]
    }
   ],
   "source": [
    "import wedbrowser"
   ]
  },
  {
   "cell_type": "code",
   "execution_count": 125,
   "metadata": {},
   "outputs": [
    {
     "ename": "NameError",
     "evalue": "name 'wb' is not defined",
     "output_type": "error",
     "traceback": [
      "\u001b[1;31m---------------------------------------------------------------------------\u001b[0m",
      "\u001b[1;31mNameError\u001b[0m                                 Traceback (most recent call last)",
      "\u001b[1;32m<ipython-input-125-eb49e0fcbefd>\u001b[0m in \u001b[0;36m<module>\u001b[1;34m\u001b[0m\n\u001b[1;32m----> 1\u001b[1;33m \u001b[0mwb\u001b[0m\u001b[1;33m.\u001b[0m\u001b[0mopen_new_tab\u001b[0m\u001b[1;33m(\u001b[0m\u001b[1;34m''\u001b[0m\u001b[1;33m)\u001b[0m\u001b[1;33m\u001b[0m\u001b[1;33m\u001b[0m\u001b[0m\n\u001b[0m",
      "\u001b[1;31mNameError\u001b[0m: name 'wb' is not defined"
     ]
    }
   ],
   "source": [
    "wb.open_new_tab('')"
   ]
  },
  {
   "cell_type": "code",
   "execution_count": 127,
   "metadata": {},
   "outputs": [],
   "source": [
    "import webbrowser as wb\n"
   ]
  },
  {
   "cell_type": "code",
   "execution_count": 128,
   "metadata": {},
   "outputs": [
    {
     "data": {
      "text/plain": [
       "True"
      ]
     },
     "execution_count": 128,
     "metadata": {},
     "output_type": "execute_result"
    }
   ],
   "source": [
    "wb.open_new_tab('www.google.com')"
   ]
  },
  {
   "cell_type": "code",
   "execution_count": 129,
   "metadata": {},
   "outputs": [
    {
     "name": "stdout",
     "output_type": "stream",
     "text": [
      "Enter your namerishabh\n"
     ]
    }
   ],
   "source": [
    "a=input(\"Enter your name\")"
   ]
  },
  {
   "cell_type": "code",
   "execution_count": 1,
   "metadata": {},
   "outputs": [
    {
     "name": "stdout",
     "output_type": "stream",
     "text": [
      "searchmohit\n"
     ]
    },
    {
     "ename": "NameError",
     "evalue": "name 'wb' is not defined",
     "output_type": "error",
     "traceback": [
      "\u001b[1;31m---------------------------------------------------------------------------\u001b[0m",
      "\u001b[1;31mNameError\u001b[0m                                 Traceback (most recent call last)",
      "\u001b[1;32m<ipython-input-1-987cfda82eea>\u001b[0m in \u001b[0;36m<module>\u001b[1;34m\u001b[0m\n\u001b[0;32m      1\u001b[0m \u001b[0msearch\u001b[0m\u001b[1;33m=\u001b[0m\u001b[0minput\u001b[0m\u001b[1;33m(\u001b[0m\u001b[1;34m'search'\u001b[0m\u001b[1;33m)\u001b[0m\u001b[1;33m\u001b[0m\u001b[1;33m\u001b[0m\u001b[0m\n\u001b[1;32m----> 2\u001b[1;33m \u001b[0mbrowse\u001b[0m \u001b[1;33m=\u001b[0m \u001b[0mwb\u001b[0m\u001b[1;33m.\u001b[0m\u001b[0mopen_new_tab\u001b[0m\u001b[1;33m(\u001b[0m\u001b[1;34m'https://www.google.com/search?q={}'\u001b[0m\u001b[1;33m.\u001b[0m\u001b[0mformat\u001b[0m\u001b[1;33m(\u001b[0m\u001b[0msearch\u001b[0m\u001b[1;33m)\u001b[0m\u001b[1;33m)\u001b[0m\u001b[1;33m\u001b[0m\u001b[1;33m\u001b[0m\u001b[0m\n\u001b[0m",
      "\u001b[1;31mNameError\u001b[0m: name 'wb' is not defined"
     ]
    }
   ],
   "source": [
    "search=input('search')\n",
    "browse = wb.open_new_tab('https://www.google.com/search?q={}'.format(search))"
   ]
  },
  {
   "cell_type": "code",
   "execution_count": 2,
   "metadata": {},
   "outputs": [],
   "source": [
    "import webbrowser as wb"
   ]
  },
  {
   "cell_type": "code",
   "execution_count": 3,
   "metadata": {},
   "outputs": [
    {
     "data": {
      "text/plain": [
       "True"
      ]
     },
     "execution_count": 3,
     "metadata": {},
     "output_type": "execute_result"
    }
   ],
   "source": [
    "wb.open_new_tab('www.google.com')"
   ]
  },
  {
   "cell_type": "code",
   "execution_count": 4,
   "metadata": {},
   "outputs": [
    {
     "name": "stdout",
     "output_type": "stream",
     "text": [
      "searchhloo\n"
     ]
    }
   ],
   "source": [
    "search=input('search')\n",
    "browse = wb.open_new_tab('https://www.google.com/search?q={}'.format(search))"
   ]
  },
  {
   "cell_type": "code",
   "execution_count": 5,
   "metadata": {},
   "outputs": [
    {
     "name": "stdout",
     "output_type": "stream",
     "text": [
      "searchmehul\n"
     ]
    }
   ],
   "source": [
    "search=input('search')\n",
    "browse = wb.open_new_tab('https://www.youtube.com/results?search_query={}'.format(search))"
   ]
  },
  {
   "cell_type": "code",
   "execution_count": 6,
   "metadata": {},
   "outputs": [
    {
     "name": "stdout",
     "output_type": "stream",
     "text": [
      "searchgandu\n"
     ]
    }
   ],
   "source": [
    "search=input('search')\n",
    "browse = wb.open_new_tab('https://www.youtube.com/results?search_query={}'.format(search))"
   ]
  },
  {
   "cell_type": "code",
   "execution_count": 7,
   "metadata": {},
   "outputs": [
    {
     "ename": "NameError",
     "evalue": "name 'true' is not defined",
     "output_type": "error",
     "traceback": [
      "\u001b[1;31m---------------------------------------------------------------------------\u001b[0m",
      "\u001b[1;31mNameError\u001b[0m                                 Traceback (most recent call last)",
      "\u001b[1;32m<ipython-input-7-407112037cdb>\u001b[0m in \u001b[0;36m<module>\u001b[1;34m\u001b[0m\n\u001b[0;32m      2\u001b[0m \u001b[0mb\u001b[0m\u001b[1;33m=\u001b[0m\u001b[1;36m4\u001b[0m\u001b[1;33m\u001b[0m\u001b[1;33m\u001b[0m\u001b[0m\n\u001b[0;32m      3\u001b[0m \u001b[1;32mif\u001b[0m \u001b[1;33m(\u001b[0m\u001b[0ma\u001b[0m\u001b[1;33m>\u001b[0m\u001b[0mb\u001b[0m\u001b[1;33m)\u001b[0m\u001b[1;33m:\u001b[0m\u001b[1;33m\u001b[0m\u001b[1;33m\u001b[0m\u001b[0m\n\u001b[1;32m----> 4\u001b[1;33m     \u001b[0mtrue\u001b[0m\u001b[1;33m\u001b[0m\u001b[1;33m\u001b[0m\u001b[0m\n\u001b[0m\u001b[0;32m      5\u001b[0m \u001b[1;32melse\u001b[0m\u001b[1;33m:\u001b[0m\u001b[1;33m\u001b[0m\u001b[1;33m\u001b[0m\u001b[0m\n\u001b[0;32m      6\u001b[0m     \u001b[0mfalse\u001b[0m\u001b[1;33m\u001b[0m\u001b[1;33m\u001b[0m\u001b[0m\n",
      "\u001b[1;31mNameError\u001b[0m: name 'true' is not defined"
     ]
    }
   ],
   "source": [
    "a=5\n",
    "b=4\n",
    "if (a>b):\n",
    "    true\n",
    "else:\n",
    "    false\n",
    "   "
   ]
  },
  {
   "cell_type": "code",
   "execution_count": 8,
   "metadata": {},
   "outputs": [
    {
     "name": "stdout",
     "output_type": "stream",
     "text": [
      "true\n"
     ]
    }
   ],
   "source": [
    "a=5\n",
    "b=4\n",
    "if (a>b):\n",
    "    print('true')\n",
    "else:\n",
    "    print('false')\n",
    "   "
   ]
  },
  {
   "cell_type": "code",
   "execution_count": 9,
   "metadata": {},
   "outputs": [
    {
     "name": "stdout",
     "output_type": "stream",
     "text": [
      "true\n"
     ]
    }
   ],
   "source": [
    "a=4\n",
    "b=4\n",
    "if (a==b):\n",
    "    print('true')\n",
    "else:\n",
    "    print('false')\n",
    "   "
   ]
  },
  {
   "cell_type": "code",
   "execution_count": 10,
   "metadata": {},
   "outputs": [
    {
     "name": "stdout",
     "output_type": "stream",
     "text": [
      "true\n"
     ]
    }
   ],
   "source": [
    "a=5\n",
    "b=4\n",
    "if (a!=b):\n",
    "    print('true')\n",
    "else:\n",
    "    print('false')\n",
    "   "
   ]
  },
  {
   "cell_type": "code",
   "execution_count": 11,
   "metadata": {},
   "outputs": [
    {
     "name": "stdout",
     "output_type": "stream",
     "text": [
      "false\n"
     ]
    }
   ],
   "source": [
    "a=6\n",
    "b=4\n",
    "if (a<=b):\n",
    "    print('true')\n",
    "else:\n",
    "    print('false')\n",
    "   "
   ]
  },
  {
   "cell_type": "code",
   "execution_count": 12,
   "metadata": {},
   "outputs": [
    {
     "name": "stdout",
     "output_type": "stream",
     "text": [
      "true\n"
     ]
    }
   ],
   "source": [
    "a=7\n",
    "b=4\n",
    "if (a>=b):\n",
    "    print('true')\n",
    "else:\n",
    "    print('false')\n",
    "   "
   ]
  },
  {
   "cell_type": "code",
   "execution_count": 13,
   "metadata": {},
   "outputs": [
    {
     "name": "stdout",
     "output_type": "stream",
     "text": [
      "true\n"
     ]
    }
   ],
   "source": [
    "a=4\n",
    "b=4\n",
    "if (a>=b):\n",
    "    print('true')\n",
    "else:\n",
    "    print('false')\n",
    "   "
   ]
  },
  {
   "cell_type": "code",
   "execution_count": 14,
   "metadata": {},
   "outputs": [
    {
     "name": "stdout",
     "output_type": "stream",
     "text": [
      "true\n"
     ]
    }
   ],
   "source": [
    "a=4\n",
    "b=4\n",
    "if (a<=b):\n",
    "    print('true')\n",
    "else:\n",
    "    print('false')\n",
    "   "
   ]
  },
  {
   "cell_type": "code",
   "execution_count": 15,
   "metadata": {},
   "outputs": [
    {
     "name": "stdout",
     "output_type": "stream",
     "text": [
      "c is greater\n"
     ]
    }
   ],
   "source": [
    "a=5\n",
    "b=4\n",
    "c=6\n",
    "if (a>b):\n",
    "    if(a>c):\n",
    "         print('a is greater')\n",
    "if(b>a):\n",
    "    if(b>c):\n",
    "        print('b is greater')\n",
    "if(c>a):\n",
    "    if(c>b):\n",
    "        print('c is greater')\n",
    "              \n",
    "   "
   ]
  },
  {
   "cell_type": "code",
   "execution_count": 16,
   "metadata": {},
   "outputs": [
    {
     "name": "stdout",
     "output_type": "stream",
     "text": [
      "b is greater\n"
     ]
    }
   ],
   "source": [
    "a=3\n",
    "b=4\n",
    "if(a>b):\n",
    "    print('a is greater')\n",
    "elif(b>a):\n",
    "    print('b is greater')\n",
    "else:\n",
    "    print('a=b')"
   ]
  },
  {
   "cell_type": "code",
   "execution_count": 17,
   "metadata": {},
   "outputs": [
    {
     "name": "stdout",
     "output_type": "stream",
     "text": [
      "a is greater\n"
     ]
    }
   ],
   "source": [
    "a=6\n",
    "b=4\n",
    "if(a>b):\n",
    "    print('a is greater')\n",
    "elif(b>a):\n",
    "    print('b is greater')\n",
    "else:\n",
    "    print('a=b')"
   ]
  },
  {
   "cell_type": "code",
   "execution_count": 18,
   "metadata": {},
   "outputs": [
    {
     "name": "stdout",
     "output_type": "stream",
     "text": [
      "a=b\n"
     ]
    }
   ],
   "source": [
    "a=4\n",
    "b=4\n",
    "if(a>b):\n",
    "    print('a is greater')\n",
    "elif(b>a):\n",
    "    print('b is greater')\n",
    "else:\n",
    "    print('a=b')"
   ]
  },
  {
   "cell_type": "code",
   "execution_count": null,
   "metadata": {},
   "outputs": [],
   "source": [
    "a=3\n",
    "b=4\n",
    "while(b>a):\n",
    "      print('b is greater')\n"
   ]
  },
  {
   "cell_type": "code",
   "execution_count": null,
   "metadata": {},
   "outputs": [],
   "source": [
    "a=3\n",
    "b=4\n",
    "while(b>a):\n",
    "      print('b is greater')\n"
   ]
  },
  {
   "cell_type": "code",
   "execution_count": null,
   "metadata": {},
   "outputs": [],
   "source": [
    "a=3\n",
    "b=6\n",
    "c=a+b\n",
    "c"
   ]
  },
  {
   "cell_type": "code",
   "execution_count": null,
   "metadata": {},
   "outputs": [],
   "source": [
    "a=5\n",
    "a"
   ]
  },
  {
   "cell_type": "code",
   "execution_count": 1,
   "metadata": {},
   "outputs": [
    {
     "data": {
      "text/plain": [
       "8"
      ]
     },
     "execution_count": 1,
     "metadata": {},
     "output_type": "execute_result"
    }
   ],
   "source": [
    "a=8\n",
    "a"
   ]
  },
  {
   "cell_type": "code",
   "execution_count": 5,
   "metadata": {},
   "outputs": [
    {
     "name": "stdout",
     "output_type": "stream",
     "text": [
      "b is greater\n"
     ]
    }
   ],
   "source": [
    "a=3\n",
    "b=4\n",
    "while(b>a):\n",
    "      print('b is greater')\n",
    "      break"
   ]
  },
  {
   "cell_type": "code",
   "execution_count": 3,
   "metadata": {},
   "outputs": [
    {
     "ename": "SyntaxError",
     "evalue": "'break' outside loop (<ipython-input-3-caac46d0e03c>, line 8)",
     "output_type": "error",
     "traceback": [
      "\u001b[1;36m  File \u001b[1;32m\"<ipython-input-3-caac46d0e03c>\"\u001b[1;36m, line \u001b[1;32m8\u001b[0m\n\u001b[1;31mSyntaxError\u001b[0m\u001b[1;31m:\u001b[0m 'break' outside loop\n"
     ]
    }
   ],
   "source": [
    "a=3\n",
    "b=4\n",
    "while(b>a):\n",
    "      print('b is greater')\n",
    "break"
   ]
  },
  {
   "cell_type": "code",
   "execution_count": 4,
   "metadata": {},
   "outputs": [
    {
     "ename": "IndentationError",
     "evalue": "unexpected indent (<ipython-input-4-dff4f83ac4e3>, line 5)",
     "output_type": "error",
     "traceback": [
      "\u001b[1;36m  File \u001b[1;32m\"<ipython-input-4-dff4f83ac4e3>\"\u001b[1;36m, line \u001b[1;32m5\u001b[0m\n\u001b[1;33m    break\u001b[0m\n\u001b[1;37m    ^\u001b[0m\n\u001b[1;31mIndentationError\u001b[0m\u001b[1;31m:\u001b[0m unexpected indent\n"
     ]
    }
   ],
   "source": [
    "a=3\n",
    "b=4\n",
    "while(b>a):\n",
    "      print('b is greater')\n",
    "        break\n"
   ]
  },
  {
   "cell_type": "code",
   "execution_count": 5,
   "metadata": {},
   "outputs": [
    {
     "data": {
      "text/plain": [
       "[1, 3, 4, 2, 8, 5]"
      ]
     },
     "execution_count": 5,
     "metadata": {},
     "output_type": "execute_result"
    }
   ],
   "source": [
    "l=[1,3,4,2,8,5]\n",
    "l"
   ]
  },
  {
   "cell_type": "code",
   "execution_count": 1,
   "metadata": {},
   "outputs": [
    {
     "ename": "NameError",
     "evalue": "name 'l' is not defined",
     "output_type": "error",
     "traceback": [
      "\u001b[1;31m---------------------------------------------------------------------------\u001b[0m",
      "\u001b[1;31mNameError\u001b[0m                                 Traceback (most recent call last)",
      "\u001b[1;32m<ipython-input-1-cde25b5e10ad>\u001b[0m in \u001b[0;36m<module>\u001b[1;34m\u001b[0m\n\u001b[1;32m----> 1\u001b[1;33m \u001b[0ml\u001b[0m\u001b[1;33m\u001b[0m\u001b[1;33m\u001b[0m\u001b[0m\n\u001b[0m",
      "\u001b[1;31mNameError\u001b[0m: name 'l' is not defined"
     ]
    }
   ],
   "source": [
    "l"
   ]
  },
  {
   "cell_type": "code",
   "execution_count": 2,
   "metadata": {},
   "outputs": [
    {
     "data": {
      "text/plain": [
       "[1, 3, 4, 2, 8, 5]"
      ]
     },
     "execution_count": 2,
     "metadata": {},
     "output_type": "execute_result"
    }
   ],
   "source": [
    "l=[1,3,4,2,8,5]\n",
    "l"
   ]
  },
  {
   "cell_type": "code",
   "execution_count": 3,
   "metadata": {},
   "outputs": [
    {
     "name": "stdout",
     "output_type": "stream",
     "text": [
      "1\n",
      "3\n",
      "4\n",
      "2\n",
      "8\n",
      "5\n"
     ]
    }
   ],
   "source": [
    "l=[1,3,4,2,8,5]\n",
    "for i in l:\n",
    "    print(i)"
   ]
  },
  {
   "cell_type": "code",
   "execution_count": 4,
   "metadata": {},
   "outputs": [
    {
     "name": "stdout",
     "output_type": "stream",
     "text": [
      "0\n",
      "0\n",
      "0\n"
     ]
    }
   ],
   "source": [
    "l=['keshav','mehul','rohit']\n",
    "for i in l:\n",
    "    print(0)"
   ]
  },
  {
   "cell_type": "code",
   "execution_count": 5,
   "metadata": {},
   "outputs": [
    {
     "name": "stdout",
     "output_type": "stream",
     "text": [
      "keshav\n",
      "mehul\n",
      "rohit\n"
     ]
    }
   ],
   "source": [
    "l=['keshav','mehul','rohit']\n",
    "for i in l:\n",
    "    print(i)"
   ]
  },
  {
   "cell_type": "code",
   "execution_count": 6,
   "metadata": {},
   "outputs": [
    {
     "name": "stdout",
     "output_type": "stream",
     "text": [
      "k\n",
      "e\n",
      "s\n",
      "h\n",
      "a\n",
      "v\n"
     ]
    }
   ],
   "source": [
    "l=['k','e','s','h','a','v']\n",
    "for i in l:\n",
    "    print(i)"
   ]
  },
  {
   "cell_type": "code",
   "execution_count": 9,
   "metadata": {},
   "outputs": [
    {
     "name": "stdout",
     "output_type": "stream",
     "text": [
      "keshavvijay\n"
     ]
    }
   ],
   "source": [
    "l=['keshavvijay']\n",
    "for j in l:\n",
    "    print(j)"
   ]
  },
  {
   "cell_type": "code",
   "execution_count": 10,
   "metadata": {},
   "outputs": [
    {
     "name": "stdout",
     "output_type": "stream",
     "text": [
      "k\n",
      "e\n",
      "s\n",
      "h\n",
      "a\n",
      "v\n"
     ]
    }
   ],
   "source": [
    "l=['keshav','mehul','rohit']\n",
    "for i in l[0]:\n",
    "    print(i)"
   ]
  },
  {
   "cell_type": "code",
   "execution_count": 12,
   "metadata": {},
   "outputs": [
    {
     "name": "stdout",
     "output_type": "stream",
     "text": [
      "k\n",
      "e\n",
      "s\n",
      "h\n",
      "a\n",
      "v\n"
     ]
    }
   ],
   "source": [
    "for i in 'keshav':\n",
    "    print(i)"
   ]
  },
  {
   "cell_type": "code",
   "execution_count": 15,
   "metadata": {},
   "outputs": [
    {
     "name": "stdout",
     "output_type": "stream",
     "text": [
      "['keshav', 'mehul', 'rohit']\n",
      "['keshav', 'mehul', 'rohit']\n",
      "['keshav', 'mehul', 'rohit']\n"
     ]
    }
   ],
   "source": [
    "for i in l:\n",
    "    print(l)"
   ]
  },
  {
   "cell_type": "code",
   "execution_count": 6,
   "metadata": {},
   "outputs": [
    {
     "name": "stdout",
     "output_type": "stream",
     "text": [
      "k\n",
      "e\n",
      "s\n",
      "h\n",
      "a\n",
      "v\n",
      "m\n",
      "e\n",
      "h\n",
      "u\n",
      "l\n",
      "r\n",
      "o\n",
      "h\n",
      "i\n",
      "t\n"
     ]
    }
   ],
   "source": [
    "l=['keshav','mehul','rohit']\n",
    "for i in l:\n",
    "    for m in i:\n",
    "        print(m)\n",
    "    \n",
    "            "
   ]
  },
  {
   "cell_type": "code",
   "execution_count": 18,
   "metadata": {},
   "outputs": [
    {
     "data": {
      "text/plain": [
       "8"
      ]
     },
     "execution_count": 18,
     "metadata": {},
     "output_type": "execute_result"
    }
   ],
   "source": [
    "a=8\n",
    "a"
   ]
  },
  {
   "cell_type": "code",
   "execution_count": 31,
   "metadata": {},
   "outputs": [
    {
     "ename": "SyntaxError",
     "evalue": "invalid syntax (<ipython-input-31-ef1e6e94f3d5>, line 4)",
     "output_type": "error",
     "traceback": [
      "\u001b[1;36m  File \u001b[1;32m\"<ipython-input-31-ef1e6e94f3d5>\"\u001b[1;36m, line \u001b[1;32m4\u001b[0m\n\u001b[1;33m    else:\u001b[0m\n\u001b[1;37m       ^\u001b[0m\n\u001b[1;31mSyntaxError\u001b[0m\u001b[1;31m:\u001b[0m invalid syntax\n"
     ]
    }
   ],
   "source": [
    "l=['keshav','mehul','mohit']\n",
    "\n",
    "    "
   ]
  },
  {
   "cell_type": "code",
   "execution_count": 43,
   "metadata": {},
   "outputs": [
    {
     "name": "stdout",
     "output_type": "stream",
     "text": [
      "m\n",
      "o\n",
      "h\n",
      "i\n",
      "t\n"
     ]
    }
   ],
   "source": [
    "l=['keshav','mehul','mohit']\n",
    "for i in l[2]:\n",
    "    print(i[:1])"
   ]
  },
  {
   "cell_type": "code",
   "execution_count": 45,
   "metadata": {},
   "outputs": [
    {
     "ename": "SyntaxError",
     "evalue": "invalid syntax (<ipython-input-45-5b644fb38242>, line 2)",
     "output_type": "error",
     "traceback": [
      "\u001b[1;36m  File \u001b[1;32m\"<ipython-input-45-5b644fb38242>\"\u001b[1;36m, line \u001b[1;32m2\u001b[0m\n\u001b[1;33m    Hello World\u001b[0m\n\u001b[1;37m              ^\u001b[0m\n\u001b[1;31mSyntaxError\u001b[0m\u001b[1;31m:\u001b[0m invalid syntax\n"
     ]
    }
   ],
   "source": [
    "def rish():\n",
    "    Hello World\n",
    "rish()"
   ]
  },
  {
   "cell_type": "code",
   "execution_count": 46,
   "metadata": {},
   "outputs": [],
   "source": [
    "def ris():\n",
    "    print(\"hello world\")\n",
    "    "
   ]
  },
  {
   "cell_type": "code",
   "execution_count": 47,
   "metadata": {},
   "outputs": [
    {
     "name": "stdout",
     "output_type": "stream",
     "text": [
      "hello world\n"
     ]
    }
   ],
   "source": [
    "ris()"
   ]
  },
  {
   "cell_type": "code",
   "execution_count": 80,
   "metadata": {},
   "outputs": [
    {
     "name": "stdout",
     "output_type": "stream",
     "text": [
      "k\n",
      "e\n",
      "s\n",
      "h\n",
      "a\n",
      "v\n",
      "m\n",
      "e\n",
      "h\n",
      "u\n",
      "l\n",
      "m\n",
      "o\n",
      "h\n",
      "i\n",
      "t\n"
     ]
    }
   ],
   "source": [
    "def rj():\n",
    "    l=['keshav','mehul','mohit']\n",
    "    for i in l[0]:\n",
    "        print(i)\n",
    "    for j in l[1]:\n",
    "        print(j)\n",
    "    for k in l[2]:\n",
    "        print(k)\n",
    "rj()\n",
    "\n"
   ]
  },
  {
   "cell_type": "code",
   "execution_count": 56,
   "metadata": {},
   "outputs": [],
   "source": [
    "def rr():\n",
    "    l=['keshav','mehul','mohit']\n",
    "    for i in l[2]:\n",
    "        print(i[:1])\n"
   ]
  },
  {
   "cell_type": "code",
   "execution_count": 57,
   "metadata": {},
   "outputs": [
    {
     "name": "stdout",
     "output_type": "stream",
     "text": [
      "m\n",
      "o\n",
      "h\n",
      "i\n",
      "t\n"
     ]
    }
   ],
   "source": [
    "rr()"
   ]
  },
  {
   "cell_type": "code",
   "execution_count": 62,
   "metadata": {},
   "outputs": [],
   "source": [
    "def r(a):\n",
    "    print(\"hello world\"+a)\n"
   ]
  },
  {
   "cell_type": "code",
   "execution_count": 64,
   "metadata": {},
   "outputs": [
    {
     "name": "stdout",
     "output_type": "stream",
     "text": [
      "hello worldmanoj\n"
     ]
    }
   ],
   "source": [
    "r(\"manoj\")"
   ]
  },
  {
   "cell_type": "code",
   "execution_count": 65,
   "metadata": {},
   "outputs": [],
   "source": [
    "a=\"mehul\""
   ]
  },
  {
   "cell_type": "code",
   "execution_count": 66,
   "metadata": {},
   "outputs": [
    {
     "name": "stdout",
     "output_type": "stream",
     "text": [
      "hello worldmehul\n"
     ]
    }
   ],
   "source": [
    "r(a)"
   ]
  },
  {
   "cell_type": "code",
   "execution_count": 69,
   "metadata": {},
   "outputs": [],
   "source": [
    "l=[1,2,3,4,5]\n",
    "def rj(a):\n",
    "    print(a)    "
   ]
  },
  {
   "cell_type": "code",
   "execution_count": 70,
   "metadata": {},
   "outputs": [
    {
     "name": "stdout",
     "output_type": "stream",
     "text": [
      "[1, 2, 3, 4, 5]\n"
     ]
    }
   ],
   "source": [
    "rj(l)"
   ]
  },
  {
   "cell_type": "code",
   "execution_count": 71,
   "metadata": {},
   "outputs": [],
   "source": [
    "l=[1,2,3,4,5]\n",
    "def rj(a):\n",
    "    for i in l:\n",
    "         print(i)"
   ]
  },
  {
   "cell_type": "code",
   "execution_count": 72,
   "metadata": {},
   "outputs": [
    {
     "name": "stdout",
     "output_type": "stream",
     "text": [
      "1\n",
      "2\n",
      "3\n",
      "4\n",
      "5\n"
     ]
    }
   ],
   "source": [
    "rj(a)"
   ]
  },
  {
   "cell_type": "code",
   "execution_count": 73,
   "metadata": {},
   "outputs": [
    {
     "name": "stdout",
     "output_type": "stream",
     "text": [
      "[1, 2, 3, 4, 5]\n",
      "[1, 2, 3, 4, 5]\n",
      "[1, 2, 3, 4, 5]\n",
      "[1, 2, 3, 4, 5]\n",
      "[1, 2, 3, 4, 5]\n"
     ]
    }
   ],
   "source": [
    "l=[1,2,3,4,5]\n",
    "def rj(a):\n",
    "    for i in l:\n",
    "         print(l)\n",
    "rj(a)"
   ]
  },
  {
   "cell_type": "code",
   "execution_count": 74,
   "metadata": {},
   "outputs": [
    {
     "data": {
      "text/plain": [
       "[1, 2, 3, 4, 5]"
      ]
     },
     "execution_count": 74,
     "metadata": {},
     "output_type": "execute_result"
    }
   ],
   "source": [
    "a=[1,2,3,4,5]\n",
    "def r(a):\n",
    "    return(a)\n",
    "r(a)"
   ]
  },
  {
   "cell_type": "code",
   "execution_count": 75,
   "metadata": {},
   "outputs": [
    {
     "name": "stdout",
     "output_type": "stream",
     "text": [
      "0\n",
      "1\n",
      "2\n",
      "3\n",
      "4\n",
      "5\n",
      "6\n",
      "7\n",
      "8\n",
      "9\n"
     ]
    }
   ],
   "source": [
    "for i in range(10):\n",
    "    print(i)"
   ]
  },
  {
   "cell_type": "code",
   "execution_count": 76,
   "metadata": {},
   "outputs": [
    {
     "name": "stdout",
     "output_type": "stream",
     "text": [
      "10\n",
      "11\n",
      "12\n",
      "13\n",
      "14\n",
      "15\n",
      "16\n",
      "17\n",
      "18\n",
      "19\n"
     ]
    }
   ],
   "source": [
    "for i in range(10,20):\n",
    "    print (i)"
   ]
  },
  {
   "cell_type": "code",
   "execution_count": 77,
   "metadata": {},
   "outputs": [
    {
     "name": "stdout",
     "output_type": "stream",
     "text": [
      "10\n",
      "12\n",
      "14\n",
      "16\n",
      "18\n"
     ]
    }
   ],
   "source": [
    "for i in range(10,20,2):\n",
    "       print (i)"
   ]
  },
  {
   "cell_type": "code",
   "execution_count": 82,
   "metadata": {},
   "outputs": [
    {
     "name": "stdout",
     "output_type": "stream",
     "text": [
      "10\n",
      "15\n",
      "20\n"
     ]
    }
   ],
   "source": [
    "for i in range(10,21,5):\n",
    "    print (i)"
   ]
  },
  {
   "cell_type": "code",
   "execution_count": 99,
   "metadata": {},
   "outputs": [
    {
     "ename": "IndentationError",
     "evalue": "unexpected indent (<ipython-input-99-af450fd06ca5>, line 2)",
     "output_type": "error",
     "traceback": [
      "\u001b[1;36m  File \u001b[1;32m\"<ipython-input-99-af450fd06ca5>\"\u001b[1;36m, line \u001b[1;32m2\u001b[0m\n\u001b[1;33m    for i in range(1,11):\u001b[0m\n\u001b[1;37m    ^\u001b[0m\n\u001b[1;31mIndentationError\u001b[0m\u001b[1;31m:\u001b[0m unexpected indent\n"
     ]
    }
   ],
   "source": [
    "for i in range(1,11):\n",
    "        print(\"2\",\"*\",i,\"=\",i*2)       "
   ]
  },
  {
   "cell_type": "raw",
   "metadata": {},
   "source": [
    "  for i in range(1,11):\n",
    "        print(\"2\",\"*\",i,\"=\",i*2)       "
   ]
  },
  {
   "cell_type": "raw",
   "metadata": {},
   "source": [
    " for i in range(1,11):\n",
    "        print(\"2\",\"*\",i,\"=\",i*2)       "
   ]
  },
  {
   "cell_type": "code",
   "execution_count": 100,
   "metadata": {},
   "outputs": [
    {
     "name": "stdout",
     "output_type": "stream",
     "text": [
      "2 * 1 = 2\n",
      "2 * 2 = 4\n",
      "2 * 3 = 6\n",
      "2 * 4 = 8\n",
      "2 * 5 = 10\n",
      "2 * 6 = 12\n",
      "2 * 7 = 14\n",
      "2 * 8 = 16\n",
      "2 * 9 = 18\n",
      "2 * 10 = 20\n"
     ]
    }
   ],
   "source": [
    " for i in range(1,11):\n",
    "        print(\"2\",\"*\",i,\"=\",i*2)       "
   ]
  },
  {
   "cell_type": "code",
   "execution_count": 102,
   "metadata": {},
   "outputs": [
    {
     "name": "stdout",
     "output_type": "stream",
     "text": [
      "5\n",
      "10\n",
      "15\n",
      "20\n",
      "25\n",
      "30\n",
      "35\n",
      "40\n",
      "45\n",
      "50\n"
     ]
    }
   ],
   "source": [
    " for i in range(1,11):\n",
    "        print(i*5)       "
   ]
  },
  {
   "cell_type": "code",
   "execution_count": 103,
   "metadata": {},
   "outputs": [
    {
     "ename": "ModuleNotFoundError",
     "evalue": "No module named 'xyz'",
     "output_type": "error",
     "traceback": [
      "\u001b[1;31m---------------------------------------------------------------------------\u001b[0m",
      "\u001b[1;31mModuleNotFoundError\u001b[0m                       Traceback (most recent call last)",
      "\u001b[1;32m<ipython-input-103-573495e657d7>\u001b[0m in \u001b[0;36m<module>\u001b[1;34m\u001b[0m\n\u001b[1;32m----> 1\u001b[1;33m \u001b[1;32mimport\u001b[0m \u001b[0mxyz\u001b[0m\u001b[1;33m\u001b[0m\u001b[1;33m\u001b[0m\u001b[0m\n\u001b[0m",
      "\u001b[1;31mModuleNotFoundError\u001b[0m: No module named 'xyz'"
     ]
    }
   ],
   "source": [
    "import xyz"
   ]
  },
  {
   "cell_type": "code",
   "execution_count": 107,
   "metadata": {},
   "outputs": [
    {
     "ename": "ModuleNotFoundError",
     "evalue": "No module named 'xyz'",
     "output_type": "error",
     "traceback": [
      "\u001b[1;31m---------------------------------------------------------------------------\u001b[0m",
      "\u001b[1;31mModuleNotFoundError\u001b[0m                       Traceback (most recent call last)",
      "\u001b[1;32m<ipython-input-107-573495e657d7>\u001b[0m in \u001b[0;36m<module>\u001b[1;34m\u001b[0m\n\u001b[1;32m----> 1\u001b[1;33m \u001b[1;32mimport\u001b[0m \u001b[0mxyz\u001b[0m\u001b[1;33m\u001b[0m\u001b[1;33m\u001b[0m\u001b[0m\n\u001b[0m",
      "\u001b[1;31mModuleNotFoundError\u001b[0m: No module named 'xyz'"
     ]
    }
   ],
   "source": [
    "import xyz"
   ]
  },
  {
   "cell_type": "code",
   "execution_count": 109,
   "metadata": {},
   "outputs": [],
   "source": [
    "\n",
    "import xyz"
   ]
  },
  {
   "cell_type": "code",
   "execution_count": 112,
   "metadata": {},
   "outputs": [
    {
     "ename": "TypeError",
     "evalue": "r() missing 1 required positional argument: 'a'",
     "output_type": "error",
     "traceback": [
      "\u001b[1;31m---------------------------------------------------------------------------\u001b[0m",
      "\u001b[1;31mTypeError\u001b[0m                                 Traceback (most recent call last)",
      "\u001b[1;32m<ipython-input-112-4ac4b39a2007>\u001b[0m in \u001b[0;36m<module>\u001b[1;34m\u001b[0m\n\u001b[1;32m----> 1\u001b[1;33m \u001b[0mxyz\u001b[0m\u001b[1;33m.\u001b[0m\u001b[0mr\u001b[0m\u001b[1;33m(\u001b[0m\u001b[1;33m)\u001b[0m\u001b[1;33m\u001b[0m\u001b[1;33m\u001b[0m\u001b[0m\n\u001b[0m",
      "\u001b[1;31mTypeError\u001b[0m: r() missing 1 required positional argument: 'a'"
     ]
    }
   ],
   "source": [
    "xyz.r()"
   ]
  },
  {
   "cell_type": "code",
   "execution_count": 113,
   "metadata": {},
   "outputs": [],
   "source": [
    "import xyz"
   ]
  },
  {
   "cell_type": "code",
   "execution_count": 114,
   "metadata": {},
   "outputs": [
    {
     "ename": "TypeError",
     "evalue": "r() missing 1 required positional argument: 'a'",
     "output_type": "error",
     "traceback": [
      "\u001b[1;31m---------------------------------------------------------------------------\u001b[0m",
      "\u001b[1;31mTypeError\u001b[0m                                 Traceback (most recent call last)",
      "\u001b[1;32m<ipython-input-114-4ac4b39a2007>\u001b[0m in \u001b[0;36m<module>\u001b[1;34m\u001b[0m\n\u001b[1;32m----> 1\u001b[1;33m \u001b[0mxyz\u001b[0m\u001b[1;33m.\u001b[0m\u001b[0mr\u001b[0m\u001b[1;33m(\u001b[0m\u001b[1;33m)\u001b[0m\u001b[1;33m\u001b[0m\u001b[1;33m\u001b[0m\u001b[0m\n\u001b[0m",
      "\u001b[1;31mTypeError\u001b[0m: r() missing 1 required positional argument: 'a'"
     ]
    }
   ],
   "source": [
    "xyz.r()"
   ]
  },
  {
   "cell_type": "code",
   "execution_count": 126,
   "metadata": {},
   "outputs": [],
   "source": [
    "import pce"
   ]
  },
  {
   "cell_type": "code",
   "execution_count": 127,
   "metadata": {},
   "outputs": [
    {
     "name": "stdout",
     "output_type": "stream",
     "text": [
      "Helloworld\n"
     ]
    }
   ],
   "source": [
    "pce.ris()"
   ]
  },
  {
   "cell_type": "code",
   "execution_count": 137,
   "metadata": {},
   "outputs": [],
   "source": [
    "import datetime as dt"
   ]
  },
  {
   "cell_type": "code",
   "execution_count": 138,
   "metadata": {},
   "outputs": [],
   "source": [
    "x=dt.datetime.now()"
   ]
  },
  {
   "cell_type": "code",
   "execution_count": 140,
   "metadata": {},
   "outputs": [
    {
     "data": {
      "text/plain": [
       "2019"
      ]
     },
     "execution_count": 140,
     "metadata": {},
     "output_type": "execute_result"
    }
   ],
   "source": [
    "x.year"
   ]
  },
  {
   "cell_type": "code",
   "execution_count": 141,
   "metadata": {},
   "outputs": [],
   "source": [
    "import time"
   ]
  },
  {
   "cell_type": "code",
   "execution_count": 144,
   "metadata": {},
   "outputs": [
    {
     "data": {
      "text/plain": [
       "'Thu Jun 27 16:00:45 2019'"
      ]
     },
     "execution_count": 144,
     "metadata": {},
     "output_type": "execute_result"
    }
   ],
   "source": [
    "time.ctime()"
   ]
  },
  {
   "cell_type": "code",
   "execution_count": 9,
   "metadata": {},
   "outputs": [],
   "source": [
    "import time"
   ]
  },
  {
   "cell_type": "code",
   "execution_count": 10,
   "metadata": {},
   "outputs": [
    {
     "data": {
      "text/plain": [
       "'Fri Jun 28 09:43:11 2019'"
      ]
     },
     "execution_count": 10,
     "metadata": {},
     "output_type": "execute_result"
    }
   ],
   "source": [
    "time.ctime()"
   ]
  },
  {
   "cell_type": "code",
   "execution_count": 11,
   "metadata": {},
   "outputs": [],
   "source": [
    "y=time.ctime()"
   ]
  },
  {
   "cell_type": "code",
   "execution_count": 12,
   "metadata": {},
   "outputs": [
    {
     "data": {
      "text/plain": [
       "'Fri Jun 28 09:43:12 2019'"
      ]
     },
     "execution_count": 12,
     "metadata": {},
     "output_type": "execute_result"
    }
   ],
   "source": [
    "y"
   ]
  },
  {
   "cell_type": "code",
   "execution_count": 14,
   "metadata": {},
   "outputs": [],
   "source": [
    "a=3\n",
    "b=4\n",
    "while(a>b):\n",
    "    y=time.ctime()\n",
    "    if(y=='Fri Jun 28 09:44:00 2019'):\n",
    "        print('hello')"
   ]
  },
  {
   "cell_type": "code",
   "execution_count": 60,
   "metadata": {},
   "outputs": [
    {
     "data": {
      "text/plain": [
       "3"
      ]
     },
     "execution_count": 60,
     "metadata": {},
     "output_type": "execute_result"
    }
   ],
   "source": [
    "a=3\n",
    "a"
   ]
  },
  {
   "cell_type": "code",
   "execution_count": 72,
   "metadata": {},
   "outputs": [
    {
     "ename": "KeyboardInterrupt",
     "evalue": "",
     "output_type": "error",
     "traceback": [
      "\u001b[1;31m---------------------------------------------------------------------------\u001b[0m",
      "\u001b[1;31mKeyboardInterrupt\u001b[0m                         Traceback (most recent call last)",
      "\u001b[1;32m<ipython-input-72-c68b8fe5ddc7>\u001b[0m in \u001b[0;36m<module>\u001b[1;34m\u001b[0m\n\u001b[0;32m      2\u001b[0m \u001b[0mb\u001b[0m\u001b[1;33m=\u001b[0m\u001b[1;36m4\u001b[0m\u001b[1;33m\u001b[0m\u001b[1;33m\u001b[0m\u001b[0m\n\u001b[0;32m      3\u001b[0m \u001b[1;32mwhile\u001b[0m\u001b[1;33m(\u001b[0m\u001b[0mb\u001b[0m\u001b[1;33m>\u001b[0m\u001b[0ma\u001b[0m\u001b[1;33m)\u001b[0m\u001b[1;33m:\u001b[0m\u001b[1;33m\u001b[0m\u001b[1;33m\u001b[0m\u001b[0m\n\u001b[1;32m----> 4\u001b[1;33m     \u001b[0my\u001b[0m\u001b[1;33m=\u001b[0m\u001b[0mtime\u001b[0m\u001b[1;33m.\u001b[0m\u001b[0mctime\u001b[0m\u001b[1;33m(\u001b[0m\u001b[1;33m)\u001b[0m\u001b[1;33m\u001b[0m\u001b[1;33m\u001b[0m\u001b[0m\n\u001b[0m\u001b[0;32m      5\u001b[0m     \u001b[1;32mif\u001b[0m\u001b[1;33m(\u001b[0m\u001b[0my\u001b[0m\u001b[1;33m==\u001b[0m\u001b[1;34m'Thu Jun 27 22:57:00 2019'\u001b[0m\u001b[1;33m)\u001b[0m\u001b[1;33m:\u001b[0m\u001b[1;33m\u001b[0m\u001b[1;33m\u001b[0m\u001b[0m\n\u001b[0;32m      6\u001b[0m         \u001b[0mprint\u001b[0m\u001b[1;33m(\u001b[0m\u001b[1;34m'okk'\u001b[0m\u001b[1;33m)\u001b[0m\u001b[1;33m\u001b[0m\u001b[1;33m\u001b[0m\u001b[0m\n",
      "\u001b[1;31mKeyboardInterrupt\u001b[0m: "
     ]
    }
   ],
   "source": [
    "a=3\n",
    "b=4\n",
    "while(b>a):\n",
    "    y=time.ctime()\n",
    "    if(y=='Thu Jun 27 22:57:00 2019'):\n",
    "        print('okk')"
   ]
  },
  {
   "cell_type": "code",
   "execution_count": 1,
   "metadata": {},
   "outputs": [
    {
     "data": {
      "text/plain": [
       "True"
      ]
     },
     "execution_count": 1,
     "metadata": {},
     "output_type": "execute_result"
    }
   ],
   "source": [
    "import webbrowser as wb\n",
    "wb.open_new_tab('www.google.com')"
   ]
  },
  {
   "cell_type": "code",
   "execution_count": 15,
   "metadata": {},
   "outputs": [
    {
     "name": "stdout",
     "output_type": "stream",
     "text": [
      "Hello\n",
      "the try is finished\n"
     ]
    }
   ],
   "source": [
    "try:\n",
    "    print(\"Hello\")\n",
    "except:\n",
    "    print(\"Something went wrong\")\n",
    "finally:\n",
    "    print(\"the try is finished\")"
   ]
  },
  {
   "cell_type": "code",
   "execution_count": 16,
   "metadata": {},
   "outputs": [
    {
     "name": "stdout",
     "output_type": "stream",
     "text": [
      "0/0\n",
      "the try is finished\n"
     ]
    }
   ],
   "source": [
    "try:\n",
    "    print(\"0/0\")\n",
    "except:\n",
    "    print(\"Something went wrong\")\n",
    "finally:\n",
    "    print(\"the try is finished\")"
   ]
  },
  {
   "cell_type": "code",
   "execution_count": 17,
   "metadata": {},
   "outputs": [
    {
     "name": "stdout",
     "output_type": "stream",
     "text": [
      "Hello\n"
     ]
    }
   ],
   "source": [
    "try:\n",
    "    print(\"Hello\")\n",
    "except:\n",
    "    print(\"Something went wrong\")\n"
   ]
  },
  {
   "cell_type": "code",
   "execution_count": 18,
   "metadata": {},
   "outputs": [],
   "source": [
    "import os"
   ]
  },
  {
   "cell_type": "code",
   "execution_count": 21,
   "metadata": {},
   "outputs": [
    {
     "data": {
      "text/plain": [
       "0"
      ]
     },
     "execution_count": 21,
     "metadata": {},
     "output_type": "execute_result"
    }
   ],
   "source": [
    "os.system(\"mkdir rishabh\")"
   ]
  },
  {
   "cell_type": "code",
   "execution_count": 20,
   "metadata": {},
   "outputs": [
    {
     "data": {
      "text/plain": [
       "0"
      ]
     },
     "execution_count": 20,
     "metadata": {},
     "output_type": "execute_result"
    }
   ],
   "source": [
    "os.system(\"dir\")"
   ]
  },
  {
   "cell_type": "code",
   "execution_count": 22,
   "metadata": {},
   "outputs": [
    {
     "data": {
      "text/plain": [
       "0"
      ]
     },
     "execution_count": 22,
     "metadata": {},
     "output_type": "execute_result"
    }
   ],
   "source": [
    "os.system(\"rmdir rishabh\")"
   ]
  },
  {
   "cell_type": "code",
   "execution_count": 24,
   "metadata": {},
   "outputs": [],
   "source": [
    "f=open(\"abc.txt\",\"w\")"
   ]
  },
  {
   "cell_type": "code",
   "execution_count": 25,
   "metadata": {},
   "outputs": [
    {
     "data": {
      "text/plain": [
       "11"
      ]
     },
     "execution_count": 25,
     "metadata": {},
     "output_type": "execute_result"
    }
   ],
   "source": [
    "f.write(\"hello World\")"
   ]
  },
  {
   "cell_type": "code",
   "execution_count": 26,
   "metadata": {},
   "outputs": [],
   "source": [
    "f.close()"
   ]
  },
  {
   "cell_type": "code",
   "execution_count": 34,
   "metadata": {},
   "outputs": [],
   "source": [
    "f=open(\"abc.txt\",\"a\")"
   ]
  },
  {
   "cell_type": "code",
   "execution_count": 35,
   "metadata": {},
   "outputs": [
    {
     "data": {
      "text/plain": [
       "16"
      ]
     },
     "execution_count": 35,
     "metadata": {},
     "output_type": "execute_result"
    }
   ],
   "source": [
    "f.write(\" this is rishabh\")"
   ]
  },
  {
   "cell_type": "code",
   "execution_count": 36,
   "metadata": {},
   "outputs": [],
   "source": [
    "f.close()"
   ]
  },
  {
   "cell_type": "code",
   "execution_count": 46,
   "metadata": {},
   "outputs": [
    {
     "ename": "FileNotFoundError",
     "evalue": "[Errno 2] No such file or directory: 'abc.txt'",
     "output_type": "error",
     "traceback": [
      "\u001b[1;31m---------------------------------------------------------------------------\u001b[0m",
      "\u001b[1;31mFileNotFoundError\u001b[0m                         Traceback (most recent call last)",
      "\u001b[1;32m<ipython-input-46-a93b43e95413>\u001b[0m in \u001b[0;36m<module>\u001b[1;34m\u001b[0m\n\u001b[1;32m----> 1\u001b[1;33m \u001b[0mf\u001b[0m\u001b[1;33m=\u001b[0m\u001b[0mopen\u001b[0m\u001b[1;33m(\u001b[0m\u001b[1;34m\"abc.txt\"\u001b[0m\u001b[1;33m,\u001b[0m\u001b[1;34m\"r\"\u001b[0m\u001b[1;33m)\u001b[0m\u001b[1;33m\u001b[0m\u001b[1;33m\u001b[0m\u001b[0m\n\u001b[0m\u001b[0;32m      2\u001b[0m \u001b[0mf\u001b[0m\u001b[1;33m.\u001b[0m\u001b[0mread\u001b[0m\u001b[1;33m(\u001b[0m\u001b[1;33m)\u001b[0m\u001b[1;33m\u001b[0m\u001b[1;33m\u001b[0m\u001b[0m\n\u001b[0;32m      3\u001b[0m \u001b[0mf\u001b[0m\u001b[1;33m.\u001b[0m\u001b[0mclose\u001b[0m\u001b[1;33m(\u001b[0m\u001b[1;33m)\u001b[0m\u001b[1;33m\u001b[0m\u001b[1;33m\u001b[0m\u001b[0m\n",
      "\u001b[1;31mFileNotFoundError\u001b[0m: [Errno 2] No such file or directory: 'abc.txt'"
     ]
    }
   ],
   "source": [
    "f=open(\"abc.txt\",\"r\")\n",
    "f.read()\n",
    "f.close()\n"
   ]
  },
  {
   "cell_type": "code",
   "execution_count": 47,
   "metadata": {},
   "outputs": [],
   "source": [
    "import os"
   ]
  },
  {
   "cell_type": "code",
   "execution_count": 43,
   "metadata": {},
   "outputs": [
    {
     "data": {
      "text/plain": [
       "267"
      ]
     },
     "execution_count": 43,
     "metadata": {},
     "output_type": "execute_result"
    }
   ],
   "source": [
    "os.system(\"rmdir abc.txt\")"
   ]
  },
  {
   "cell_type": "code",
   "execution_count": 45,
   "metadata": {},
   "outputs": [
    {
     "ename": "FileNotFoundError",
     "evalue": "[WinError 2] The system cannot find the file specified: 'abc.txt'",
     "output_type": "error",
     "traceback": [
      "\u001b[1;31m---------------------------------------------------------------------------\u001b[0m",
      "\u001b[1;31mFileNotFoundError\u001b[0m                         Traceback (most recent call last)",
      "\u001b[1;32m<ipython-input-45-d977dbf03bad>\u001b[0m in \u001b[0;36m<module>\u001b[1;34m\u001b[0m\n\u001b[1;32m----> 1\u001b[1;33m \u001b[0mos\u001b[0m\u001b[1;33m.\u001b[0m\u001b[0mremove\u001b[0m\u001b[1;33m(\u001b[0m\u001b[1;34m\"abc.txt\"\u001b[0m\u001b[1;33m)\u001b[0m\u001b[1;33m\u001b[0m\u001b[1;33m\u001b[0m\u001b[0m\n\u001b[0m",
      "\u001b[1;31mFileNotFoundError\u001b[0m: [WinError 2] The system cannot find the file specified: 'abc.txt'"
     ]
    }
   ],
   "source": [
    "os.remove(\"abc.txt\")"
   ]
  },
  {
   "cell_type": "code",
   "execution_count": 1,
   "metadata": {},
   "outputs": [
    {
     "name": "stdout",
     "output_type": "stream",
     "text": [
      "^C\n",
      "Note: you may need to restart the kernel to use updated packages.\n"
     ]
    }
   ],
   "source": [
    "pip mysql.connecter"
   ]
  },
  {
   "cell_type": "code",
   "execution_count": 1,
   "metadata": {},
   "outputs": [
    {
     "ename": "NameError",
     "evalue": "name 'mysql' is not defined",
     "output_type": "error",
     "traceback": [
      "\u001b[1;31m---------------------------------------------------------------------------\u001b[0m",
      "\u001b[1;31mNameError\u001b[0m                                 Traceback (most recent call last)",
      "\u001b[1;32m<ipython-input-1-62c6a43c6d54>\u001b[0m in \u001b[0;36m<module>\u001b[1;34m\u001b[0m\n\u001b[1;32m----> 1\u001b[1;33m mydb=mysql.connector.connect(\n\u001b[0m\u001b[0;32m      2\u001b[0m \u001b[0mhost\u001b[0m\u001b[1;33m=\u001b[0m\u001b[1;34m\"localhost\"\u001b[0m\u001b[1;33m,\u001b[0m\u001b[1;33m\u001b[0m\u001b[1;33m\u001b[0m\u001b[0m\n\u001b[0;32m      3\u001b[0m \u001b[0muser\u001b[0m\u001b[1;33m=\u001b[0m\u001b[1;34m\"DELL\"\u001b[0m\u001b[1;33m,\u001b[0m\u001b[1;33m\u001b[0m\u001b[1;33m\u001b[0m\u001b[0m\n\u001b[0;32m      4\u001b[0m \u001b[0mpasswd\u001b[0m\u001b[1;33m=\u001b[0m\u001b[1;34m\"rish8955075752\"\u001b[0m\u001b[1;33m,\u001b[0m\u001b[1;33m\u001b[0m\u001b[1;33m\u001b[0m\u001b[0m\n\u001b[0;32m      5\u001b[0m )\n",
      "\u001b[1;31mNameError\u001b[0m: name 'mysql' is not defined"
     ]
    }
   ],
   "source": [
    "mydb=mysql.connector.connect(\n",
    "host=\"localhost\",\n",
    "user=\"DELL\",\n",
    "passwd=\"rish8955075752\",\n",
    ")"
   ]
  },
  {
   "cell_type": "code",
   "execution_count": 2,
   "metadata": {},
   "outputs": [],
   "source": [
    "def rj(r):\n",
    "    print(r)"
   ]
  },
  {
   "cell_type": "code",
   "execution_count": 3,
   "metadata": {},
   "outputs": [
    {
     "ename": "NameError",
     "evalue": "name 'ris' is not defined",
     "output_type": "error",
     "traceback": [
      "\u001b[1;31m---------------------------------------------------------------------------\u001b[0m",
      "\u001b[1;31mNameError\u001b[0m                                 Traceback (most recent call last)",
      "\u001b[1;32m<ipython-input-3-a1aaba4bcfa9>\u001b[0m in \u001b[0;36m<module>\u001b[1;34m\u001b[0m\n\u001b[1;32m----> 1\u001b[1;33m \u001b[0mris\u001b[0m\u001b[1;33m(\u001b[0m\u001b[1;36m1\u001b[0m\u001b[1;33m)\u001b[0m\u001b[1;33m\u001b[0m\u001b[1;33m\u001b[0m\u001b[0m\n\u001b[0m",
      "\u001b[1;31mNameError\u001b[0m: name 'ris' is not defined"
     ]
    }
   ],
   "source": [
    "ris(1)"
   ]
  },
  {
   "cell_type": "code",
   "execution_count": 4,
   "metadata": {},
   "outputs": [
    {
     "name": "stdout",
     "output_type": "stream",
     "text": [
      "1\n"
     ]
    }
   ],
   "source": [
    "rj(1)"
   ]
  },
  {
   "cell_type": "code",
   "execution_count": 20,
   "metadata": {},
   "outputs": [],
   "source": [
    "def ris(a):\n",
    "    print(a*a)"
   ]
  },
  {
   "cell_type": "code",
   "execution_count": 6,
   "metadata": {},
   "outputs": [
    {
     "name": "stdout",
     "output_type": "stream",
     "text": [
      "5\n"
     ]
    }
   ],
   "source": [
    "ris(2,3)"
   ]
  },
  {
   "cell_type": "code",
   "execution_count": 7,
   "metadata": {},
   "outputs": [],
   "source": [
    "import threading"
   ]
  },
  {
   "cell_type": "code",
   "execution_count": 9,
   "metadata": {},
   "outputs": [],
   "source": [
    "def sg(r):\n",
    "    print(\"hello\")"
   ]
  },
  {
   "cell_type": "code",
   "execution_count": 21,
   "metadata": {},
   "outputs": [],
   "source": [
    "if __name__ == \"__main__\":\n",
    "    t1=threading.Thread(target=ris,args=(5,))\n",
    "    t2=threading.Thread(target=sg,args=(10,))"
   ]
  },
  {
   "cell_type": "code",
   "execution_count": 22,
   "metadata": {},
   "outputs": [
    {
     "name": "stdout",
     "output_type": "stream",
     "text": [
      "25\n",
      "hello\n",
      "my name is tushar\n"
     ]
    }
   ],
   "source": [
    "t1.start()\n",
    "t2.start()\n",
    "t1.join()\n",
    "t1.join()\n",
    "print('my name is tushar')"
   ]
  },
  {
   "cell_type": "code",
   "execution_count": 50,
   "metadata": {},
   "outputs": [
    {
     "name": "stdout",
     "output_type": "stream",
     "text": [
      "hii\n",
      "1\n",
      "2\n",
      "3\n",
      "4\n",
      "5\n",
      "pythonrun\n"
     ]
    }
   ],
   "source": [
    "import threading\n",
    "def sun(s):\n",
    "    print(\"python\"+s)\n",
    "    \n",
    "a=2\n",
    "b=3\n",
    "if a>b:\n",
    "    print(\"hello\")\n",
    "elif a==b:\n",
    "    print(\"world\")\n",
    "else:\n",
    "    print(\"hii\")\n",
    "    \n",
    "x=[1,2,3,4,5]\n",
    "for m in x:\n",
    "    print(m)\n",
    "\n",
    "try:1/1\n",
    "except:print(\"rishabh\")\n",
    "finally:(\"hello\") \n",
    "sun(\"run\")\n"
   ]
  },
  {
   "cell_type": "code",
   "execution_count": 59,
   "metadata": {},
   "outputs": [],
   "source": [
    "f=open(\"abc.txt\",\"w\")\n",
    "f.write(\"rishabh\")\n",
    "f.close()\n"
   ]
  },
  {
   "cell_type": "code",
   "execution_count": 60,
   "metadata": {},
   "outputs": [],
   "source": [
    "f=open(\"abc.txt\",\"a\")\n",
    "f.write(\"rishabh\")\n",
    "f.close()"
   ]
  },
  {
   "cell_type": "code",
   "execution_count": 61,
   "metadata": {},
   "outputs": [
    {
     "data": {
      "text/plain": [
       "'rishabhrishabh'"
      ]
     },
     "execution_count": 61,
     "metadata": {},
     "output_type": "execute_result"
    }
   ],
   "source": [
    "f=open(\"abc.txt\",\"r\")\n",
    "f.read()"
   ]
  },
  {
   "cell_type": "code",
   "execution_count": 62,
   "metadata": {},
   "outputs": [],
   "source": [
    "if__name__='__main__'\n",
    "t=threading.Thread(target=sun,args=(5,))"
   ]
  },
  {
   "cell_type": "code",
   "execution_count": 63,
   "metadata": {},
   "outputs": [
    {
     "name": "stdout",
     "output_type": "stream",
     "text": [
      "program over\n"
     ]
    },
    {
     "name": "stderr",
     "output_type": "stream",
     "text": [
      "Exception in thread Thread-13:\n",
      "Traceback (most recent call last):\n",
      "  File \"C:\\Users\\Dell\\Anaconda3\\lib\\threading.py\", line 917, in _bootstrap_inner\n",
      "    self.run()\n",
      "  File \"C:\\Users\\Dell\\Anaconda3\\lib\\threading.py\", line 865, in run\n",
      "    self._target(*self._args, **self._kwargs)\n",
      "  File \"<ipython-input-50-851cf61ef0df>\", line 3, in sun\n",
      "    print(\"python\"+s)\n",
      "TypeError: can only concatenate str (not \"int\") to str\n",
      "\n"
     ]
    }
   ],
   "source": [
    "t.start()\n",
    "t.join()\n",
    "print(\"program over\")"
   ]
  },
  {
   "cell_type": "code",
   "execution_count": 74,
   "metadata": {},
   "outputs": [],
   "source": [
    "import time"
   ]
  },
  {
   "cell_type": "code",
   "execution_count": 76,
   "metadata": {},
   "outputs": [],
   "source": [
    "y=time.ctime()"
   ]
  },
  {
   "cell_type": "code",
   "execution_count": 71,
   "metadata": {},
   "outputs": [],
   "source": [
    "a=3\n",
    "b=4\n",
    "while(a>b):\n",
    "    y=time.ctime()\n",
    "    if(y=='Sat Jun 29 14:11:00 2019'):\n",
    "        print('hello')\n",
    "        break"
   ]
  },
  {
   "cell_type": "code",
   "execution_count": 78,
   "metadata": {},
   "outputs": [
    {
     "name": "stdout",
     "output_type": "stream",
     "text": [
      "okk\n"
     ]
    }
   ],
   "source": [
    "a=3\n",
    "b=4\n",
    "while(b>a):\n",
    "    y=time.ctime()\n",
    "    if(y=='Sat Jun 29 14:16:50 2019'):\n",
    "        print('okk')\n",
    "        break"
   ]
  },
  {
   "cell_type": "code",
   "execution_count": 83,
   "metadata": {},
   "outputs": [
    {
     "data": {
      "text/plain": [
       "'14:24:22'"
      ]
     },
     "execution_count": 83,
     "metadata": {},
     "output_type": "execute_result"
    }
   ],
   "source": [
    "import time\n",
    "a=time.ctime()\n",
    "b=a.split()\n",
    "b[3]\n"
   ]
  },
  {
   "cell_type": "code",
   "execution_count": 84,
   "metadata": {},
   "outputs": [],
   "source": [
    "while True:\n",
    "    if(b[3]==\"14:25:00\"):\n",
    "        print(\"hello\")\n",
    "    break"
   ]
  },
  {
   "cell_type": "code",
   "execution_count": 4,
   "metadata": {},
   "outputs": [],
   "source": [
    "from bs4 import BeautifulSoup"
   ]
  },
  {
   "cell_type": "code",
   "execution_count": 5,
   "metadata": {},
   "outputs": [],
   "source": [
    "import requests"
   ]
  },
  {
   "cell_type": "raw",
   "metadata": {},
   "source": [
    "url=requests.get(\"https://google.com\")"
   ]
  },
  {
   "cell_type": "code",
   "execution_count": 17,
   "metadata": {},
   "outputs": [],
   "source": [
    "url=requests.get(\"https://cricbuzz.com\")"
   ]
  },
  {
   "cell_type": "code",
   "execution_count": 18,
   "metadata": {},
   "outputs": [
    {
     "name": "stdout",
     "output_type": "stream",
     "text": [
      "<Response [200]>\n"
     ]
    }
   ],
   "source": [
    "print(url)"
   ]
  },
  {
   "cell_type": "code",
   "execution_count": 19,
   "metadata": {},
   "outputs": [
    {
     "data": {
      "text/plain": [
       "'\\r\\n\\r\\n<!DOCTYPE html><html lang=\"en\" itemscope itemtype=\"http://schema.org/WebPage\"><head><meta charset=\"utf-8\"><script>var is_mobile = /symbian|tizen|midp|uc(web|browser)|MSIE (5.0|6.0|7.0|8.0)|tablet/i.test(navigator.userAgent);\\tif(is_mobile && window.location.hostname != \"www1.cricbuzz.com\") window.location.hostname = \"m.cricbuzz.com\";</script><style>body{background:#E3E6E3; font-family: helvetica,\"Segoe UI\",Arial,sans-serif;color:#222;font-size:14px; line-height: 1.5; margin:0;}\\tbody, .cb-comm-pg, .cb-hm-mid {min-height:1000px}\\t.container{width:980px;margin:0 auto;}\\t.page{max-width: 980px;margin: 0 auto;position: relative;}\\t.cb-col-8 {width:8%;}\\t.cb-col-10 {width:10%;}\\t.cb-col-14 {width:14%;}\\t.cb-col-16 {width:16%;}\\t.cb-col-20 {width:20%;}\\t.cb-col-25 {width:25%;}\\t.cb-col-27 {width:27%;}\\t.cb-col-33 {width:33%;}\\t.cb-col-40 {width:40%;}\\t.cb-col-46 {width:46%;}\\t.cb-col-47 {width:47%;}\\t.cb-col-50 {width:50%;}\\t.cb-col-60 {width:60%;}\\t.cb-col-66 {width:66%;}\\t.cb-col-67 {width:67%;}\\t.cb-col-73 {width:73%;}\\t.cb-col-75 {width:75%;}\\t.cb-col-84 {width:84%;}\\t.cb-col-80 {width:80%;}\\t.cb-col-90{width:90%;}\\t.cb-col-100 {width:100%;}\\t.cb-col {display: inline-block;box-sizing: border-box;float: left; min-height: 1px;}\\th1 {font-size: 36px;line-height: 42px; margin:0;}\\th2 {font-size: 24px; margin:0; line-height: 30px;}\\th3 {font-size: 18px;line-height: 24px; margin:0; }\\th4 {font-size: 16px; margin:0; }\\th5 {font-size: 14px; margin: 0;}\\t.cb-font-18 {font-size:18px;}\\timg{border-radius: 4px;}\\ta {text-decoration: none; color:#222;}\\ta, a:hover, a:active, a:focus {outline: medium none;}\\t.text-center {text-align: center;}\\t.cb-nws-lft-col{padding:15px 20px;}\\t.cb-nws-dtl-lft-col {padding: 10px 30px 0 30px;border-right: 1px solid #ecebeb ;}\\t.cb-nws-lst-rt{padding-left: 10px;}\\t.cb-srs-lst-itm {padding: 10px 0;}\\t.cb-lst-itm-sm{padding:10px 0 5px;}\\t.cb-scrd-lft-col{padding:15px 10px;} .cb-col-rt{padding: 10px;}\\t.text-white{color: #fff;}\\t.cb-scrd-hdr-rw, .cb-nav-pill-1.active {background: #028062 ;color: #fff;}\\t.cb-nav{position:relative; height:48px;background: #009270;}\\t.cb-hm-mnu-itm{padding: 16px 6px 11px; color:#fff; display:inline-block;}\\t.cb-hm-text{padding:10px 18px 10px 20px;}\\t.cb-hm-rght{padding: 15px;}\\t.cb-subnav .cb-sub-navigation {display: none; position: absolute;}\\t.cb-mat-mnu{background:#4a4a4a; width:980px; font-size: 0;}\\t.cb-mat-mnu-itm{font-size:12px; color:#fff; padding:10px; cursor: pointer; display:inline-block; max-width: 140px;}\\t.cb-mat-mnu-ttl{background: #333; padding: 10px 20px;}\\t.cb-mat-mnu-wrp{margin-bottom: 10px;}\\t.cb-ovr-flo{overflow: hidden; white-space: nowrap; text-overflow: ellipsis;}\\t.cb-mat-mnu-all{text-align: center; float: right; width:60px;}\\t.cb-nav-main{border-bottom:1px solid #e3e6e3;padding:0 0 5px 20px;}\\t.cb-nav-bar{padding-top:10px;clear:both;}\\t.cb-lst-itm, .cb-bg-white{background: #fff;}\\t.cb-nav-tab.active, .cb-nav-tab-hm.active{ font-weight: bold; color: #028062;}\\t.cb-nav-tab.active {border-bottom: 3px solid #028062; line-height: 24px; }\\t.cb-nav-tab-hm.active{ border-bottom:2px solid #028062; line-height: 22px;}\\t.cb-nav-tab{margin-right:20px;padding-bottom:6px;}\\t.cb-nav-tab-hm{margin-right:15px;padding-bottom:6px;}\\t.cb-nav-hdr{padding-top:15px}\\t.cb-nav-subhdr{padding:5px 0 10px 0;}\\t.cb-lv-scr-mtch-hdr{line-height: 21px;font-size: 16px;}\\t.disp-none{display:none;}\\t.disp-blck{display:block;}\\t.cb-font-24{font-size: 24px;}\\t.line-ht30{line-height: 30px;}\\t.line-ht24{line-height: 24px;}\\t.cb-hm-scg-blk{background: #fff; margin-bottom: 5px; height:90px;}\\t.mrgn-btm-5{margin-bottom : 5px;}\\t#scagTabContent .show{display: block; visibility: visible;}\\t#scagTabContent .hide{display: none; visibility: hidden;}\\t[ng\\\\:cloak], [ng-cloak], [data-ng-cloak], [x-ng-cloak], .ng-cloak, .x-ng-cloak { display: none !important;}\\t.cb-hm-lft{margin-bottom:5px;padding:0 15px;}\\t.cb-hm-lft-hdr{margin:0; padding:15px 15px 0; color: #009270;} .cb-hm-mid {border-left: 5px solid #e3e6e3 ;border-right: 5px solid #e3e6e3 ;padding: 0 15px;} .cb-mtch-blk {border-right: 1px solid #ecebeb ;line-height: 1.4;margin: 15px 0;padding: 0 20px;}\\t.crd-cntxt{font-size: 12px; color:#666; padding-bottom: 10px;}\\t.big-crd-main{border-top: 1px solid #ecebeb;padding:15px 0 5px; margin-bottom: 1px;clear: both;} .big-crd-reltd-itm {margin: 0 0 10px; width:100%; display: inline-block;}\\t.cb-nws-time{font-size:12px; padding-bottom: 5px;}\\t.cb-nws-hdln-ancr{padding-bottom: 5px;}\\t.cb-hmscg-bwl-txt, .cb-hmscg-bat-txt{font-weight:bold; padding-bottom:4px; height:18px;}\\t.cb-hmscg-bwl-txt{color:#666;}\\t.sml-crd-main{padding: 15px 0 5px; width: 100%;}\\t.big-crd-hdln{margin: 10px 0;}\\t.big-crd-rltd-txt {font-weight: bold; margin:10px 0; color:#1866DB;} .cb-nws-intr {color: #666;padding-bottom: 5px;} .cb-lv-scrs-well {background: #f5f5f5 ;display: inline-block;margin: 10px 0;padding: 10px 5px;}\\t.cb-hm-mtch-crd-width{min-width:300px;}\\t.cb-mr-30{margin-right: 30px;} .cb-schdl-hdr {margin: 0;padding: 15px 0 10px 10px;} .cb-lst-itm-lg {padding: 20px 0;} .cb-left-pad {padding: 20px 10px 0;}\\t.cb-nav-pill-1 {background: #CFE0DB;border-radius: 20px;color: #222;cursor: pointer;margin-right: 15px;padding: 5px 20px;} .cb-mtch-lst {padding: 15px 0;}\\t.cb-nws-min-cntr{padding: 10px; background: #f5f5f5; color:#333; margin:10px 0 15px;}\\t.sml-crd-subtxt{margin:0 10px 10px;}\\t/*-------------------------Live Pages -----------------------*/\\t.cb-scrcrd-status{padding:0 0 10px 10px;}\\t.cb-scrd-hdr-rw{padding:8px 10px;}\\t.cb-bg-gray{background: #ecebeb;}\\t.cb-lv-grn-strip{background: #ecebeb;}\\t.cb-min-hdr-rw, .cb-scrd-sub-hdr{padding: 4px 10px; font-size: 12px; color: #666;}\\t.cb-scrd-itms{padding: 4px 10px; font-size: 13px;}\\t.cb-text-link {color: #1866DB;}\\t.text-bold{font-weight: bold;}\\t.text-normal{font-weight: normal;}\\t.cb-mat-fct-itm{padding: 5px 0;}\\t.cb-min-bat-rw{padding-bottom: 5px;}\\t.cb-nws-sub-txt, .cb-nws-sub-txt, .cb-font-12{font-size:12px;}\\t.cb-font-16{font-size:16px;}\\t.cb-font-20{font-size:20px;}\\t.cb-min-inf{padding-top:10px; margin-left: -10px; display: inline-block;}\\t.cb-min-itm-rw{padding:5px 10px 0;}\\t.text-right{text-align:right;}\\t.cb-key-st-lst{padding: 10px 0 0 5px; }\\t.cb-min-prw-time{padding:20px 0 0;}\\t.cb-toss-sts{padding: 10px 0 30px;}\\t.cb-min-rcnt{padding: 7px 10px; margin: 0 -10px 0;}\\t.cb-key-lst-wrp{border: 1px solid #ecebeb; padding-bottom: 15px; margin-right: -10px;}\\t.cb-min-tm{font-size: 18px; font-weight: bold;}\\t.cb-min-stts{padding: 20px 0;}\\t.cb-mom-itm{padding: 0 0 10px;}\\t.cb-lv-grn-strip {padding: 10px 10px 5px;}\\t.cb-ovr-num{padding-top:2px;}\\t.cb-min-pad{padding-left: 5px;}\\t/*Upcoming Series*/\\t.cb-mnth{margin-top: 10px; padding: 0 10px;}\\t.cb-sch-lst-itm {padding:10px 0; margin-left: 20px;border-bottom: 1px solid #ecebeb;}\\t/*Matches By Day*/\\t.cb-mtchs-dy{padding:20px 20px 20px 10px ;}\\t.cb-mtchs-dy-tm,.cb-mtchs-dy-vnu{padding:20px 20px 20px 0px;}\\t/*Schedule Teams*/\\t.cb-lv-upcom-strip{padding: 5px 10px;background: #ecebeb;}\\t/*Archives*/\\t.cb-srs-cat{padding:10px; color:#028062; }\\t.pad-left{padding-left:30px;}\\t.cb-arcv-yr{font-size:20px; padding: 0 0 5px 10px;font-weight: bold}\\t.cb-yr-tmline{padding: 2px 15px 15px 0;}\\t.cb-sch-tms-widgt{padding: 5px 10px; margin:5px 2px 2px 2px; background: #f5f5f5; border-radius: 0; border:0; display: inline-block;}\\t/*Photos*/\\t.cb-thmb-dark {background: #333333; box-shadow:none; border-radius:4px; border:none; padding:0;color:#CCC;}\\t.cb-pht-main {padding:20px 15px;margin: 0 -10px;}\\t.cb-pht-block{padding:9px;float:left;height:280px;box-sizing: border-box;} .cb-gallery-pht-block{padding: 9px 9px 9px 16px;}\\t.img-responsive{height:auto; max-width:100%;}\\t.center-block{margin-right: auto;margin-left: auto;}\\t.cb-schdl{padding:0 10px;line-height: 1.5;}\\t.cb-caret-up, .cb-caret-down{display: inline-block; width: 0; height: 0; margin-left: 4px; margin-bottom: 1px; border-right: 4px solid transparent; border-left: 4px solid transparent;}\\t.cb-caret-up{border-bottom: 4px solid;}\\t.cb-caret-down{border-top: 4px solid;}\\t.cb-hm-rt-itm{margin: 0 0 5px; padding: 10px 10px 5px;}\\t.cb-hmscg-tm-nm{display:inline-block; width: 60px;}\\t.pull-right,.cb-all-mtch-tab{float:right;}\\t.cb-skin-ads-close{display: none;}\\t.cb-nws-sub-txt{padding-top:10px;}\\t.nws-dtl-hdln{margin-top:10px;}\\t.cb-min-lv{min-height:270px}\\t.cb-min-comp{min-height:150px;}\\t.cb-ttl-vts{margin-top:20px;}\\t.cb-poll-radio{width: 5%;margin:4px 10px 0 0;}\\t.cb-mini-tim{padding-bottom:20px;}\\t.cb-com-ln{margin: 0 0 10px; line-height: 24px;}\\t.cb-comm-static{min-height:31px; margin: 0 -10px 10px;}\\t.cb-com-ovr-sum-ad{min-height: 31px;}\\t.cb-comm-static-anchr{margin:5px 10px; display: block;}\\t.ad-unit-rendered{margin-bottom: 5px;}\\t.cb-mm-wrp { max-height: 0px; -webkit-transition: max-height 0.35s ease; transition: max-height 0.35s ease; overflow: hidden; }\\t.cb-mm-wrp.down { max-height: 1000px; transition: max-height 0.75s ease; -webkit-transition: max-height 0.75s ease; overflow: hidden;} .cb-srs-hstry-dtl {padding:10px 15px;margin-top:20px; border-radius: 4px;}\\t.cb-qck-lnk{margin-bottom: 5px; padding:10px 15px;}\\t.cb-qck-hdr{padding-right: 15px; border-right: 1px solid #ecebeb ;}\\t.cb-qck-ancr{margin-left: 15px;}\\t.cb-lst-vid-rw{padding-bottom: 0; height: 64px; border: 1px solid #ecebeb; margin-right: -10px;}\\t.cb-auth-img{border-radius: 100%;}\\t.cb-expt-athr{vertical-align: top; padding: 5px 0 0 0; display: inline-block; font-size: 16px}\\t.inline-block{display: inline-block;}\\t.cb-exprt-athr-hdr{text-align: right;font-size: 42px;font-family: bodani; color: #fff;padding-right: 15px;line-height:44px;text-transform:uppercase;}\\t.cb-exprt-athr-hdr-tag{text-align: right;font-size: 24px;font-family: bodani; color: #fff;padding-right: 15px;font-style:italic;}\\t.cb-athr-wgt-wrp{border:1px solid #ecebeb; padding:15px; margin-bottom:20px;background:#f5f5f5;}\\t.cb-exprt-athr-hdr-img{background: url(\"/images/harsha-banner.jpg\") no-repeat scroll; height:80px;}\\t.cb-overflow-hidden{overflow: hidden;}\\t/*Videos*/\\t.cb-vid-sm-ply-api {color: #fff;line-height: 34px;font-size: 18px;margin-left: 3px;}\\t.cb-vid-sml-card-api {margin-top: 10px;height: auto;padding: 0 12px 0 11px;}\\t.cb-cat-head-wrap {padding: 0 12px 0 11px;}\\t.cb-cat-head-text {margin-top: 5px;line-height: 20px;}\\t.cb-more-btn {padding: 8px 20px;border-radius: 2px;color: #fff;background: #009270;border: 0;cursor: pointer;}\\t.cb-cat-head-link {float: right;padding: 5px 25px;margin-top: 10px;border-radius: 4px;}\\t.cb-pos-rel{position: relative;}\\t.cb-videos-cat {border-bottom: 1px solid #ecebeb;padding: 10px 3px 15px 4px;}\\t.cb-cat-head-text-wrap {float: left;}\\t.cb-cat-head-count {margin: 0;color: #666;}\\th2.cb-cat-head-text{font-size : 18px}\\t.cb-vid-sml-card-api-head {font-size: 14px;font-weight: bold;line-height: 18px;max-height: 55px;margin: 2px 0 5px;overflow: hidden;}\\t.cb-cen {position: absolute;top: 50%;left: 50%;opacity: .8;transform: translateX(-50%) translateY(-50%);-webkit-transform: translateX(-50%) translateY(-50%);-moz-transform: translateX(-50%) translateY(-50%);-ms-transform: translateX(-50%) translateY(-50%);-o-transform: translateX(-50%) translateY(-50%);background: #222;text-align: center;height: 35px;width: 35px;border-radius: 50px;}\\t.cb-cen:hover{opacity: 1;}\\t.padding-handling-errors{padding: 20px 0px 10px 15px;border-bottom: 1px solid #ecebeb;}\\t.cb-col .cb-align-cen{float: none; text-align: center; padding: 7px 25px; margin-top: 20px;}\\t.cb-align-cen{padding-top: 10px;}\\t.cb-hot-cat{max-width: 90px; text-align: center; padding-right: 0;}\\t.cb-hot-cat-img{width: 72px;}\\t.cb-vid-slider-arrs{position: absolute; top: 52px; left: 0; right: 0; z-index: 5;}\\t.cb-vid-slider-arr{position: absolute; z-index: 5; height: 43px; width: 43px; border-radius: 50%; cursor: pointer;}\\t.cb-vid-slider-arr-prev{display: none; left: 0;}\\t.cb-vid-slider-arr-next{right: 0;}\\t.videos-list-carousal{overflow: hidden; position: relative; height: 220px;}\\t.videos-carousal-wrapper{float: none; list-style: none; padding: 0; margin: 0; transition: all 0.3s ease; display: flex; flex-direction: row; position: absolute; left: 0;}\\t.videos-carousal-item{min-width: 25%; justify-content: center; align-items: center;}\\t.cb-vid-more{float: right; color: #2C3E9A; font-size: 18px;}\\t.cb-vid-more:hover{text-decoration: underline;}\\t.cat-vid-carousal{height: 135px !important;}\\t.cat-vid-carousal .videos-carousal-item{min-width: auto;}\\t.cat-vid-carousal .cb-vid-slider-arrs{top: 24px;}\\t.cb-srs-sqd-box{min-height: 700px; background: #fff;}\\t.cb-float-none{float: none;}\\t.cb-margin-top-10{margin-top: 10px;}\\t.cb-schdl-nvtb {margin: 0 0 10px 0;padding: 10px;}\\t.cb-carousal-item-small {padding: 0 0 0 16px;}\\t.cb-carousal-item-small:first-child {padding-left: 11px;}\\t.cb-carousal-item-large {padding: 0 11px;}\\t.cb-carousal-item-small .cb-vid-txt-wrp{font-size: 12px;}\\t.cb-hot-cat .cb-vid-txt-wrp{display: -webkit-box; -webkit-box-orient: vertical; -webkit-line-clamp: 2; overflow: hidden; max-height: 40px;}\\t/*Rankings*/\\t.cb-ranking-nav.active{line-height: 21px}\\t.cb-rank-plyr{padding-left:15px}\\t.text-left{text-align:left;}\\t.cb-rank-tabs{padding-left: 10px;}\\t.cb-plyr-tbody{padding:5px 0;}\\t.cb-padding-left0{padding-left: 0;}\\t.cb-rank-hdr{margin-top: 15px; padding: 5px 0;}\\t.cb-bg-grey{background: #f5f5f5;}\\t/*Players*/\\t.cb-player-name-wrap{padding-top: 90px;}\\t.cb-plyr-tbl{margin-top: 30px}\\t.cb-font-40{font-size:40px;}\\t/*Teams*/\\t.cb-cursor-pointer{cursor: pointer;}\\t.cb-team-stats-btn{margin-top: 21px;}\\t.cb-upper-text{text-transform: capitalize;}</style><script>function getCookie(c_name){\\tvar i,x,y,ARRcookies=document.cookie.split(\";\");\\tfor (i=0;i<ARRcookies.length;i++){\\tx=ARRcookies[i].substr(0,ARRcookies[i].indexOf(\"=\"));\\ty=ARRcookies[i].substr(ARRcookies[i].indexOf(\"=\")+1);\\tx=x.replace(/^\\\\s+|\\\\s+$/g,\"\");\\tif (x==c_name){\\treturn unescape(y);\\t}\\t}\\t}\\tvar cbads_value = getCookie(\"cbzads\");\\tif(cbads_value != null && cbads_value.indexOf(\\'IN|AS\\') >= 0){\\tdocument.write(\"<style>.cb-geo-in-50{height:50px}</style>\")\\t}\\t/*polifill for remove function*/\\tif (!(\\'remove\\' in Element.prototype)) {\\tElement.prototype[\\'remove\\'] = function () {\\tif (this.parentNode) {\\tthis.parentNode.removeChild(this);\\t}\\t};\\t}</script><meta http-equiv=\"X-UA-Compatible\" content=\"IE=edge\" /><meta name=\"author\" content=\"\"><link rel=\"shortcut icon\" type=\"image/x-icon\" href=\"/images/cric_ball.ico\" /><meta name=\"google-signin-client_id\" content=\"125255339112-d594jen12o0j854sufu8jfn2gbbnaskj.apps.googleusercontent.com\"><LINK REL=\"apple-touch-icon\" href=\"/images/apple-touch-icon.png\" /> <title itemprop=\"name\">World Cup 2019, Cricket Score, Schedule, Latest News, Stats & Videos | Cricbuzz.com</title><meta name=\"description\" itemprop=\"description\" content=\"Get Live Cricket Score, Scorecard, Schedules of International, Domestic and World Cup matches along with Latest News, Videos and ICC Cricket Rankings of Players on Cricbuzz.\"><link rel=\"alternate\" href=\"android-app://com.cricbuzz.android/http/www.cricbuzz.com/\"><link rel=\"alternate\" href=\"//m.cricbuzz.com/\" media=\"only screen and (max-width: 640px)\"><meta name=\"robots\" content=\"index, follow\"><meta name=\"googlebot\" content=\"index, follow\"><meta name=\"google-site-verification\" content=\"google89fd37b1258ef4b9.html\"><meta name=\"p:domain_verify\" content=\"fd560568b43f31382de30f628c8430bd\"><meta name=\"msvalidate.01\" content=\"A509FA8BAE50018F9DF2553AEDEDF77B\"> <meta property=\"og:title\" content=\"World Cup 2019, Cricket Score, Schedule, Latest News, Stats &amp; Videos\"><meta property=\"og:description\" content=\"Get Live Cricket Score, Scorecard, Schedules of International, Domestic and World Cup matches along with Latest News, Videos and ICC Cricket Rankings of Players on Cricbuzz.\"><meta property=\"og:image\" content=\"http://www.cricbuzz.com\"><meta property=\"og:image:secure_url\" content=\"https://www.cricbuzz.com\"><meta property=\"fb:app_id\" content=\"30119633160\"><meta property=\"og:site_name\" content=\"Cricbuzz\"> <meta property=\"twitter:title\" content=\"World Cup 2019, Cricket Score, Schedule, Latest News, Stats &amp; Videos\"><meta property=\"twitter:description\" content=\"Get Live Cricket Score, Scorecard, Schedules of International, Domestic and World Cup matches along with Latest News, Videos and ICC Cricket Rankings of Players on Cricbuzz.\"><meta property=\"twitter:image\" content=\"https://www.cricbuzz.com\"><meta name=\"twitter:site\" content=\"@cricbuzz\"><meta name=\"twitter:domain\" content=\"cricbuzz.com\"><meta name=\"twitter:app:name:iphone\" content=\"Cricbuzz\"><meta name=\"twitter:app:id:iphone\" content=\"360466413\"><meta name=\"twitter:app:name:googleplay\" content=\"Cricbuzz\"><meta name=\"twitter:app:id:googleplay\" content=\"com.cricbuzz.android\"><meta name=\"twitter:widgets:csp\" content=\"on\"><meta property=\"fb:pages\" content=\"178697151159\" /><meta name=\"keywords\" content=\"\"><meta name=\"news_keywords\" content=\"\"><link rel=\"canonical\" href=\"https://www.cricbuzz.com\"><meta name=\"msapplication-config\" content=\"none\"/><script>var PAGE_NAME = \"cb-homepage\";\\tvar PAGE_TARGETS = {};\\tvar CBQueue = CBQueue || [];\\tvar CBQueueOnLoad = CBQueueOnLoad || [];\\t/*CBQueue.push(function(){roadblock(2,{country:[\"US\",\"CA\", \"ZA\", \"AU\"], continent:[\"EU\"]});});*/\\tCBQueue.push(function(){roadblock(2,{country:[\"US\"]});});\\t_udn = \"cricbuzz.com\";</script><script>(function(w){\\t\"use strict\";\\tvar loadCSS = function( href, before, media ){\\tvar doc = w.document;\\tvar ss = doc.createElement( \"link\" );\\tvar ref;\\tif( before ){\\tref = before;\\t}\\telse {\\tvar refs = ( doc.body || doc.getElementsByTagName( \"head\" )[ 0 ] ).childNodes;\\tref = refs[ refs.length - 1];\\t}\\tvar sheets = doc.styleSheets;\\tss.rel = \"stylesheet\";\\tss.href = href;\\tss.media = \"only x\";\\tref.parentNode.insertBefore( ss, ( before ? ref : ref.nextSibling ) );\\tvar onloadcssdefined = function( cb ){\\tvar resolvedHref = ss.href;\\tvar i = sheets.length;\\twhile( i-- ){\\tif( sheets[ i ].href === resolvedHref ){\\treturn cb();\\t}\\t}\\tsetTimeout(function() {\\tonloadcssdefined( cb );\\t});\\t};\\tss.onloadcssdefined = onloadcssdefined;\\tonloadcssdefined(function() {\\tss.media = media || \"all\";\\t});\\treturn ss;\\t};\\tif( typeof module !== \"undefined\" ){\\tmodule.exports = loadCSS;\\t}\\telse {\\tw.loadCSS = loadCSS;\\t}\\t}( typeof global !== \"undefined\" ? global : this ));\\tloadCSS( \"/dist/css/cricbuzz.min.6501.css\" );</script><noscript><link rel=\"stylesheet\" type=\"text/css\" href=\"/dist/css/cricbuzz.min.6501.css\"></noscript></head><body><a href=\"https://plus.google.com/104502282508811467249\" rel=\"publisher\"></a><a id=\"ad-skin\" target=\"_blank\" href=\"Javascript:void(0)\" class=\"cb-skin-ads-link cb-skin-ads-link-fixed ad-skin\"></a><a href=\"Javascript:void(0)\" class=\"cb-skin-ads-close cb-font-18 ad-skin-close\" style=\"position:fixed; z-index:1001; color:#FFF; background:#000; padding:2px 5px; right:2px;\">&#x2716;</a><header id=\"top\" style=\"z-index: 1000;position: relative;padding-top:10px;width:980px;margin:0 auto;\" itemscope itemtype=\"http://schema.org/WPHeader\"><div class=\"container\"><div id=\"leaderboard\" class=\"ad-unit text-center center-block\" style=\"min-height:90px;margin-bottom:10px;\"></div><div id=\"countdown\" class=\"ad-unit\" style=\"margin:-10px 15px 0px;float:right;position:absolute;\"></div><div class=\"toi-branding toi-referral\"></div><nav class=\"cb-nav cb-col cb-col-100\" id=\"cb-main-menu\"><a href=\"/\" target=\"_self\" class=\"cb-hm-text\"><img itemprop=\"image\" height=\"30\" width=\"101\" style=\"bottom: -4px; position: relative;\" alt=\"Cricbuzz Logo\" title=\"Cricbuzz Logo\" src=\"/images/cbz-logo.png\"></a><a class=\"cb-hm-mnu-itm\" target=\"_self\" href=\"/cricket-match/live-scores\" title=\"Live Cricket Score\">Live Scores</a><a class=\"cb-hm-mnu-itm\" target=\"_self\" href=\"/cricket-schedule/upcoming-series/international\" title=\"Cricket Schedule\">Schedule</a><a class=\"cb-hm-mnu-itm\" target=\"_self\" href=\"/cricket-scorecard-archives\" title=\"Cricket Scorecard Archives\">Archives</a><div class=\"cb-subnav cb-hm-mnu-itm feature-button cursor-pointer\" id=\"newsDropDown\"><a class=\"text-white\" target=\"_self\" href=\"/cricket-news\" >News</a><span class =\"cb-caret-down\"></span><nav class=\"cb-sub-navigation\"><a class=\"cb-subnav-item\" target=\"_self\" href=\"/cricket-news\" title=\"Latest Cricket News\">All Stories</a><a class=\"cb-subnav-item\" target=\"_self\" href=\"/cricket-news/latest-news\" title=\"Latest Cricket News\">Latest News</a><a class=\"cb-subnav-item\" target=\"_self\" href=\"/cricket-news/info/\" title=\"Latest Cricket Topics\">Topics</a><a class=\"cb-subnav-item\" target=\"_self\" href=\"/cricket-news/editorial/spotlight\" title=\"Cricket Editorials and Specials\">Spotlight</a><a class=\"cb-subnav-item\" target=\"_self\" href=\"/cricket-news/editorial/editorial-list\" title=\"Latest Cricket Opinions & Editorials\">Opinions</a><a class=\"cb-subnav-item\" target=\"_self\" href=\"/cricket-news/editorial/specials\" title=\"Latest Cricket Specials\">Specials</a><a class=\"cb-subnav-item\" target=\"_self\" href=\"/cricket-news/editorial/stats-analysis\" title=\"Latest Cricket Stats & Analysis\">Stats & Analysis</a><a class=\"cb-subnav-item\" target=\"_self\" href=\"/cricket-news/editorial/interviews\" title=\"Latest Cricket Player Interviews\">Interviews</a><a class=\"cb-subnav-item\" target=\"_self\" href=\"/cricket-news/editorial/live-blogs\" title=\"Latest Cricket Match live blogs\">Live Blogs</a><a class=\"cb-subnav-item\" target=\"_self\" href=\"/cricket-news/experts/harsha-bhogle/170\" title=\"Articles and Videos by Harsha Bhogle\">Harsha Bhogle</a></nav></div><div class=\"cb-subnav cb-hm-mnu-itm feature-button cursor-pointer\" id=\"seriesDropDown\"><a class=\"text-white\" target=\"_self\" href=\"/cricket-schedule/series\" >Series</a><span class =\"cb-caret-down\"></span><nav class=\"cb-sub-navigation\"><a class=\"cb-subnav-item\" target=\"_self\" href=\"/cricket-series/2697/icc-cricket-world-cup-2019\" title=\"ICC Cricket World Cup 2019\">ICC Cricket World Cup 2019</a><a class=\"cb-subnav-item\" target=\"_self\" href=\"/cricket-series/2818/zimbabwe-tour-of-netherlands-2019\" title=\"Zimbabwe tour of Netherlands, 2019\">Zimbabwe tour of Netherlands, 2019</a><a class=\"cb-subnav-item\" target=\"_self\" href=\"/cricket-series/2844/malaysia-tri-series-2019\" title=\"Malaysia Tri-Series 2019\">Malaysia Tri-Series 2019</a><a class=\"cb-subnav-item\" target=\"_self\" href=\"/cricket-series/2793/zimbabwe-tour-of-ireland-2019\" title=\"Zimbabwe tour of Ireland, 2019\">Zimbabwe tour of Ireland, 2019</a><a class=\"cb-subnav-item\" target=\"_self\" href=\"/cricket-series/2777/west-indies-women-tour-of-england-2019\" title=\"West Indies Women tour of England, 2019\">West Indies Women tour of England, 2019</a><a class=\"cb-subnav-item\" target=\"_self\" href=\"/cricket-series/2780/county-championship-division-one-2019\" title=\"County Championship Division One 2019\">County Championship Division One 2019</a></nav></div><div class=\"cb-subnav cb-hm-mnu-itm feature-button cursor-pointer\" id=\"teamDropDown\"><a class=\"text-white\" target=\"_self\" href=\"/cricket-team\" >Teams</a><span class =\"cb-caret-down\"></span><nav class=\"cb-sub-navigation cb-sub-lg\"> <div class=\"cb-sub-lg-outer\"> <div class=\"cb-sub-lg-sec\"> <h4 class=\"cb-sub-lg-sec-head\">Test Teams</h4> <a class=\"cb-subnav-item cb-sub-lg-sec-item\" target=\"_self\" href=\"/cricket-team/india/2\" title=\"India Cricket Team\">India</a> <a class=\"cb-subnav-item cb-sub-lg-sec-item\" target=\"_self\" href=\"/cricket-team/pakistan/3\" title=\"Pakistan Cricket Team\">Pakistan</a> <a class=\"cb-subnav-item cb-sub-lg-sec-item\" target=\"_self\" href=\"/cricket-team/australia/4\" title=\"Australia Cricket Team\">Australia</a> <a class=\"cb-subnav-item cb-sub-lg-sec-item\" target=\"_self\" href=\"/cricket-team/sri-lanka/5\" title=\"Sri Lanka Cricket Team\">Sri Lanka</a> <a class=\"cb-subnav-item cb-sub-lg-sec-item\" target=\"_self\" href=\"/cricket-team/bangladesh/6\" title=\"Bangladesh Cricket Team\">Bangladesh</a> <a class=\"cb-subnav-item cb-sub-lg-sec-item\" target=\"_self\" href=\"/cricket-team/england/9\" title=\"England Cricket Team\">England</a> <a class=\"cb-subnav-item cb-sub-lg-sec-item\" target=\"_self\" href=\"/cricket-team/west-indies/10\" title=\"West Indies Cricket Team\">West Indies</a> <a class=\"cb-subnav-item cb-sub-lg-sec-item\" target=\"_self\" href=\"/cricket-team/south-africa/11\" title=\"South Africa Cricket Team\">South Africa</a> <a class=\"cb-subnav-item cb-sub-lg-sec-item\" target=\"_self\" href=\"/cricket-team/zimbabwe/12\" title=\"Zimbabwe Cricket Team\">Zimbabwe</a> <a class=\"cb-subnav-item cb-sub-lg-sec-item\" target=\"_self\" href=\"/cricket-team/new-zealand/13\" title=\"New Zealand Cricket Team\">New Zealand</a> <a class=\"cb-subnav-item cb-sub-lg-sec-item\" target=\"_self\" href=\"/cricket-team/ireland/27\" title=\"Ireland Cricket Team\">Ireland</a> <a class=\"cb-subnav-item cb-sub-lg-sec-item\" target=\"_self\" href=\"/cricket-team/afghanistan/96\" title=\"Afghanistan Cricket Team\">Afghanistan</a> </div> <div class=\"cb-sub-lg-sec\"> <h4 class=\"cb-sub-lg-sec-head\">Associate</h4> <a class=\"cb-subnav-item cb-sub-lg-sec-item\" target=\"_self\" href=\"/cricket-team/united-arab-emirates/7\" title=\"United Arab Emirates Cricket Team\">United Arab Emirates</a> <a class=\"cb-subnav-item cb-sub-lg-sec-item\" target=\"_self\" href=\"/cricket-team/hong-kong/8\" title=\"Hong Kong Cricket Team\">Hong Kong</a> <a class=\"cb-subnav-item cb-sub-lg-sec-item\" target=\"_self\" href=\"/cricket-team/kenya/14\" title=\"Kenya Cricket Team\">Kenya</a> <a class=\"cb-subnav-item cb-sub-lg-sec-item\" target=\"_self\" href=\"/cricket-team/united-states/15\" title=\"United States Cricket Team\">United States</a> <a class=\"cb-subnav-item cb-sub-lg-sec-item\" target=\"_self\" href=\"/cricket-team/scotland/23\" title=\"Scotland Cricket Team\">Scotland</a> <a class=\"cb-subnav-item cb-sub-lg-sec-item\" target=\"_self\" href=\"/cricket-team/netherlands/24\" title=\"Netherlands Cricket Team\">Netherlands</a> <a class=\"cb-subnav-item cb-sub-lg-sec-item\" target=\"_self\" href=\"/cricket-team/bermuda/25\" title=\"Bermuda Cricket Team\">Bermuda</a> <a class=\"cb-subnav-item cb-sub-lg-sec-item\" target=\"_self\" href=\"/cricket-team/canada/26\" title=\"Canada Cricket Team\">Canada</a> <a class=\"cb-subnav-item cb-sub-lg-sec-item\" target=\"_self\" href=\"/cricket-team/uganda/44\" title=\"Uganda Cricket Team\">Uganda</a> <a class=\"cb-subnav-item cb-sub-lg-sec-item\" target=\"_self\" href=\"/cricket-team/malaysia/71\" title=\"Malaysia Cricket Team\">Malaysia</a> <a class=\"cb-subnav-item cb-sub-lg-sec-item\" target=\"_self\" href=\"/cricket-team/nepal/72\" title=\"Nepal Cricket Team\">Nepal</a> <a class=\"cb-subnav-item cb-sub-lg-sec-item\" target=\"_self\" href=\"/cricket-team/germany/77\" title=\"Germany Cricket Team\">Germany</a> </div> </div> <a target=\"_self\" href=\"/cricket-team\" class=\"cb-sub-lg-more\">More...</a></nav></div> <div class=\"cb-subnav cb-hm-mnu-itm feature-button cursor-pointer\" id=\"videosDropDown\"><a class=\"text-white\" target=\"_self\" href=\"/cricket-videos\">Videos</a><span class =\"cb-caret-down\"></span> <nav class=\"cb-sub-navigation\"> <a target=\"_self\" class=\"cb-subnav-item\" href=\"/cricket-videos\" title=\"All Cricket Videos\">All Videos</a> <a target=\"_self\" class=\"cb-subnav-item\" href=\"/cricket-videos/categories\" title=\"Cricket Videos Categories\">Categories</a> <a target=\"_self\" class=\"cb-subnav-item\" href=\"/cricket-videos/playlists\" title=\"Cricket Videos Playlists\">Playlists</a> </nav> </div> <div class=\"cb-subnav cb-hm-mnu-itm feature-button cursor-pointer\" id=\"rankingDropDown\"><a class=\"text-white\" href=\"/cricket-stats/icc-rankings/men/batting\">Rankings</a><span class =\"cb-caret-down\"></span><nav class=\"cb-sub-navigation\"><a class=\"cb-subnav-item\" target=\"_self\" href=\"/cricket-stats/icc-rankings/men/batting\" title=\"ICC Rankings Men\">ICC Rankings - Men</a><a class=\"cb-subnav-item\" target=\"_self\" href=\"/cricket-stats/icc-rankings/women/batting\" title=\"ICC Rankings Women\">ICC Rankings - Women</a></nav></div> <div class=\"cb-subnav cb-hm-mnu-itm feature-button cursor-pointer\">More<span class =\"cb-caret-down\"></span><nav class=\"cb-sub-navigation\" style=\"right:0px;\"> <a class=\"cb-subnav-item\" target=\"_self\" href=\"/cricket-photo-gallery\" title=\"Photo Gallery\">Photos</a> <a class=\"cb-subnav-item\" target=\"_self\" href=\"/mobileapps\" title=\"Mobile Apps\">Mobile Apps</a><a class=\"cb-subnav-item\" target=\"_self\" href=\"/careers\" title=\"Careers\">Careers</a><a class=\"cb-subnav-item\" target=\"_self\" href=\"/info/contact\" title=\"Contact Us\">Contact Us</a></nav></div> <div ng-controller=\"SearchCtrl\" ng-init=\" init(-1, 61, 76, 350, \\'\\', \\'nav\\')\"> <div class=\"cb-nav-search-wrap\" ng-style=\"{width: inputFocus?\\'830px\\':\\'170px\\'}\"> <div class=\"cb-col-100 cb-col cb-srch-bar cb-srch-bar-nav\"> <form ng-submit=\"search_results(false, false)\" name=\"form\" class=\"cb-search-form\" ng-cloak> <div class=\"cb-search-input-nav\"> <div class=\"cb-search-outer\"> <div class=\"cb-search-input-wrap\"> <input type=\"text\" class=\"js-cb-search-input cb-search-input-elem cb-search-input-elem-nav form-control cb-car-inp cb-srch-bg\" ng-change=\"suggest_search()\" maxlength=\"500\" ng-model=\"searchText\" id=\"search_bar\" name=\"search\" value=\"suggest.title\" autocomplete=\"off\" ng-class=\"{\\'cb-search-input-elem-error-nav\\':errorText, \\'cb-srch-high-zIndex\\':dropdownVisible, \\'cb-srch-input-focus\\':inputFocus}\" placeholder=\"{{errorText?errorText:(source == \\'nav\\' && inputFocus) || source == \\'search-page\\'?\\'Search for Player, Series, Team, News or Video. eg: Windies tour of India\\': \\'Search\\'}}\" ng-keydown=\"onKeyPress($event)\" ng-focus=\"onInputFocus()\" ng-blur=\"loseInputFocus()\" ng-model-options=\"{ debounce: 400 }\"/> <span class=\"cb-ico cb-search-input-icon cb-search-input-icon-nav\"></span> <span class=\"cb-srch-cross-new cb-srch-cross-new-nav cb-font-14\" ng-class=\"{\\'cb-srch-cross-focus\\': inputFocus, \\'cb-srch-high-zIndex\\':dropdownVisible}\" ng-click=\"reset_form(\\'view\\');\" ng-show=\"searchText.length > 0\">â\\x9c\\x96</span> </div> <div ng-show=\"dropdownVisible\" class=\"cb-srch-backdrop\" ng-click=\"hideDropdown()\"></div> <div ng-show=\"dropdownVisible && searchText.length >= 2 && search_ftr_suggst.length > 0\" class=\"cb-main-srch-box-wrap\"> <ul class=\"cb-main-srch-box\" id=\"searchBox_nav\"> <li class=\"cb-main-srch-box-item {{selected_suggestions == $index?\\'highlight\\':\\'\\'}}\" id=\"search_item_{{$index}}\" ng-click=\"search_results()\" ng-repeat=\"suggest in search_ftr_suggst track by $index\" ng-show=\"suggestions && searchText.length > 0 && inputFocus\" ng-mouseover=\"highlight_item_mouse_hover($index)\" ng-class=\"{\\'cb-main-srch-box-item-border\\':suggest.hasBorder, \\'cb-big\\': suggest.isSearchItem}\" > <a ng-if=\"!suggest.isSearchItem\" class=\"text-black cb-srch-suggest-link\"> <div class=\"cb-srch-suggest-img\" ng-class=\"{\\'cb-srch-suggest-img-teams\\': suggest.type == \\'Teams\\'}\"> <div ng-if=\"suggest.imgUrl\" class=\"\"> <img class=\"cb-srch-suggest-icon-img\" ng-src=\"{{suggest.imgUrl}}\" /> </div> <div ng-if=\"!suggest.imgUrl\" class=\"cb-srch-sugggest-icon {{suggest.iconClass}} cb-ico\"> </div> </div> <div class=\"cb-srch-suggest-content\"> <p class=\"cb-srch-suggest-content-title\" ng-bind-html=\"suggest | searchfilter:oldText\"></p> <p class=\"cb-srch-suggest-content-subtitle cb-font-12 cb-text-gray\">{{suggest.tag}}</p> </div> </a> <a ng-if=\"suggest.isSearchItem\" href=\"javascript:void(0)\" class=\"text-black cb-srch-suggest-link\"> <div class=\"cb-srch-suggest-img\"> <div class=\"cb-srch-sugggest-icon cb-srch-sugggest-icon-search cb-ico\"> </div> </div> <div class=\"cb-srch-suggest-content cb-center-text\"> <p class=\"cb-srch-suggest-content-title\">Search for &#8220;<span ng-bind=\"searchText\"></span>&#8221;</p> </div> </a> </li> </ul> </div> </div> </div> <div class=\"cb-search-submit-nav\" ng-class=\"{\\'cb-search-submit-input-focus\\': inputFocus, \\'cb-search-submit-error\\': errorText}\"> <a class=\"text-white cb-srch-bttn\" ng-class=\"{\\'cb-srch-high-zIndex\\':dropdownVisible}\" ng-click=\"search_results(false, true)\">SEARCH</a> </div> </form></div><style>.cb-srch-ico{margin: 0}</style> </div> </div> </nav></div></header><div class=\"page\"><div id=\"fb-root\"></div><div id=\"page-wrapper\" class=\"container\" style=\"display:inline-block;\"><div id=\"shosh\" class=\"ad-unit shosh-embed\" style=\"height:0; width:980px; text-align:center;\"></div><span id=\"skin_left\" class=\"ad-unit\" style=\"overflow:hidden; position:fixed;top:0;left:calc(50% - 635px);margin-right:3px;z-index:-99;\" ></span> <div class=\"cb-col cb-col-100\"><div id=\"match_menu_container\" class=\"cb-col cb-col-100 html-refresh\" url=\"/api/html/homepage-scag\" timeout=\"45000\"><div class=\"cb-nav-main cb-bg-white\" ng-init=\"run_active = \\'Featured\\'\"><nav class=\"cb-nav-bar\" id=\"scagTab\"><a href=\"javascript:void(0)\" ng-class=\"{true:\\'active\\',false:\\'\\'}[run_active == \\'Featured\\']\" class=\"cb-nav-tab-hm active\" id=\"featured-mtchs-tab\" ng-click=\"run_active = \\'Featured\\'\">Featured</a><a href=\"javascript:void(0)\" ng-class=\"{true:\\'active\\',false:\\'\\'}[run_active == \\'International\\']\" class=\"cb-nav-tab-hm \" id=\"international-mtchs-tab\" ng-click=\"run_active = \\'International\\'\">International</a><a href=\"javascript:void(0)\" ng-class=\"{true:\\'active\\',false:\\'\\'}[run_active == \\'ICC Cricket WC 2019\\']\" class=\"cb-nav-tab-hm \" id=\"icc-cricket-wc-2019-mtchs-tab\" ng-click=\"run_active = \\'ICC Cricket WC 2019\\'\">ICC Cricket WC 2019</a><a href=\"javascript:void(0)\" ng-class=\"{true:\\'active\\',false:\\'\\'}[run_active == \\'PAK U19 tour of SA\\']\" class=\"cb-nav-tab-hm \" id=\"pak-u19-tour-of-sa-mtchs-tab\" ng-click=\"run_active = \\'PAK U19 tour of SA\\'\">PAK U19 tour of SA</a><a class=\"cb-nav-tab-hm cb-text-link cb-all-mtch-tab\" href=\"/cricket-match/live-scores\" title=\"Live Scores of Cricket Matches\" id=\"AllMatches\">All Matches</a></nav></div><div class=\"cb-bg-white\" style=\"min-height:90px;\" id=\"hm-scag-mtch-blk\"><div ng-if=\"run_active == \\'Featured\\'\" ><div class=\"cb-col-100 cb-col cb-hm-scg-blk \"><div class=\"cb-col cb-col-25 cb-mtch-blk\"><a title=\"Pakistan v Afghanistan - Match 36\" href=\"/live-cricket-scores/20272/pak-vs-afg-match-36-icc-cricket-world-cup-2019\" target=\"_self\" class=\"cb-font-12\"><div class=\"cb-hmscg-bat-txt cb-ovr-flo \"><div class=\\'cb-ovr-flo cb-hmscg-tm-nm\\'>AFG</div><div class=\\'cb-ovr-flo\\' style=\\'display:inline-block; width:140px\\'>82/3 (16.3 Ovs)</div></div><div class=\"cb-hmscg-bwl-txt \"><div class=\\'cb-ovr-flo cb-hmscg-tm-nm\\'>PAK</div><div class=\\'cb-ovr-flo\\' style=\\'display:inline-block; width:140px\\'></div></div><div class=\" cb-ovr-flo cb-text-live\">Afghanistan opt to bat</div></a></div><div class=\"cb-col cb-col-25 cb-mtch-blk\"><a title=\"England v India - Match 38\" href=\"/live-cricket-scores/20274/eng-vs-ind-match-38-icc-cricket-world-cup-2019\" target=\"_self\" class=\"cb-font-12\"><div class=\"cb-hmscg-bat-txt cb-ovr-flo \">England</div> <div class=\"cb-hmscg-bat-txt cb-ovr-flo \">India</div><div class=\" cb-ovr-flo cb-text-preview\" ng-bind=\"1561887000000 |date: \\'EEEE, d MMM, hh:mm a\\'\"></div></a></div><div class=\"cb-col cb-col-25 cb-mtch-blk\"><a title=\"New Zealand v Australia - Match 37\" href=\"/live-cricket-scores/20273/nz-vs-aus-match-37-icc-cricket-world-cup-2019\" target=\"_self\" class=\"cb-font-12\"><div class=\"cb-hmscg-bat-txt cb-ovr-flo \">New Zealand</div> <div class=\"cb-hmscg-bat-txt cb-ovr-flo \">Australia</div><div class=\" cb-ovr-flo cb-text-preview\" ng-bind=\"1561811400000 |date: \\'EEEE, d MMM, hh:mm a\\'\"></div></a></div><div class=\"cb-col cb-col-25 cb-mtch-blk\"><a title=\"Sri Lanka v South Africa - Match 35\" href=\"/live-cricket-scores/20271/sl-vs-rsa-match-35-icc-cricket-world-cup-2019\" target=\"_self\" class=\"cb-font-12\"><div class=\"cb-hmscg-bat-txt cb-ovr-flo \"><div class=\\'cb-ovr-flo cb-hmscg-tm-nm\\'>RSA</div><div class=\\'cb-ovr-flo\\' style=\\'display:inline-block; width:140px\\'>206/1 (37.2 Ovs)</div></div><div class=\"cb-hmscg-bwl-txt \"><div class=\\'cb-ovr-flo cb-hmscg-tm-nm\\'>SL</div><div class=\\'cb-ovr-flo\\' style=\\'display:inline-block; width:140px\\'>203 (49.3 Ovs)</div></div><div class=\" cb-ovr-flo cb-text-complete\">South Africa won by 9 wkts</div></a></div></div></div><div ng-if=\"run_active == \\'International\\'\" ><div class=\"cb-col-100 cb-col cb-hm-scg-blk ng-cloak\"><div class=\"cb-col cb-col-25 cb-mtch-blk\"><a title=\"Pakistan v Afghanistan - Match 36\" href=\"/live-cricket-scores/20272/pak-vs-afg-match-36-icc-cricket-world-cup-2019\" target=\"_self\" class=\"cb-font-12\"><div class=\"cb-hmscg-bat-txt cb-ovr-flo \"><div class=\\'cb-ovr-flo cb-hmscg-tm-nm\\'>AFG</div><div class=\\'cb-ovr-flo\\' style=\\'display:inline-block; width:140px\\'>82/3 (16.3 Ovs)</div></div><div class=\"cb-hmscg-bwl-txt \"><div class=\\'cb-ovr-flo cb-hmscg-tm-nm\\'>PAK</div><div class=\\'cb-ovr-flo\\' style=\\'display:inline-block; width:140px\\'></div></div><div class=\" cb-ovr-flo cb-text-live\">Afghanistan opt to bat</div></a></div><div class=\"cb-col cb-col-25 cb-mtch-blk\"><a title=\"England v India - Match 38\" href=\"/live-cricket-scores/20274/eng-vs-ind-match-38-icc-cricket-world-cup-2019\" target=\"_self\" class=\"cb-font-12\"><div class=\"cb-hmscg-bat-txt cb-ovr-flo \">England</div> <div class=\"cb-hmscg-bat-txt cb-ovr-flo \">India</div><div class=\" cb-ovr-flo cb-text-preview\" ng-bind=\"1561887000000 |date: \\'EEEE, d MMM, hh:mm a\\'\"></div></a></div><div class=\"cb-col cb-col-25 cb-mtch-blk\"><a title=\"New Zealand v Australia - Match 37\" href=\"/live-cricket-scores/20273/nz-vs-aus-match-37-icc-cricket-world-cup-2019\" target=\"_self\" class=\"cb-font-12\"><div class=\"cb-hmscg-bat-txt cb-ovr-flo \">New Zealand</div> <div class=\"cb-hmscg-bat-txt cb-ovr-flo \">Australia</div><div class=\" cb-ovr-flo cb-text-preview\" ng-bind=\"1561811400000 |date: \\'EEEE, d MMM, hh:mm a\\'\"></div></a></div><div class=\"cb-col cb-col-25 cb-mtch-blk\"><a title=\"Sri Lanka v South Africa - Match 35\" href=\"/live-cricket-scores/20271/sl-vs-rsa-match-35-icc-cricket-world-cup-2019\" target=\"_self\" class=\"cb-font-12\"><div class=\"cb-hmscg-bat-txt cb-ovr-flo \"><div class=\\'cb-ovr-flo cb-hmscg-tm-nm\\'>RSA</div><div class=\\'cb-ovr-flo\\' style=\\'display:inline-block; width:140px\\'>206/1 (37.2 Ovs)</div></div><div class=\"cb-hmscg-bwl-txt \"><div class=\\'cb-ovr-flo cb-hmscg-tm-nm\\'>SL</div><div class=\\'cb-ovr-flo\\' style=\\'display:inline-block; width:140px\\'>203 (49.3 Ovs)</div></div><div class=\" cb-ovr-flo cb-text-complete\">South Africa won by 9 wkts</div></a></div></div></div><div ng-if=\"run_active == \\'ICC Cricket WC 2019\\'\" ><div class=\"cb-col-100 cb-col cb-hm-scg-blk ng-cloak\"><div class=\"cb-col cb-col-25 cb-mtch-blk\"><a title=\"Pakistan v Afghanistan - Match 36\" href=\"/live-cricket-scores/20272/pak-vs-afg-match-36-icc-cricket-world-cup-2019\" target=\"_self\" class=\"cb-font-12\"><div class=\"cb-hmscg-bat-txt cb-ovr-flo \"><div class=\\'cb-ovr-flo cb-hmscg-tm-nm\\'>AFG</div><div class=\\'cb-ovr-flo\\' style=\\'display:inline-block; width:140px\\'>82/3 (16.3 Ovs)</div></div><div class=\"cb-hmscg-bwl-txt \"><div class=\\'cb-ovr-flo cb-hmscg-tm-nm\\'>PAK</div><div class=\\'cb-ovr-flo\\' style=\\'display:inline-block; width:140px\\'></div></div><div class=\" cb-ovr-flo cb-text-live\">Afghanistan opt to bat</div></a></div><div class=\"cb-col cb-col-25 cb-mtch-blk\"><a title=\"England v India - Match 38\" href=\"/live-cricket-scores/20274/eng-vs-ind-match-38-icc-cricket-world-cup-2019\" target=\"_self\" class=\"cb-font-12\"><div class=\"cb-hmscg-bat-txt cb-ovr-flo \">England</div> <div class=\"cb-hmscg-bat-txt cb-ovr-flo \">India</div><div class=\" cb-ovr-flo cb-text-preview\" ng-bind=\"1561887000000 |date: \\'EEEE, d MMM, hh:mm a\\'\"></div></a></div><div class=\"cb-col cb-col-25 cb-mtch-blk\"><a title=\"New Zealand v Australia - Match 37\" href=\"/live-cricket-scores/20273/nz-vs-aus-match-37-icc-cricket-world-cup-2019\" target=\"_self\" class=\"cb-font-12\"><div class=\"cb-hmscg-bat-txt cb-ovr-flo \">New Zealand</div> <div class=\"cb-hmscg-bat-txt cb-ovr-flo \">Australia</div><div class=\" cb-ovr-flo cb-text-preview\" ng-bind=\"1561811400000 |date: \\'EEEE, d MMM, hh:mm a\\'\"></div></a></div><div class=\"cb-col cb-col-25 cb-mtch-blk\"><a title=\"Sri Lanka v South Africa - Match 35\" href=\"/live-cricket-scores/20271/sl-vs-rsa-match-35-icc-cricket-world-cup-2019\" target=\"_self\" class=\"cb-font-12\"><div class=\"cb-hmscg-bat-txt cb-ovr-flo \"><div class=\\'cb-ovr-flo cb-hmscg-tm-nm\\'>RSA</div><div class=\\'cb-ovr-flo\\' style=\\'display:inline-block; width:140px\\'>206/1 (37.2 Ovs)</div></div><div class=\"cb-hmscg-bwl-txt \"><div class=\\'cb-ovr-flo cb-hmscg-tm-nm\\'>SL</div><div class=\\'cb-ovr-flo\\' style=\\'display:inline-block; width:140px\\'>203 (49.3 Ovs)</div></div><div class=\" cb-ovr-flo cb-text-complete\">South Africa won by 9 wkts</div></a></div></div></div><div ng-if=\"run_active == \\'PAK U19 tour of SA\\'\" ><div class=\"cb-col-100 cb-col cb-hm-scg-blk ng-cloak\"><div class=\"cb-col cb-col-25 cb-mtch-blk\"><a title=\"South Africa U19 v Pakistan U19 - 4th Youth ODI\" href=\"/live-cricket-scores/22864/rsau19-vs-paku19-4th-youth-odi-pakistan-under-19-tour-of-south-africa-2019\" target=\"_self\" class=\"cb-font-12\"><div class=\"cb-hmscg-bat-txt cb-ovr-flo \">South Africa U19</div> <div class=\"cb-hmscg-bat-txt cb-ovr-flo \">Pakistan U19</div><div class=\" cb-ovr-flo cb-text-preview\" ng-bind=\"1561878000000 |date: \\'EEEE, d MMM, hh:mm a\\'\"></div></a></div></div></div></div></div><div id=\"menu_branding\" class=\"ad-unit\" style=\"float:right;\"></div></div><nav class=\"cb-col cb-col-100 cb-bg-white cb-qck-lnk\" id=\"cb-qck-navbar\"> <h1 class=\"cb-qck-lnk-hdr inline-block\">World Cup 2019</h1> <a class=\"cb-text-link cb-qck-ancr\" href=\"/cricket-series/2697/icc-cricket-world-cup-2019\" title=\"World Cup 2019\">Home</a><a class=\"cb-text-link cb-qck-ancr\" href=\"/cricket-series/2697/icc-cricket-world-cup-2019/matches\" title=\"World Cup 2019 Schedule\">Schedule</a><a class=\"cb-text-link cb-qck-ancr\" href=\"/cricket-series/2697/icc-cricket-world-cup-2019/points-table\" title=\"World Cup 2019 Points Table\">Points Table</a><a class=\"cb-text-link cb-qck-ancr\" href=\"/cricket-series/2697/icc-cricket-world-cup-2019/news\" title=\"World Cup 2019 News\">News</a><a class=\"cb-text-link cb-qck-ancr\" href=\"/cricket-series/2697/icc-cricket-world-cup-2019/videos\" title=\"World Cup 2019 Videos\">Videos</a><a class=\"cb-text-link cb-qck-ancr\" href=\"/cricket-series/2697/icc-cricket-world-cup-2019/squads\" title=\"World Cup 2019 Squads\">Squads</a><a class=\"cb-text-link cb-qck-ancr\" href=\"/special-content/boundary-tracker/2697/icc-cricket-world-cup-2019\" title=\"World Cup 2019 Boundary Tracker\">Boundary Tracker</a><a class=\"cb-text-link cb-qck-ancr\" href=\"/cricket-news/108171/world-cup-2019-that-happened\" title=\"World Cup Pulse\">Pulse</a></nav><style>.cb-qck-lnk-hdr{ font-size:18px; line-height: 27px;\\n}</style> <meta http-equiv=\"refresh\" content=\"400\"> <div class=\"cb-col cb-col-20\"> <div class=\"cb-bg-white\" id=\"cb-news-blck\"><h2 class=\"cb-hm-lft-hdr cb-lv-scr-mtch-hdr\">LATEST NEWS</h2><div class=\\'cb-hm-lft\\'><div class=\"cb-col-100 cb-lst-itm cb-lst-itm-sm\"><a class=\"cb-nws-hdln-ancr text-hvr-underline\" href=\"/cricket-news/108734/australia-resist-temptation-to-rest-starc-and-cummins-before-knockouts\" title=\"Australia resist temptation to rest Starc and Cummins before knockouts\">Australia resist temptation to rest Starc and Cummins before knockouts</a><div class=\"cb-nws-time\">8h ago</div></div><div class=\"cb-col-100 cb-lst-itm cb-lst-itm-sm\"><a class=\"cb-nws-hdln-ancr text-hvr-underline\" href=\"/cricket-news/108732/sri-lanka-switch-from-fifth-gear-to-reverse-in-double-quick-time\" title=\"Sri Lanka switch from fifth gear to reverse in double quick time\">Sri Lanka switch from fifth gear to reverse in double quick time</a><div class=\"cb-nws-time\">15h ago</div></div><div class=\"cb-col-100 cb-lst-itm cb-lst-itm-sm\"><a class=\"cb-nws-hdln-ancr text-hvr-underline\" href=\"/cricket-news/108731/du-plessis-and-the-saga-of-bittersweet-win\" title=\" Du Plessis and the saga of a bittersweet win\"> Du Plessis and the saga of a bittersweet win</a><div class=\"cb-nws-time\">15h ago</div></div><div class=\"cb-col-100 cb-lst-itm cb-lst-itm-sm\"><a class=\"cb-nws-hdln-ancr text-hvr-underline\" href=\"/cricket-news/108729/muted-buttler-keen-to-make-some-noise-icc-cricket-world-cup-2019\" title=\"Muted Buttler keen to make some noise\">Muted Buttler keen to make some noise</a><div class=\"cb-nws-time\">16h ago</div></div><div class=\"cb-col-100 cb-lst-itm cb-lst-itm-sm\"><a class=\"cb-nws-hdln-ancr text-hvr-underline\" href=\"/cricket-news/108726/naib-hopes-cricket-mends-relationships-off-the-pitch\" title=\"Naib hopes cricket mends relationships off the pitch\">Naib hopes cricket mends relationships off the pitch</a><div class=\"cb-nws-time\">18h ago</div></div><div class=\"cb-col-100 cb-lst-itm cb-lst-itm-sm\"><a class=\"cb-nws-hdln-ancr text-hvr-underline\" href=\"/cricket-news/108722/icc-cricket-world-cup-2019-carlos-brathwaite-fined-handed-demerit-point-for-dissenting-wide-call\" title=\"Brathwaite fined, handed demerit point for dissenting wide call\">Brathwaite fined, handed demerit point for dissenting wide call</a><div class=\"cb-nws-time\">22h ago</div></div><div class=\"cb-col-100 cb-lst-itm cb-lst-itm-sm\"><a class=\"cb-nws-hdln-ancr text-hvr-underline\" href=\"/cricket-news/108721/deepti-sharma-to-play-for-western-storm\" title=\"Deepti Sharma to play for Western Storm\">Deepti Sharma to play for Western Storm</a><div class=\"cb-nws-time\">22h ago</div></div><div class=\"cb-col-100 cb-lst-itm cb-lst-itm-sm\"><a class=\"cb-nws-hdln-ancr text-hvr-underline\" href=\"/cricket-news/108720/no-plan-to-retire-immediately-after-world-cup-mortaza\" title=\"No plan to retire immediately after World Cup: Mortaza\">No plan to retire immediately after World Cup: Mortaza</a><div class=\"cb-nws-time\">23h ago</div></div><div class=\"cb-col-100 cb-lst-itm cb-lst-itm-sm\"><a class=\"cb-nws-hdln-ancr text-hvr-underline\" href=\"/cricket-news/108718/icc-cricket-world-cup-2019-indian-cricket-team-west-indies-kl-rahul\" title=\"Rahul disappointed at throwing away starts\">Rahul disappointed at throwing away starts</a><div class=\"cb-nws-time\">1d ago</div></div><div class=\"cb-col-100 cb-lst-itm cb-lst-itm-sm\"><a class=\"cb-nws-hdln-ancr text-hvr-underline\" href=\"/cricket-news/108711/icc-cricket-world-cup-2019-south-africa-will-play-fearless-cricket-with-no-pressure-of-qualifying-chadika-hathurusingha-sri-lanka-cricket-team\" title=\"South Africa will play fearless cricket with no pressure of qualifying - Hathurusingha\">South Africa will play fearless cricket with no pressure of qualifying - Hathurusingha</a><div class=\"cb-nws-time\">1d ago</div></div><div class=\"cb-hm-mr-lnk\"><a class=\"cb-font-12 cb-text-link\" href=\"/cricket-news/latest-news\" title=\"More News\"><i>More News..</i></a></div></div></div> <div class=\"cb-bg-white\" id=\"hm-photos-blk\"> <h2 class=\"cb-hm-lft-hdr cb-lv-scr-mtch-hdr\">LATEST PHOTOS</h2> <div class=\\'cb-hm-lft\\'> <div class=\"cb-col-100 cb-lst-itm cb-lst-itm-sm\"> <a href=\"/cricket-gallery/4633/south-africa-v-sri-lanka-icc-world-cup-2019\" title=\"South Africa v Sri Lanka, ICC World Cup 2019\"> <img width=\"165\" height=\"95\" class=\"lazy-loading pad-0\" alt=\"South Africa v Sri Lanka, ICC World Cup 2019\" src=\"\" source=\"/a/img/v1/165x95/i1/c175780/south-africa-v-sri-lanka-icc.jpg\"/> <div class=\"cb-nws-hdln\">South Africa v Sri Lanka, ICC World Cup 2019</div> <span class=\"cb-nws-time\">Fri, Jun 28 2019</span> </a> </div> <div class=\"cb-col-100 cb-lst-itm cb-lst-itm-sm\"> <a href=\"/cricket-gallery/4632/west-indies-vs-india-icc-world-cup-2019-match-34\" title=\"West Indies vs India, ICC World Cup 2019, Match 34\"> <img width=\"165\" height=\"95\" class=\"lazy-loading pad-0\" alt=\"West Indies vs India, ICC World Cup 2019, Match 34\" src=\"\" source=\"/a/img/v1/165x95/i1/c175594/west-indies-vs-india-icc-worl.jpg\"/> <div class=\"cb-nws-hdln\">West Indies vs India, ICC World Cup 2019, Match 34</div> <span class=\"cb-nws-time\">Thu, Jun 27 2019</span> </a> </div> <div class=\"cb-col-100 cb-lst-itm cb-lst-itm-sm\"> <a href=\"/cricket-gallery/4631/new-zealand-vs-pakistan-icc-world-cup-match-33\" title=\"New Zealand vs Pakistan, ICC World Cup, Match 33\"> <img width=\"165\" height=\"95\" class=\"lazy-loading pad-0\" alt=\"New Zealand vs Pakistan, ICC World Cup, Match 33\" src=\"\" source=\"/a/img/v1/165x95/i1/c175492/new-zealand-vs-pakistan-icc-w.jpg\"/> <div class=\"cb-nws-hdln\">New Zealand vs Pakistan, ICC World Cup, Match 33</div> <span class=\"cb-nws-time\">Wed, Jun 26 2019</span> </a> </div> <div class=\"cb-col-100 cb-lst-itm cb-lst-itm-sm\"> <a href=\"/cricket-gallery/4630/england-v-australia-icc-world-cup-2019\" title=\"England v Australia, ICC World Cup 2019\"> <img width=\"165\" height=\"95\" class=\"lazy-loading pad-0\" alt=\"England v Australia, ICC World Cup 2019\" src=\"\" source=\"/a/img/v1/165x95/i1/c175312/england-v-australia-icc-world.jpg\"/> <div class=\"cb-nws-hdln\">England v Australia, ICC World Cup 2019</div> <span class=\"cb-nws-time\">Tue, Jun 25 2019</span> </a> </div> <div class=\"cb-col-100 cb-lst-itm cb-lst-itm-sm\"> <a href=\"/cricket-gallery/4629/afghanistan-v-bangladesh-icc-world-cup-match-31\" title=\"Afghanistan v Bangladesh, ICC World Cup, Match 31\"> <img width=\"165\" height=\"95\" class=\"lazy-loading pad-0\" alt=\"Afghanistan v Bangladesh, ICC World Cup, Match 31\" src=\"\" source=\"/a/img/v1/165x95/i1/c175163/afghanistan-v-bangladesh-icc.jpg\"/> <div class=\"cb-nws-hdln\">Afghanistan v Bangladesh, ICC World Cup, Match 31</div> <span class=\"cb-nws-time\">Mon, Jun 24 2019</span> </a> </div> <div class=\"cb-col-100 cb-lst-itm cb-lst-itm-sm\"> <a href=\"/cricket-gallery/4628/pakistan-vs-south-africa-match-30-icc-world-cup-2019\" title=\"Pakistan vs South Africa, Match 30, ICC World Cup 2019 \"> <img width=\"165\" height=\"95\" class=\"lazy-loading pad-0\" alt=\"Pakistan vs South Africa, Match 30, ICC World Cup 2019 \" src=\"\" source=\"/a/img/v1/165x95/i1/c175027/pakistan-vs-south-africa-matc.jpg\"/> <div class=\"cb-nws-hdln\">Pakistan vs South Africa, Match 30, ICC World Cup 2019 </div> <span class=\"cb-nws-time\">Sun, Jun 23 2019</span> </a> </div> <div class=\" cb-hm-mr-lnk\"> <a class=\"cb-font-12 cb-text-link\" href=\"/cricket-photo-gallery\" title=\"More Photos\"><i>More Photos..</i></a> </div> </div> </div> <div class=\"cb-bg-white\"> <h2 class=\"cb-hm-lft-hdr cb-lv-scr-mtch-hdr\">SCHEDULE</h2> <div class=\\'cb-hm-lft\\'> <div class=\"cb-col-100 cb-lst-itm cb-lst-itm-sm\"> <div>Pakistan vs Afghanistan, Match 36</div> <div class=\"cb-nws-time\"><span class=\"schedule-date\" timestamp=\"1561800600000\" venue=\"+01:00\" format=\"EEE MMM dd\"></span>&nbsp;&#8226;&nbsp;<span class=\"schedule-date\" timestamp=\"1561800600000\" venue=\"+01:00\" format=\"h:mm a\"></span>&nbsp;GMT</div> </div> <div class=\"cb-col-100 cb-lst-itm cb-lst-itm-sm\"> <div>New Zealand vs Australia, Match 37</div> <div class=\"cb-nws-time\"><span class=\"schedule-date\" timestamp=\"1561811400000\" venue=\"+01:00\" format=\"EEE MMM dd\"></span>&nbsp;&#8226;&nbsp;<span class=\"schedule-date\" timestamp=\"1561811400000\" venue=\"+01:00\" format=\"h:mm a\"></span>&nbsp;GMT</div> </div> <div class=\"cb-col-100 cb-lst-itm cb-lst-itm-sm\"> <div>England vs India, Match 38</div> <div class=\"cb-nws-time\"><span class=\"schedule-date\" timestamp=\"1561887000000\" venue=\"+01:00\" format=\"EEE MMM dd\"></span>&nbsp;&#8226;&nbsp;<span class=\"schedule-date\" timestamp=\"1561887000000\" venue=\"+01:00\" format=\"h:mm a\"></span>&nbsp;GMT</div> </div> <div class=\"cb-col-100 cb-lst-itm cb-lst-itm-sm\"> <div>Sri Lanka vs West Indies, Match 39</div> <div class=\"cb-nws-time\"><span class=\"schedule-date\" timestamp=\"1561973400000\" venue=\"+01:00\" format=\"EEE MMM dd\"></span>&nbsp;&#8226;&nbsp;<span class=\"schedule-date\" timestamp=\"1561973400000\" venue=\"+01:00\" format=\"h:mm a\"></span>&nbsp;GMT</div> </div> <div class=\"cb-col-100 cb-lst-itm cb-lst-itm-sm\"> <div>Ireland vs Zimbabwe, 1st ODI</div> <div class=\"cb-nws-time\"><span class=\"schedule-date\" timestamp=\"1561974300000\" venue=\"+01:00\" format=\"EEE MMM dd\"></span>&nbsp;&#8226;&nbsp;<span class=\"schedule-date\" timestamp=\"1561974300000\" venue=\"+01:00\" format=\"h:mm a\"></span>&nbsp;GMT</div> </div> <div class=\"cb-col-100 cb-lst-itm cb-lst-itm-sm\"> <div>Bangladesh vs India, Match 40</div> <div class=\"cb-nws-time\"><span class=\"schedule-date\" timestamp=\"1562059800000\" venue=\"+01:00\" format=\"EEE MMM dd\"></span>&nbsp;&#8226;&nbsp;<span class=\"schedule-date\" timestamp=\"1562059800000\" venue=\"+01:00\" format=\"h:mm a\"></span>&nbsp;GMT</div> </div> <div class=\"cb-col-100 cb-lst-itm cb-lst-itm-sm\"> <div>England vs New Zealand, Match 41</div> <div class=\"cb-nws-time\"><span class=\"schedule-date\" timestamp=\"1562146200000\" venue=\"+01:00\" format=\"EEE MMM dd\"></span>&nbsp;&#8226;&nbsp;<span class=\"schedule-date\" timestamp=\"1562146200000\" venue=\"+01:00\" format=\"h:mm a\"></span>&nbsp;GMT</div> </div> <div class=\"cb-hm-mr-lnk\"> <a class=\"cb-font-12 cb-text-link\" href=\"/cricket-schedule/upcoming-series/international\" title=\"Cricket Schedule\"><i>More Matches..</i></a> </div> </div> </div> </div><div class=\"cb-col cb-col-47\"><div id=\"video_playlist\"> <script> CBQueue.push(function(){ if((_GEO.country == \"US\" || _GEO.country == \"CA\") && false){ _ele(\\'#video_playlist\\').html(\\'<div class=\"cb-bg-white\" style=\"margin:0 5px 10px;\"><div class=\"kaltura-playlist\" uiconf_id=\"33885652\" entry_id=\"0_lvphia47\" uiautoplay=\"false\" style=\"width:420px;height:385px;padding:10px 15px;\"></div></div>\\'); }else if([\"AE\",\"SA\",\"KW\",\"BH\",\"QA\",\"OM\",\"GB\"].indexOf(_GEO.country) != -1 && false){ var eplr = document.createElement(\\'script\\'); eplr.type = \\'text/javascript\\'; eplr.async = true; eplr.src = \\'https://player.performgroup.com/eplayer.js#ccb175de91b4f3c5c4bbed6a35.qjdsydmry69m1je82zk8il975\\'; var vpl = document.getElementById(\\'video_playlist\\'); vpl.className = \"cb-bg-white\"; vpl.style.margin = \"0px 5px 10px\"; vpl.appendChild(eplr); } }); </script></div><script>CBQueue.push(function(){\\tif(_GEO.country == \"US\" || _GEO.country == \"CA\"){\\t_ele(\\'#kaltura-video-player\\').removeClass(\\'disp-none\\');\\t}\\tif(_GEO.country == \"IN\" ){\\t_ele(\\'specials-home-module\\').removeClass(\\'disp-none\\');\\t}\\n});</script><div class=\"cb-col cb-hm-mid cb-bg-white cb-hmpage\" style=\"clear:both\"> <div class=\\'big-crd-main cb-bg-white\\'><div class=\"crd-cntxt\"><span>PAK VS AFG, MATCH 36</span></div><a href=\"/live-cricket-scores/20272/pak-vs-afg-match-36\" title=\"Imad removes Rahmat; Afghanistan slide\"><img\\theight=\"235\"\\twidth=\"420\" alt=\"imad-removes-rahmat-afghanistan-slide\" title=\"Imad removes Rahmat; Afghanistan slide\" itemprop =\"image\" src=\"/a/img/v1/420x235/i1/c175803/imad-removes-rahmat-afghanist.jpg\" /></a><h2 class=\"big-crd-hdln\"><a href=\"/live-cricket-scores/20272/pak-vs-afg-match-36\" title=\"Imad removes Rahmat; Afghanistan slide\"> Imad removes Rahmat; Afghanistan slide</a></h2><div class=\"cb-nws-intr\">With two successive wins, Pakistan are back in contention for a spot in the semis while Afghanistan are yet to register a single victory</div><div class=\"cb-hm-mtch-crd-width cb-lv-scrs-well cb-lv-scrs-well-live\"> <a href=\"/live-cricket-scores/20272/pak-vs-afg-match-36-icc-cricket-world-cup-2019\" title=\"PAK Vs AFG, Match 36 Live cricket scores\"> <div class=\"cb-col cb-col-100 cb-hm-mtch-crd\"> <div class=\"cb-scr-wll-chvrn cb-col-90\"> <div class=\"cb-lv-scrs-col text-black\"> <div class=\"cb-col cb-mr-30\"> <div class=\\'text-bold\\'>AFG</div> <div class=\\'text-bold\\'>PAK</div> </div> <div class=\"cb-col\"> <div> <span>82-3</span> <span> (16.3)</span> </div> <div> </div> </div> </div> <div class=\"cb-lv-scrs-col cb-text-live\" style=\"white-space:unset;\">Afghanistan opt to bat</div> </div> <div class=\"cb-scr-wll-chvrn cb-col-10\"> <div class=\"cb-ico cb-lv-scr-chvrn-bg\"></div> </div> </div> </a></div><div class=\"big-crd-reltd-itm\"><a class=\"big-crd-rltd-txt\" href=\"/cricket-news/108735/live-blog\" title=\"Live blog\">Live blog</a></div></div><div class=\\'big-crd-main cb-bg-white\\'><div class=\"crd-cntxt\"><span>WORLD CUP 2019</span></div><a href=\"/cricket-news/108730/lords-switches-on-to-witness-trans-tasman-rivalry-in-a-different-light\" title=\"Lord\\'s switches on to witness Trans-Tasman rivalry in a different light\"><img\\theight=\"235\"\\twidth=\"420\" alt=\"lords-switches-on-to-witness-trans-tasman-rivalry-in-a-different-light\" title=\"Lord&#39;s switches on to witness Trans-Tasman rivalry in a different light\" itemprop =\"image\" src=\"/a/img/v1/420x235/i1/c175785/lords-switches-on-to-witness.jpg\" /></a><h2 class=\"big-crd-hdln\"><a href=\"/cricket-news/108730/lords-switches-on-to-witness-trans-tasman-rivalry-in-a-different-light\" title=\"Lord\\'s switches on to witness Trans-Tasman rivalry in a different light\"> Lord\\'s switches on to witness Trans-Tasman rivalry in a different light</a></h2><div class=\"cb-nws-intr\">With a playoff spot in sight, New Zealand will take on Australia in only the second day-night ODI at Lord\\'s</div><div class=\"big-crd-reltd-itm\"><a class=\"big-crd-rltd-txt\" href=\"/cricket-news/108725/world-cup-head-to-head-new-zealand-vs-australia\" title=\"World Cup Head to Head: New Zealand vs Australia\">World Cup Head to Head: New Zealand vs Australia</a></div></div><div class=\\'big-crd-main cb-bg-white\\'><div class=\"crd-cntxt\"><span>WORLD CUP 2019</span></div><a href=\"/cricket-news/108732/sri-lanka-switch-from-fifth-gear-to-reverse-in-double-quick-time\" title=\"Sri Lanka switch from fifth gear to reverse in double quick time\"><img\\theight=\"235\"\\twidth=\"420\" alt=\"sri-lanka-switch-from-fifth-gear-to-reverse-in-double-quick-time\" title=\"Sri Lanka switch from fifth gear to reverse in double quick time\" itemprop =\"image\" src=\"/a/img/v1/420x235/i1/c175791/sri-lanka-switch-from-fifth-ge.jpg\" /></a><h2 class=\"big-crd-hdln\"><a href=\"/cricket-news/108732/sri-lanka-switch-from-fifth-gear-to-reverse-in-double-quick-time\" title=\"Sri Lanka switch from fifth gear to reverse in double quick time\"> Sri Lanka switch from fifth gear to reverse in double quick time</a></h2><div class=\"cb-nws-intr\">After scoring 67 in the first ten overs, Sri Lanka were bowled out for a paltry 203</div><div class=\"big-crd-reltd-itm\"><a class=\"big-crd-rltd-txt\" href=\"/cricket-news/108727/dwaine-pretorius-chris-morris-bully-sri-lanka-into-submission\" title=\"Dwaine Pretorius, Chris Morris bully Sri Lanka into submission\">Report /\\tDwaine Pretorius, Chris Morris bully Sri Lanka into submission</a></div><div class=\"big-crd-reltd-itm\"><a class=\"big-crd-rltd-txt\" href=\"/cricket-news/108733/that-time-when-malinga-bowled-to-amla\" title=\"That time when Malinga bowled to Amla\">That time when Malinga bowled to Amla</a></div><div class=\"big-crd-reltd-itm\"><a class=\"big-crd-rltd-txt\" href=\"/cricket-news/108731/du-plessis-and-the-saga-of-a-bittersweet-win\" title=\"Du Plessis and the saga of a bittersweet win\">Du Plessis and the saga of a bittersweet win</a></div><div class=\"big-crd-reltd-itm\"><a class=\"big-crd-rltd-txt\" href=\"/cricket-news/108728/qualification-scenarios-sri-lankas-fate-beyond-their-control\" title=\"Qualification scenarios: Sri Lanka\\'s fate beyond their control\">Qualification scenarios: Sri Lanka\\'s fate beyond their control</a></div></div><div class=\"sml-crd-main\"><div class=\"crd-cntxt\">ON THE SPOT</div><div class=\"cb-col-33 cb-col\"><a href=\"/cricket-news/108717/mohammed-shami-good-length-great-results\" title=\"Mohammed Shami: Good length, great results\"><img\\theight=\"75\"\\twidth=\"135\"\\tclass=\"lazy-loading\" alt=\"mohammed-shami-good-length-great-results\" source=\"/a/img/v1/135x75/i1/c175673/mohammed-shami-good-length-g.jpg\" src=\"\" style=\"padding:0px;\"/></a></div><div class=\"cb-col-67 cb-col cb-hdln-hght\"><h3 class=\"sml-crd-hdln\"><a href=\"/cricket-news/108717/mohammed-shami-good-length-great-results\" title=\"Mohammed Shami: Good length, great results\">Mohammed Shami: Good length, great results</a></h3><div class=\"sml-crd-subtxt\">8h ago</div></div><div class=\"cb-nws-intr\">Running in from the Brian Statham end, Shami produced a seam-bowling masterclass against West Indies at Old Trafford</div> <div class=\"big-crd-reltd-itm\"> <a class=\"big-crd-rltd-txt\" href=\"/cricket-news/108718/rahul-disappointed-at-throwing-away-starts\" title=\"Rahul disappointed at throwing away starts\">Rahul disappointed at throwing away starts</a></div><div class=\"big-crd-reltd-itm\"> <a class=\"big-crd-rltd-txt\" href=\"/cricket-news/108729/muted-buttler-keen-to-make-some-noise\" title=\"Muted Buttler keen to make some noise\">Muted Buttler keen to make some noise</a></div></div><div class=\"sml-crd-main\"><div class=\"crd-cntxt\">WORLD CUP 2019</div><div class=\"cb-col-33 cb-col\"><a href=\"/cricket-news/108720/no-plan-to-retire-immediately-after-world-cup-mortaza\" title=\"No plan to retire immediately after World Cup: Mortaza\"><img\\theight=\"75\"\\twidth=\"135\"\\tclass=\"lazy-loading\" alt=\"no-plan-to-retire-immediately-after-world-cup-mortaza\" source=\"/a/img/v1/135x75/i1/c175701/no-plan-to-retire-immediately.jpg\" src=\"\" style=\"padding:0px;\"/></a></div><div class=\"cb-col-67 cb-col cb-hdln-hght\"><h3 class=\"sml-crd-hdln\"><a href=\"/cricket-news/108720/no-plan-to-retire-immediately-after-world-cup-mortaza\" title=\"No plan to retire immediately after World Cup: Mortaza\">No plan to retire immediately after World Cup: Mortaza</a></h3><div class=\"sml-crd-subtxt\">8h ago</div></div><div class=\"cb-nws-intr\">The Bangladesh captain had earlier announced 2019 will be his last World Cup, adding fuel to the retirement speculations</div> <div class=\"big-crd-reltd-itm\"> <a class=\"big-crd-rltd-txt\" href=\"/cricket-news/108686/gayle-backtracks-on-odi-retirement-available-for-india-series\" title=\"Gayle backtracks on ODI retirement, available for India series\">Gayle backtracks on ODI retirement, available for India series</a></div></div><div class=\"sml-crd-main\"><div class=\"crd-cntxt\">WOMEN\\'S CRICKET SUPER LEAGUE</div><div class=\"cb-col-33 cb-col\"><a href=\"/cricket-news/108721/deepti-sharma-to-play-for-western-storm\" title=\"Deepti Sharma to play for Western Storm\"><img\\theight=\"75\"\\twidth=\"135\"\\tclass=\"lazy-loading\" alt=\"deepti-sharma-to-play-for-western-storm\" source=\"/a/img/v1/135x75/i1/c175714/deepti-sharma-to-play-for-west.jpg\" src=\"\" style=\"padding:0px;\"/></a></div><div class=\"cb-col-67 cb-col cb-hdln-hght\"><h3 class=\"sml-crd-hdln\"><a href=\"/cricket-news/108721/deepti-sharma-to-play-for-western-storm\" title=\"Deepti Sharma to play for Western Storm\">Deepti Sharma to play for Western Storm</a></h3><div class=\"sml-crd-subtxt\">22h ago</div></div><div class=\"cb-nws-intr\">The 21-year-old is currently ranked second among ODI all-rounders</div> </div><div class=\"sml-crd-main\"><div class=\"crd-cntxt\">ENGLISH LEGEND</div><div class=\"cb-col-33 cb-col\"><a href=\"/cricket-news/108709/trescothick-announces-retirement-from-professional-cricket\" title=\"Trescothick announces retirement from professional cricket\"><img\\theight=\"75\"\\twidth=\"135\"\\tclass=\"lazy-loading\" alt=\"trescothick-announces-retirement-from-professional-cricket\" source=\"/a/img/v1/135x75/i1/c175606/trescothick-announces-retireme.jpg\" src=\"\" style=\"padding:0px;\"/></a></div><div class=\"cb-col-67 cb-col cb-hdln-hght\"><h3 class=\"sml-crd-hdln\"><a href=\"/cricket-news/108709/trescothick-announces-retirement-from-professional-cricket\" title=\"Trescothick announces retirement from professional cricket\">Trescothick announces retirement from professional cricket</a></h3><div class=\"sml-crd-subtxt\">1d ago</div></div><div class=\"cb-nws-intr\">The veteran southpaw, who made his first-class debut in 1993, has failed to find form in the ongoing County Championship season</div> </div><div class=\\'big-crd-main cb-bg-white\\'><div class=\"crd-cntxt\"><span>WHAT\\'S THE BUZZ</span></div><a href=\"/cricket-news/108171/world-cup-pulse\" title=\"World Cup Pulse\"><img\\theight=\"235\"\\twidth=\"420\" alt=\"world-cup-pulse\" title=\"World Cup Pulse\" itemprop =\"image\" src=\"/a/img/v1/420x235/i1/c170196/world-cup-pulse.jpg\" /></a><h2 class=\"big-crd-hdln\"><a href=\"/cricket-news/108171/world-cup-pulse\" title=\"World Cup Pulse\"> World Cup Pulse</a></h2><div class=\"cb-nws-intr\">All that\\'s happening on and off the field at the 2019 World Cup in England & Wales</div></div><div class=\"sml-crd-main\"><div class=\"crd-cntxt\">BANGLADESH CRICKET</div><div class=\"cb-col-33 cb-col\"><a href=\"/cricket-news/108706/bangladesh-await-security-clearance-for-sri-lanka-tour\" title=\"Bangladesh await security clearance for Sri Lanka tour\"><img\\theight=\"75\"\\twidth=\"135\"\\tclass=\"lazy-loading\" alt=\"bangladesh-await-security-clearance-for-sri-lanka-tour\" source=\"/a/img/v1/135x75/i1/c175546/bangladesh-await-security-clea.jpg\" src=\"\" style=\"padding:0px;\"/></a></div><div class=\"cb-col-67 cb-col cb-hdln-hght\"><h3 class=\"sml-crd-hdln\"><a href=\"/cricket-news/108706/bangladesh-await-security-clearance-for-sri-lanka-tour\" title=\"Bangladesh await security clearance for Sri Lanka tour\">Bangladesh await security clearance for Sri Lanka tour</a></h3><div class=\"sml-crd-subtxt\">1d ago</div></div><div class=\"cb-nws-intr\">Bangladesh are set to host Afghanistan and Zimbabwe in a T20 tri-series in September</div> </div><div class=\"sml-crd-main\"><div class=\"crd-cntxt\">OUTSIDE THE CIRCLE</div><div class=\"cb-col-33 cb-col\"><a href=\"/cricket-news/108716/much-ado-about-numbers\" title=\"Much ado about numbers\"><img\\theight=\"75\"\\twidth=\"135\"\\tclass=\"lazy-loading\" alt=\"much-ado-about-numbers\" source=\"/a/img/v1/135x75/i1/c175661/much-ado-about-numbers.jpg\" src=\"\" style=\"padding:0px;\"/></a></div><div class=\"cb-col-67 cb-col cb-hdln-hght\"><h3 class=\"sml-crd-hdln\"><a href=\"/cricket-news/108716/much-ado-about-numbers\" title=\"Much ado about numbers\">Much ado about numbers</a></h3><div class=\"sml-crd-subtxt\">1d ago</div></div><div class=\"cb-nws-intr\">Remarkable results away from the World Cup prompt controversy</div> </div></div></div><div class=\"cb-col cb-col-33\"> <div class=\"cb-col cb-col-100 cb-hm-rt-itm cb-bg-white\"> <div id=\"mpu\" class=\"ad-unit center-block \" style=\"min-height: 250px;\"></div> </div> <div id=\"strip_320x50\" class=\"ad-unit\"></div> <div class=\"cb-col cb-col-100 cb-hm-rt-itm cb-bg-white\" id=\"latest-vid-mod\" gtm-label=\\'Homepage\\'> <h4 class=\"cb-mdl-hdr\">FEATURED VIDEOS</h4> <div class=\"cb-col cb-col-100 cb-mid-wrp\"> <a target=\"_self\" href=\"/cricket-videos/39471/new-zealand-vs-australia-match-37-preview\" class=\"suggested-video-gtm\" gtm-label=\"New Zealand vs Australia, Match 37: Preview|39471\" title=\"New Zealand vs Australia, Match 37: Preview\" > <div class=\"cb-pos-rel\"> <img class=\"cb-suggested-vid-img suggested-video-gtm\" gtm-label=\"New Zealand vs Australia, Match 37: Preview|39471\" alt=\"New Zealand vs Australia, Match 37: Preview\" gtm-label=\"New Zealand vs Australia, Match 37: Preview|39471\" title=\"New Zealand vs Australia, Match 37: Preview\" src=\"/a/img/v1/290x164/i1/c175792/new-zealand-vs-australia-matc.jpg\" height=\"164\" width=\"290\" /> <div class=\\'cb-vid-duration\\'>9:13</div> <div class=\"cb-cen\"> <div class=\"cb-vid-sm-ply-api\">&#9658;</div> </div> </div> <h4 class=\"text-hvr-underline suggested-video-gtm\" gtm-label=\"New Zealand vs Australia, Match 37: Preview|39471\">New Zealand vs Australia, Match 37: Preview</h4> </a> <div class=\"cb-nws-time\">\\t15h ago </div> </div> <div class=\"cb-col cb-col-100 cb-mid-wrp\"> <a target=\"_self\" href=\"/cricket-videos/39472/pacers-will-hold-the-key-in-new-zealand-australia-clash-damien-fleming\" class=\"suggested-video-gtm\" gtm-label=\"Pacers will hold the key in New Zealand-Australia clash - Damien Fleming|39472\" title=\"Pacers will hold the key in New Zealand-Australia clash - Damien Fleming\" > <div class=\"cb-pos-rel\"> <img class=\"cb-suggested-vid-img suggested-video-gtm\" gtm-label=\"Pacers will hold the key in New Zealand-Australia clash - Damien Fleming|39472\" alt=\"Pacers will hold the key in New Zealand-Australia clash - Damien Fleming\" gtm-label=\"Pacers will hold the key in New Zealand-Australia clash - Damien Fleming|39472\" title=\"Pacers will hold the key in New Zealand-Australia clash - Damien Fleming\" src=\"/a/img/v1/290x164/i1/c175794/pacers-will-hold-the-key-in-ne.jpg\" height=\"164\" width=\"290\" /> <div class=\\'cb-vid-duration\\'>5:05</div> <div class=\"cb-cen\"> <div class=\"cb-vid-sm-ply-api\">&#9658;</div> </div> </div> <h4 class=\"text-hvr-underline suggested-video-gtm\" gtm-label=\"Pacers will hold the key in New Zealand-Australia clash - Damien Fleming|39472\">Pacers will hold the key in New Zealand-Australia clash - Damien Fleming</h4> </a> <div class=\"cb-nws-time\">\\t13h ago </div> </div> <div class=\"cb-col cb-col-100 cb-mid-wrp\"> <a target=\"_self\" href=\"/cricket-videos/39476/centerstage-cwc-2019-jingoist-reporter-forces-pakistan-angle-into-india-england-contest\" class=\"suggested-video-gtm\" gtm-label=\"Centerstage @ CWC 2019: Jingoist reporter forces Pakistan angle into India-England contest|39476\" title=\"Centerstage @ CWC 2019: Jingoist reporter forces Pakistan angle into India-England contest\" > <div class=\"cb-pos-rel\"> <img class=\"cb-suggested-vid-img suggested-video-gtm\" gtm-label=\"Centerstage @ CWC 2019: Jingoist reporter forces Pakistan angle into India-England contest|39476\" alt=\"Centerstage @ CWC 2019: Jingoist reporter forces Pakistan angle into India-England contest\" gtm-label=\"Centerstage @ CWC 2019: Jingoist reporter forces Pakistan angle into India-England contest|39476\" title=\"Centerstage @ CWC 2019: Jingoist reporter forces Pakistan angle into India-England contest\" src=\"/a/img/v1/290x164/i1/c175799/centerstage-cwc-2019-jingoi.jpg\" height=\"164\" width=\"290\" /> <div class=\\'cb-vid-duration\\'>2:40</div> <div class=\"cb-cen\"> <div class=\"cb-vid-sm-ply-api\">&#9658;</div> </div> </div> <h4 class=\"text-hvr-underline suggested-video-gtm\" gtm-label=\"Centerstage @ CWC 2019: Jingoist reporter forces Pakistan angle into India-England contest|39476\">Centerstage @ CWC 2019: Jingoist reporter forces Pakistan angle into India-England contest</h4> </a> <div class=\"cb-nws-time\">\\t4h ago </div> </div> <div class=\"cb-col cb-col-100 cb-more-btn-cntnr\"> <a target=\"_self\" title =\"Click to view more videos\" href=\"/cricket-videos\" class=\"cb-more-btn\" role=\"button\">More Videos</a> </div> </div> <div class=\"cb-col cb-col-100 cb-hm-rt-itm cb-bg-white\"> <div id=\"mpu2\" class=\"ad-unit center-block\"></div> </div> <div class=\"cb-col cb-col-100 cb-hm-rt-itm cb-bg-white\"> <h4 class=\"cb-mdl-hdr\">Specials</h4> <div class=\"cb-col cb-col-100 cb-mid-wrp\"><a href=\"/cricket-news/108699/icc-cricket-world-cup-2019-new-zealand-craig-mcmillan-interview\" title=\"Craig McMillan - The batting innovator long before the T20 era\"><img class=\"cb-vid-img\" alt=\"Craig McMillan - The batting innovator long before the T20 era\" src=\"/i/news/fth/303x170/images/homepage/qck_1561594068.jpeg\" height=\"170\" width=\"303\"/><h4 class=\"text-hvr-underline\">Craig McMillan - The batting innovator long before the T20 era</h4></a><div class=\"cb-nws-intr\">The former New Zealand cricketer opens up about his playing days, the joy of playing against spin, facing Warne and McGrath and so much more</div></div><div class=\"cb-col cb-col-100 cb-mid-wrp\"><a href=\"/cricket-news/108667/the-indian-constant-in-mushtaq-mohammads-memory-trail\" title=\"The Indian constant in Mushtaq Mohammad\\'s memory trail\"><img class=\"cb-vid-img\" alt=\"The Indian constant in Mushtaq Mohammad\\'s memory trail\" src=\"/i/news/fth/303x170/images/homepage/qck_1561526653.jpeg\" height=\"170\" width=\"303\"/><h4 class=\"text-hvr-underline\">The Indian constant in Mushtaq Mohammad\\'s memory trail</h4></a><div class=\"cb-nws-intr\">Mushtaq Mohammad opens up about the Indian influences through his journey, his love for classical music, a chance meeting with Lata Mangeshkar and more in an exclusive chat</div></div><div class=\"cb-col cb-col-100 cb-mid-wrp\"><a href=\"/cricket-news/108602/afghanistan-pacer-hamid-hassans-promise-kept-as-he-embarks-on-last-lap\" title=\"Hamid Hassan\\'s promise kept as he embarks on last lap\"><img class=\"cb-vid-img\" alt=\"Hamid Hassan\\'s promise kept as he embarks on last lap\" src=\"/i/news/fth/303x170/images/homepage/qck_1561117801.jpeg\" height=\"170\" width=\"303\"/><h4 class=\"text-hvr-underline\">Hamid Hassan\\'s promise kept as he embarks on last lap</h4></a><div class=\"cb-nws-intr\">The Afghanistan pacer has battled through hurdles aplenty to live his World Cup dream, including a career-threatening injury a few years ago</div></div><div class=\"cb-col cb-col-100 cb-mid-wrp\"><a href=\"/cricket-news/108580/wahab-riaz-jofra-archer-faf-du-plessis-angelo-mathews-steve-smith-when-world-cup-stars-played-club-cricke\" title=\"When World Cup stars played club cricket\"><img class=\"cb-vid-img\" alt=\"When World Cup stars played club cricket\" src=\"/i/news/fth/303x170/images/homepage/qck_1561022281.jpeg\" height=\"170\" width=\"303\"/><h4 class=\"text-hvr-underline\">When World Cup stars played club cricket</h4></a><div class=\"cb-nws-intr\">The days when every great cricketer played in English league cricket may be gone, but there are still some at this World Cup who had such a stint. We speak to those who played with them</div></div><div class=\"cb-col cb-col-100 cb-mid-wrp\"><a href=\"/cricket-news/108598/2019-world-cup-joe-root-grandfather-don-root-don-bradman\" title=\"In conversation with grandpa Root\"><img class=\"cb-vid-img\" alt=\"In conversation with grandpa Root\" src=\"/i/news/fth/303x170/images/homepage/qck_1561083998.jpeg\" height=\"170\" width=\"303\"/><h4 class=\"text-hvr-underline\">In conversation with grandpa Root</h4></a><div class=\"cb-nws-intr\">Don, the 83-year-old grandfather of Joe Root, talks about seeing Bradman live as a 14-year-old, and now spending his retired life watching cricket</div></div> </div> <div class=\"cb-col cb-col-100 cb-hm-rt-itm cb-bg-white\"> <div id=\"mpu3\" class=\"ad-unit center-block\"></div> </div> </div> <span id=\"skin_right\" class=\"ad-unit\" style=\"overflow:hidden;position:fixed;top:0;left:calc(50% + 490px);margin-left:3px;z-index:-99;\"></span></div></div><div ng-cloak ng-if=\\'$root.$GEO.continent == \"EU\"\\'><div class=\"feedback-bar text-center cb-col-100 disp-none feedback-menu\" id=\"feedback-bar\" ng-controller=\"FeedbackCtrl\"\\tng-init=\"show_feedback_menu();\"><span class=\"feedback-txt\">We use cookies to improve your experience on our site and to show you non-personalized ads. Find out more in our <a style=\"color:#4A90E2;\" href=\"/info/privacy\">privacy policy</a> and <a style=\"color:#4A90E2;\" href=\"/info/privacy#cookie_policy\">cookie policy</a></span><button class=\"cb-feedback-btn blue-btn cb-cursor\" id=\"close_feedback_btn\" ng-click=\"close_feedback();\">OK</button></div></div><footer id=\"FooterWraper\" itemscope itemtype=\"http://schema.org/WPFooter\" ><div class=\"cb-footer cb-col-100 cb-col\"><div class=\\'cb-ftr-cntnr\\'><div class=\"cb-col-25 cb-col\"><a class=\"center-block\" href=\"/\"><div class=\"cb-ftr-logo cb-ico\"></div></a></div><div class=\"cb-col-25 cb-col\"><div class=\"text-left cb-font-16 text-bold\">MOBILE SITE & APPS</div><ul class=\"cb-ftr-ul\"><li class=\"cb-ftr-lst\"><a href=\"https://m.cricbuzz.com\" class=\"text-white\"><span class=\"cb-mobile-site cb-ico\"></span><span class=\"cb-footer-list-rt\">m.cricbuzz.com</span></a></li><li class=\"cb-ftr-lst\"><a class=\"text-white\" href=\"https://play.google.com/store/apps/details?id=com.cricbuzz.android\" target=\"_blank\"><span class=\"cb-app-android cb-ico\"></span><span class=\"cb-footer-list-rt\">Android</span></a></li><li class=\"cb-ftr-lst\"><a class=\"text-white\" href=\"https://itunes.apple.com/app/id360466413\" target=\"_blank\"><span class=\"cb-app-ios cb-ico\"></span><span class=\"cb-footer-list-rt\">iOS</span></a></li></ul></div><div class=\"cb-col-25 cb-col\"><div class=\"text-left cb-font-16 text-bold\">FOLLOW US ON</div><ul class=\"cb-ftr-ul\"><li class=\"cb-ftr-lst\"><a class=\"text-white\" href=\"https://www.facebook.com/cricbuzz\" target=\"_blank\"><span class=\"cb-social-fb cb-ico\"></span><span class=\"cb-footer-list-rt\">facebook</span></a></li><li class=\"cb-ftr-lst\"><a class=\"text-white\" href=\"https://twitter.com/cricbuzz\" target=\"_blank\"><span class=\"cb-social-twitter cb-ico\"></span><span class=\"cb-footer-list-rt\">twitter</span></a></li><li class=\"cb-ftr-lst\"><a class=\"text-white\" href=\"https://www.youtube.com/channel/UCSRQXk5yErn4e14vN76upOw\" target=\"_blank\"><span class=\"cb-social-ytbe cb-ico\"></span><span class=\"cb-footer-list-rt\">youtube</span></a></li><li class=\"cb-ftr-lst\"><a class=\"text-white\" href=\"https://in.pinterest.com/cricbuzz/\" target=\"_blank\"><span class=\"cb-social-pinterest cb-ico\"></span><span class=\"cb-footer-list-rt\">Pinterest</span></a></li></ul></div><div class=\"cb-col-25 cb-col\"><div class=\"text-left cb-font-16 text-bold\">COMPANY</div><ul class=\"cb-ftr-ul\"><li class=\"cb-ftr-lst\"><a class=\"text-white\" href=\"/careers\">Careers</a></li><li class=\"cb-ftr-lst\"><a class=\"text-white\" href=\"/info/advertise\">Advertise</a></li><li class=\"cb-ftr-lst\"><a class=\"text-white\" rel=\"nofollow\" href=\"/info/privacy\">Privacy Policy</a></li><li class=\"cb-ftr-lst\"><a class=\"text-white\" rel=\"nofollow\" href=\"/info/termsofuse\">Terms of Use</a></li><li class=\"cb-ftr-lst\"><a class=\"text-white\" href=\"/product-blog/cricbuzz-mobile-apps-tv-ad-cricket-ka-keeda\">Cricbuzz TV Ads</a></li></ul></div><div class=\\'cb-col-100 cb-col cb-ftr-cpyrght\\'>&copy; 2019 Cricbuzz.com, Times Internet Limited. All rights reserved | <a class=\\'cb-ftr-cpyrght text-hvr-underline\\' href=\"http://timesofindia.indiatimes.com/\" target=\"_blank\">The Times of India</a> | <a href=\"http://navbharattimes.indiatimes.com/\" target=\"_blank\" class=\\'cb-ftr-cpyrght text-hvr-underline\\'>Navbharat Times</a></div></div></div></footer><script type=\"text/javascript\">var script_tag = document.getElementsByTagName(\\'script\\')[0];\\t(function() {\\tvar cmin = document.createElement(\\'script\\'); cmin.type = \\'text/javascript\\'; cmin.async = true;\\tcmin.src = \\'/dist/js/cricbuzz.min.6501.js\\';\\tscript_tag.parentNode.insertBefore(cmin, script_tag);\\t})();</script><noscript><iframe src=\"//www.googletagmanager.com/ns.html?id=GTM-PGNCT7\"\\theight=\"0\" width=\"0\" style=\"display:none;visibility:hidden\"></iframe></noscript><script>(function(w,d,s,l,i){w[l]=w[l]||[];w[l].push({\\'gtm.start\\':\\tnew Date().getTime(),event:\\'gtm.js\\'});var f=d.getElementsByTagName(s)[0],\\tj=d.createElement(s),dl=l!=\\'dataLayer\\'?\\'&l=\\'+l:\\'\\';j.async=true;j.src=\\t\\'//www.googletagmanager.com/gtm.js?id=\\'+i+dl;f.parentNode.insertBefore(j,f);\\t})(window,document,\\'script\\',\\'dataLayer\\',\\'GTM-PGNCT7\\');</script><script>window.onerror = function(message, file, line) {\\tvar sFormattedMessage = \\'[\\' + file + \\' (\\' + line + \\')] \\' + message;\\tdataLayer.push({\\'EventAction\\': \"Application\",\\'EventLabel\\': sFormattedMessage,\\'event\\': \\'Exceptions\\'});\\t}</script> </body></html>'"
      ]
     },
     "execution_count": 19,
     "metadata": {},
     "output_type": "execute_result"
    }
   ],
   "source": [
    "url.text"
   ]
  },
  {
   "cell_type": "code",
   "execution_count": 22,
   "metadata": {},
   "outputs": [
    {
     "name": "stdout",
     "output_type": "stream",
     "text": [
      "Collecting html.parser\n",
      "Requirement already satisfied: ply in c:\\users\\dell\\anaconda3\\lib\\site-packages (from html.parser) (3.11)\n",
      "Installing collected packages: html.parser\n",
      "Successfully installed html.parser\n",
      "Note: you may need to restart the kernel to use updated packages.\n"
     ]
    }
   ],
   "source": [
    "pip install html.parser"
   ]
  },
  {
   "cell_type": "code",
   "execution_count": 23,
   "metadata": {},
   "outputs": [],
   "source": [
    "Soup=url.text\n",
    "s=BeautifulSoup(Soup,'html.parser')"
   ]
  },
  {
   "cell_type": "code",
   "execution_count": 29,
   "metadata": {},
   "outputs": [
    {
     "name": "stdout",
     "output_type": "stream",
     "text": [
      "      AFG PAK    82-3  (16.3)      Afghanistan opt to bat      \n"
     ]
    }
   ],
   "source": [
    "for i in s.find_all(\"div\",{\"class\":\"cb-hm-mtch-crd-width cb-lv-scrs-well cb-lv-scrs-well-live\"}):\n",
    "    print(i.text)\n"
   ]
  },
  {
   "cell_type": "code",
   "execution_count": 30,
   "metadata": {},
   "outputs": [
    {
     "name": "stdout",
     "output_type": "stream",
     "text": [
      "AFG82/3 (16.3 Ovs)PAKAfghanistan opt to bat\n",
      "England India\n",
      "New Zealand Australia\n",
      "RSA206/1 (37.2 Ovs)SL203 (49.3 Ovs)South Africa won by 9 wkts\n",
      "AFG82/3 (16.3 Ovs)PAKAfghanistan opt to bat\n",
      "England India\n",
      "New Zealand Australia\n",
      "RSA206/1 (37.2 Ovs)SL203 (49.3 Ovs)South Africa won by 9 wkts\n",
      "AFG82/3 (16.3 Ovs)PAKAfghanistan opt to bat\n",
      "England India\n",
      "New Zealand Australia\n",
      "RSA206/1 (37.2 Ovs)SL203 (49.3 Ovs)South Africa won by 9 wkts\n",
      "South Africa U19 Pakistan U19\n"
     ]
    }
   ],
   "source": [
    "for i in s.find_all(\"div\",{\"class\":\"cb-col cb-col-25 cb-mtch-blk\"}):\n",
    "    print(i.text)"
   ]
  },
  {
   "cell_type": "code",
   "execution_count": 1,
   "metadata": {},
   "outputs": [],
   "source": [
    "import random"
   ]
  },
  {
   "cell_type": "code",
   "execution_count": 3,
   "metadata": {},
   "outputs": [
    {
     "data": {
      "text/plain": [
       "20"
      ]
     },
     "execution_count": 3,
     "metadata": {},
     "output_type": "execute_result"
    }
   ],
   "source": [
    "random.randint(1,100)"
   ]
  },
  {
   "cell_type": "code",
   "execution_count": 5,
   "metadata": {},
   "outputs": [
    {
     "name": "stdout",
     "output_type": "stream",
     "text": [
      "Collecting textblob\n",
      "  Downloading https://files.pythonhosted.org/packages/60/f0/1d9bfcc8ee6b83472ec571406bd0dd51c0e6330ff1a51b2d29861d389e85/textblob-0.15.3-py2.py3-none-any.whl (636kB)\n",
      "Requirement already satisfied: nltk>=3.1 in c:\\users\\dell\\anaconda3\\lib\\site-packages (from textblob) (3.4)\n",
      "Requirement already satisfied: six in c:\\users\\dell\\anaconda3\\lib\\site-packages (from nltk>=3.1->textblob) (1.12.0)\n",
      "Requirement already satisfied: singledispatch in c:\\users\\dell\\anaconda3\\lib\\site-packages (from nltk>=3.1->textblob) (3.4.0.3)\n",
      "Installing collected packages: textblob\n",
      "Successfully installed textblob-0.15.3\n",
      "Note: you may need to restart the kernel to use updated packages.\n"
     ]
    }
   ],
   "source": [
    "pip install textblob"
   ]
  },
  {
   "cell_type": "code",
   "execution_count": 2,
   "metadata": {},
   "outputs": [],
   "source": [
    "from textblob import TextBlob"
   ]
  },
  {
   "cell_type": "code",
   "execution_count": 3,
   "metadata": {},
   "outputs": [],
   "source": [
    "b = TextBlob('hey i am happy')"
   ]
  },
  {
   "cell_type": "code",
   "execution_count": 4,
   "metadata": {},
   "outputs": [
    {
     "data": {
      "text/plain": [
       "Sentiment(polarity=0.8, subjectivity=1.0)"
      ]
     },
     "execution_count": 4,
     "metadata": {},
     "output_type": "execute_result"
    }
   ],
   "source": [
    "b.sentiment"
   ]
  },
  {
   "cell_type": "code",
   "execution_count": 5,
   "metadata": {},
   "outputs": [],
   "source": [
    "b = TextBlob('hey i am not happy')"
   ]
  },
  {
   "cell_type": "code",
   "execution_count": 6,
   "metadata": {},
   "outputs": [
    {
     "data": {
      "text/plain": [
       "Sentiment(polarity=-0.4, subjectivity=1.0)"
      ]
     },
     "execution_count": 6,
     "metadata": {},
     "output_type": "execute_result"
    }
   ],
   "source": [
    "b.sentiment"
   ]
  },
  {
   "cell_type": "code",
   "execution_count": 7,
   "metadata": {},
   "outputs": [
    {
     "name": "stdout",
     "output_type": "stream",
     "text": [
      "h\n",
      "e\n",
      "y\n",
      " \n",
      "i\n",
      " \n",
      "a\n",
      "m\n",
      " \n",
      "n\n",
      "o\n",
      "t\n",
      " \n",
      "h\n",
      "a\n",
      "p\n",
      "p\n",
      "y\n"
     ]
    }
   ],
   "source": [
    "for i in b:\n",
    "    print(i)"
   ]
  },
  {
   "cell_type": "code",
   "execution_count": 9,
   "metadata": {},
   "outputs": [
    {
     "name": "stdout",
     "output_type": "stream",
     "text": [
      "\n",
      "**********************************************************************\n",
      "  Resource \u001b[93mpunkt\u001b[0m not found.\n",
      "  Please use the NLTK Downloader to obtain the resource:\n",
      "\n",
      "  \u001b[31m>>> import nltk\n",
      "  >>> nltk.download('punkt')\n",
      "  \u001b[0m\n",
      "  Attempted to load \u001b[93mtokenizers/punkt/english.pickle\u001b[0m\n",
      "\n",
      "  Searched in:\n",
      "    - 'C:\\\\Users\\\\Dell/nltk_data'\n",
      "    - 'C:\\\\Users\\\\Dell\\\\Anaconda3\\\\nltk_data'\n",
      "    - 'C:\\\\Users\\\\Dell\\\\Anaconda3\\\\share\\\\nltk_data'\n",
      "    - 'C:\\\\Users\\\\Dell\\\\Anaconda3\\\\lib\\\\nltk_data'\n",
      "    - 'C:\\\\Users\\\\Dell\\\\AppData\\\\Roaming\\\\nltk_data'\n",
      "    - 'C:\\\\nltk_data'\n",
      "    - 'D:\\\\nltk_data'\n",
      "    - 'E:\\\\nltk_data'\n",
      "    - ''\n",
      "**********************************************************************\n",
      "\n"
     ]
    },
    {
     "ename": "MissingCorpusError",
     "evalue": "\nLooks like you are missing some required data for this feature.\n\nTo download the necessary data, simply run\n\n    python -m textblob.download_corpora\n\nor use the NLTK downloader to download the missing data: http://nltk.org/data.html\nIf this doesn't fix the problem, file an issue at https://github.com/sloria/TextBlob/issues.\n",
     "output_type": "error",
     "traceback": [
      "\u001b[1;31m---------------------------------------------------------------------------\u001b[0m",
      "\u001b[1;31mLookupError\u001b[0m                               Traceback (most recent call last)",
      "\u001b[1;32m~\\Anaconda3\\lib\\site-packages\\textblob\\decorators.py\u001b[0m in \u001b[0;36mdecorated\u001b[1;34m(*args, **kwargs)\u001b[0m\n\u001b[0;32m     34\u001b[0m         \u001b[1;32mtry\u001b[0m\u001b[1;33m:\u001b[0m\u001b[1;33m\u001b[0m\u001b[1;33m\u001b[0m\u001b[0m\n\u001b[1;32m---> 35\u001b[1;33m             \u001b[1;32mreturn\u001b[0m \u001b[0mfunc\u001b[0m\u001b[1;33m(\u001b[0m\u001b[1;33m*\u001b[0m\u001b[0margs\u001b[0m\u001b[1;33m,\u001b[0m \u001b[1;33m**\u001b[0m\u001b[0mkwargs\u001b[0m\u001b[1;33m)\u001b[0m\u001b[1;33m\u001b[0m\u001b[1;33m\u001b[0m\u001b[0m\n\u001b[0m\u001b[0;32m     36\u001b[0m         \u001b[1;32mexcept\u001b[0m \u001b[0mLookupError\u001b[0m \u001b[1;32mas\u001b[0m \u001b[0merr\u001b[0m\u001b[1;33m:\u001b[0m\u001b[1;33m\u001b[0m\u001b[1;33m\u001b[0m\u001b[0m\n",
      "\u001b[1;32m~\\Anaconda3\\lib\\site-packages\\textblob\\tokenizers.py\u001b[0m in \u001b[0;36mtokenize\u001b[1;34m(self, text)\u001b[0m\n\u001b[0;32m     56\u001b[0m         \u001b[1;34m'''Return a list of sentences.'''\u001b[0m\u001b[1;33m\u001b[0m\u001b[1;33m\u001b[0m\u001b[0m\n\u001b[1;32m---> 57\u001b[1;33m         \u001b[1;32mreturn\u001b[0m \u001b[0mnltk\u001b[0m\u001b[1;33m.\u001b[0m\u001b[0mtokenize\u001b[0m\u001b[1;33m.\u001b[0m\u001b[0msent_tokenize\u001b[0m\u001b[1;33m(\u001b[0m\u001b[0mtext\u001b[0m\u001b[1;33m)\u001b[0m\u001b[1;33m\u001b[0m\u001b[1;33m\u001b[0m\u001b[0m\n\u001b[0m\u001b[0;32m     58\u001b[0m \u001b[1;33m\u001b[0m\u001b[0m\n",
      "\u001b[1;32m~\\Anaconda3\\lib\\site-packages\\nltk\\tokenize\\__init__.py\u001b[0m in \u001b[0;36msent_tokenize\u001b[1;34m(text, language)\u001b[0m\n\u001b[0;32m    103\u001b[0m     \"\"\"\n\u001b[1;32m--> 104\u001b[1;33m     \u001b[0mtokenizer\u001b[0m \u001b[1;33m=\u001b[0m \u001b[0mload\u001b[0m\u001b[1;33m(\u001b[0m\u001b[1;34m'tokenizers/punkt/{0}.pickle'\u001b[0m\u001b[1;33m.\u001b[0m\u001b[0mformat\u001b[0m\u001b[1;33m(\u001b[0m\u001b[0mlanguage\u001b[0m\u001b[1;33m)\u001b[0m\u001b[1;33m)\u001b[0m\u001b[1;33m\u001b[0m\u001b[1;33m\u001b[0m\u001b[0m\n\u001b[0m\u001b[0;32m    105\u001b[0m     \u001b[1;32mreturn\u001b[0m \u001b[0mtokenizer\u001b[0m\u001b[1;33m.\u001b[0m\u001b[0mtokenize\u001b[0m\u001b[1;33m(\u001b[0m\u001b[0mtext\u001b[0m\u001b[1;33m)\u001b[0m\u001b[1;33m\u001b[0m\u001b[1;33m\u001b[0m\u001b[0m\n",
      "\u001b[1;32m~\\Anaconda3\\lib\\site-packages\\nltk\\data.py\u001b[0m in \u001b[0;36mload\u001b[1;34m(resource_url, format, cache, verbose, logic_parser, fstruct_reader, encoding)\u001b[0m\n\u001b[0;32m    867\u001b[0m     \u001b[1;31m# Load the resource.\u001b[0m\u001b[1;33m\u001b[0m\u001b[1;33m\u001b[0m\u001b[1;33m\u001b[0m\u001b[0m\n\u001b[1;32m--> 868\u001b[1;33m     \u001b[0mopened_resource\u001b[0m \u001b[1;33m=\u001b[0m \u001b[0m_open\u001b[0m\u001b[1;33m(\u001b[0m\u001b[0mresource_url\u001b[0m\u001b[1;33m)\u001b[0m\u001b[1;33m\u001b[0m\u001b[1;33m\u001b[0m\u001b[0m\n\u001b[0m\u001b[0;32m    869\u001b[0m \u001b[1;33m\u001b[0m\u001b[0m\n",
      "\u001b[1;32m~\\Anaconda3\\lib\\site-packages\\nltk\\data.py\u001b[0m in \u001b[0;36m_open\u001b[1;34m(resource_url)\u001b[0m\n\u001b[0;32m    992\u001b[0m     \u001b[1;32mif\u001b[0m \u001b[0mprotocol\u001b[0m \u001b[1;32mis\u001b[0m \u001b[1;32mNone\u001b[0m \u001b[1;32mor\u001b[0m \u001b[0mprotocol\u001b[0m\u001b[1;33m.\u001b[0m\u001b[0mlower\u001b[0m\u001b[1;33m(\u001b[0m\u001b[1;33m)\u001b[0m \u001b[1;33m==\u001b[0m \u001b[1;34m'nltk'\u001b[0m\u001b[1;33m:\u001b[0m\u001b[1;33m\u001b[0m\u001b[1;33m\u001b[0m\u001b[0m\n\u001b[1;32m--> 993\u001b[1;33m         \u001b[1;32mreturn\u001b[0m \u001b[0mfind\u001b[0m\u001b[1;33m(\u001b[0m\u001b[0mpath_\u001b[0m\u001b[1;33m,\u001b[0m \u001b[0mpath\u001b[0m \u001b[1;33m+\u001b[0m \u001b[1;33m[\u001b[0m\u001b[1;34m''\u001b[0m\u001b[1;33m]\u001b[0m\u001b[1;33m)\u001b[0m\u001b[1;33m.\u001b[0m\u001b[0mopen\u001b[0m\u001b[1;33m(\u001b[0m\u001b[1;33m)\u001b[0m\u001b[1;33m\u001b[0m\u001b[1;33m\u001b[0m\u001b[0m\n\u001b[0m\u001b[0;32m    994\u001b[0m     \u001b[1;32melif\u001b[0m \u001b[0mprotocol\u001b[0m\u001b[1;33m.\u001b[0m\u001b[0mlower\u001b[0m\u001b[1;33m(\u001b[0m\u001b[1;33m)\u001b[0m \u001b[1;33m==\u001b[0m \u001b[1;34m'file'\u001b[0m\u001b[1;33m:\u001b[0m\u001b[1;33m\u001b[0m\u001b[1;33m\u001b[0m\u001b[0m\n",
      "\u001b[1;32m~\\Anaconda3\\lib\\site-packages\\nltk\\data.py\u001b[0m in \u001b[0;36mfind\u001b[1;34m(resource_name, paths)\u001b[0m\n\u001b[0;32m    698\u001b[0m     \u001b[0mresource_not_found\u001b[0m \u001b[1;33m=\u001b[0m \u001b[1;34m'\\n%s\\n%s\\n%s\\n'\u001b[0m \u001b[1;33m%\u001b[0m \u001b[1;33m(\u001b[0m\u001b[0msep\u001b[0m\u001b[1;33m,\u001b[0m \u001b[0mmsg\u001b[0m\u001b[1;33m,\u001b[0m \u001b[0msep\u001b[0m\u001b[1;33m)\u001b[0m\u001b[1;33m\u001b[0m\u001b[1;33m\u001b[0m\u001b[0m\n\u001b[1;32m--> 699\u001b[1;33m     \u001b[1;32mraise\u001b[0m \u001b[0mLookupError\u001b[0m\u001b[1;33m(\u001b[0m\u001b[0mresource_not_found\u001b[0m\u001b[1;33m)\u001b[0m\u001b[1;33m\u001b[0m\u001b[1;33m\u001b[0m\u001b[0m\n\u001b[0m\u001b[0;32m    700\u001b[0m \u001b[1;33m\u001b[0m\u001b[0m\n",
      "\u001b[1;31mLookupError\u001b[0m: \n**********************************************************************\n  Resource \u001b[93mpunkt\u001b[0m not found.\n  Please use the NLTK Downloader to obtain the resource:\n\n  \u001b[31m>>> import nltk\n  >>> nltk.download('punkt')\n  \u001b[0m\n  Attempted to load \u001b[93mtokenizers/punkt/english.pickle\u001b[0m\n\n  Searched in:\n    - 'C:\\\\Users\\\\Dell/nltk_data'\n    - 'C:\\\\Users\\\\Dell\\\\Anaconda3\\\\nltk_data'\n    - 'C:\\\\Users\\\\Dell\\\\Anaconda3\\\\share\\\\nltk_data'\n    - 'C:\\\\Users\\\\Dell\\\\Anaconda3\\\\lib\\\\nltk_data'\n    - 'C:\\\\Users\\\\Dell\\\\AppData\\\\Roaming\\\\nltk_data'\n    - 'C:\\\\nltk_data'\n    - 'D:\\\\nltk_data'\n    - 'E:\\\\nltk_data'\n    - ''\n**********************************************************************\n",
      "\nDuring handling of the above exception, another exception occurred:\n",
      "\u001b[1;31mMissingCorpusError\u001b[0m                        Traceback (most recent call last)",
      "\u001b[1;32m<ipython-input-9-f8296718f75a>\u001b[0m in \u001b[0;36m<module>\u001b[1;34m\u001b[0m\n\u001b[1;32m----> 1\u001b[1;33m \u001b[1;32mfor\u001b[0m \u001b[0mi\u001b[0m \u001b[1;32min\u001b[0m \u001b[0mb\u001b[0m\u001b[1;33m.\u001b[0m\u001b[0mwords\u001b[0m\u001b[1;33m:\u001b[0m\u001b[1;33m\u001b[0m\u001b[1;33m\u001b[0m\u001b[0m\n\u001b[0m\u001b[0;32m      2\u001b[0m     \u001b[0mprint\u001b[0m\u001b[1;33m(\u001b[0m\u001b[0mi\u001b[0m\u001b[1;33m)\u001b[0m\u001b[1;33m\u001b[0m\u001b[1;33m\u001b[0m\u001b[0m\n",
      "\u001b[1;32m~\\Anaconda3\\lib\\site-packages\\textblob\\decorators.py\u001b[0m in \u001b[0;36m__get__\u001b[1;34m(self, obj, cls)\u001b[0m\n\u001b[0;32m     22\u001b[0m         \u001b[1;32mif\u001b[0m \u001b[0mobj\u001b[0m \u001b[1;32mis\u001b[0m \u001b[1;32mNone\u001b[0m\u001b[1;33m:\u001b[0m\u001b[1;33m\u001b[0m\u001b[1;33m\u001b[0m\u001b[0m\n\u001b[0;32m     23\u001b[0m             \u001b[1;32mreturn\u001b[0m \u001b[0mself\u001b[0m\u001b[1;33m\u001b[0m\u001b[1;33m\u001b[0m\u001b[0m\n\u001b[1;32m---> 24\u001b[1;33m         \u001b[0mvalue\u001b[0m \u001b[1;33m=\u001b[0m \u001b[0mobj\u001b[0m\u001b[1;33m.\u001b[0m\u001b[0m__dict__\u001b[0m\u001b[1;33m[\u001b[0m\u001b[0mself\u001b[0m\u001b[1;33m.\u001b[0m\u001b[0mfunc\u001b[0m\u001b[1;33m.\u001b[0m\u001b[0m__name__\u001b[0m\u001b[1;33m]\u001b[0m \u001b[1;33m=\u001b[0m \u001b[0mself\u001b[0m\u001b[1;33m.\u001b[0m\u001b[0mfunc\u001b[0m\u001b[1;33m(\u001b[0m\u001b[0mobj\u001b[0m\u001b[1;33m)\u001b[0m\u001b[1;33m\u001b[0m\u001b[1;33m\u001b[0m\u001b[0m\n\u001b[0m\u001b[0;32m     25\u001b[0m         \u001b[1;32mreturn\u001b[0m \u001b[0mvalue\u001b[0m\u001b[1;33m\u001b[0m\u001b[1;33m\u001b[0m\u001b[0m\n\u001b[0;32m     26\u001b[0m \u001b[1;33m\u001b[0m\u001b[0m\n",
      "\u001b[1;32m~\\Anaconda3\\lib\\site-packages\\textblob\\blob.py\u001b[0m in \u001b[0;36mwords\u001b[1;34m(self)\u001b[0m\n\u001b[0;32m    647\u001b[0m         \u001b[1;33m:\u001b[0m\u001b[0mreturns\u001b[0m\u001b[1;33m:\u001b[0m \u001b[0mA\u001b[0m \u001b[1;33m:\u001b[0m\u001b[1;32mclass\u001b[0m\u001b[1;33m:\u001b[0m\u001b[0;31m`\u001b[0m\u001b[0mWordList\u001b[0m \u001b[1;33m<\u001b[0m\u001b[0mWordList\u001b[0m\u001b[1;33m>\u001b[0m\u001b[0;31m`\u001b[0m \u001b[0mof\u001b[0m \u001b[0mword\u001b[0m \u001b[0mtokens\u001b[0m\u001b[1;33m.\u001b[0m\u001b[1;33m\u001b[0m\u001b[1;33m\u001b[0m\u001b[0m\n\u001b[0;32m    648\u001b[0m         \"\"\"\n\u001b[1;32m--> 649\u001b[1;33m         \u001b[1;32mreturn\u001b[0m \u001b[0mWordList\u001b[0m\u001b[1;33m(\u001b[0m\u001b[0mword_tokenize\u001b[0m\u001b[1;33m(\u001b[0m\u001b[0mself\u001b[0m\u001b[1;33m.\u001b[0m\u001b[0mraw\u001b[0m\u001b[1;33m,\u001b[0m \u001b[0minclude_punc\u001b[0m\u001b[1;33m=\u001b[0m\u001b[1;32mFalse\u001b[0m\u001b[1;33m)\u001b[0m\u001b[1;33m)\u001b[0m\u001b[1;33m\u001b[0m\u001b[1;33m\u001b[0m\u001b[0m\n\u001b[0m\u001b[0;32m    650\u001b[0m \u001b[1;33m\u001b[0m\u001b[0m\n\u001b[0;32m    651\u001b[0m     \u001b[1;33m@\u001b[0m\u001b[0mproperty\u001b[0m\u001b[1;33m\u001b[0m\u001b[1;33m\u001b[0m\u001b[0m\n",
      "\u001b[1;32m~\\Anaconda3\\lib\\site-packages\\textblob\\tokenizers.py\u001b[0m in \u001b[0;36mword_tokenize\u001b[1;34m(text, include_punc, *args, **kwargs)\u001b[0m\n\u001b[0;32m     71\u001b[0m         _word_tokenizer.itokenize(sentence, include_punc=include_punc,\n\u001b[0;32m     72\u001b[0m                                 *args, **kwargs)\n\u001b[1;32m---> 73\u001b[1;33m         for sentence in sent_tokenize(text))\n\u001b[0m\u001b[0;32m     74\u001b[0m     \u001b[1;32mreturn\u001b[0m \u001b[0mwords\u001b[0m\u001b[1;33m\u001b[0m\u001b[1;33m\u001b[0m\u001b[0m\n",
      "\u001b[1;32m~\\Anaconda3\\lib\\site-packages\\textblob\\base.py\u001b[0m in \u001b[0;36mitokenize\u001b[1;34m(self, text, *args, **kwargs)\u001b[0m\n\u001b[0;32m     62\u001b[0m         \u001b[1;33m:\u001b[0m\u001b[0mrtype\u001b[0m\u001b[1;33m:\u001b[0m \u001b[0mgenerator\u001b[0m\u001b[1;33m\u001b[0m\u001b[1;33m\u001b[0m\u001b[0m\n\u001b[0;32m     63\u001b[0m         \"\"\"\n\u001b[1;32m---> 64\u001b[1;33m         \u001b[1;32mreturn\u001b[0m \u001b[1;33m(\u001b[0m\u001b[0mt\u001b[0m \u001b[1;32mfor\u001b[0m \u001b[0mt\u001b[0m \u001b[1;32min\u001b[0m \u001b[0mself\u001b[0m\u001b[1;33m.\u001b[0m\u001b[0mtokenize\u001b[0m\u001b[1;33m(\u001b[0m\u001b[0mtext\u001b[0m\u001b[1;33m,\u001b[0m \u001b[1;33m*\u001b[0m\u001b[0margs\u001b[0m\u001b[1;33m,\u001b[0m \u001b[1;33m**\u001b[0m\u001b[0mkwargs\u001b[0m\u001b[1;33m)\u001b[0m\u001b[1;33m)\u001b[0m\u001b[1;33m\u001b[0m\u001b[1;33m\u001b[0m\u001b[0m\n\u001b[0m\u001b[0;32m     65\u001b[0m \u001b[1;33m\u001b[0m\u001b[0m\n\u001b[0;32m     66\u001b[0m \u001b[1;31m##### SENTIMENT ANALYZERS ####\u001b[0m\u001b[1;33m\u001b[0m\u001b[1;33m\u001b[0m\u001b[1;33m\u001b[0m\u001b[0m\n",
      "\u001b[1;32m~\\Anaconda3\\lib\\site-packages\\textblob\\decorators.py\u001b[0m in \u001b[0;36mdecorated\u001b[1;34m(*args, **kwargs)\u001b[0m\n\u001b[0;32m     36\u001b[0m         \u001b[1;32mexcept\u001b[0m \u001b[0mLookupError\u001b[0m \u001b[1;32mas\u001b[0m \u001b[0merr\u001b[0m\u001b[1;33m:\u001b[0m\u001b[1;33m\u001b[0m\u001b[1;33m\u001b[0m\u001b[0m\n\u001b[0;32m     37\u001b[0m             \u001b[0mprint\u001b[0m\u001b[1;33m(\u001b[0m\u001b[0merr\u001b[0m\u001b[1;33m)\u001b[0m\u001b[1;33m\u001b[0m\u001b[1;33m\u001b[0m\u001b[0m\n\u001b[1;32m---> 38\u001b[1;33m             \u001b[1;32mraise\u001b[0m \u001b[0mMissingCorpusError\u001b[0m\u001b[1;33m(\u001b[0m\u001b[1;33m)\u001b[0m\u001b[1;33m\u001b[0m\u001b[1;33m\u001b[0m\u001b[0m\n\u001b[0m\u001b[0;32m     39\u001b[0m     \u001b[1;32mreturn\u001b[0m \u001b[0mdecorated\u001b[0m\u001b[1;33m\u001b[0m\u001b[1;33m\u001b[0m\u001b[0m\n",
      "\u001b[1;31mMissingCorpusError\u001b[0m: \nLooks like you are missing some required data for this feature.\n\nTo download the necessary data, simply run\n\n    python -m textblob.download_corpora\n\nor use the NLTK downloader to download the missing data: http://nltk.org/data.html\nIf this doesn't fix the problem, file an issue at https://github.com/sloria/TextBlob/issues.\n"
     ]
    }
   ],
   "source": [
    "for i in b.words:\n",
    "    print(i)"
   ]
  },
  {
   "cell_type": "code",
   "execution_count": 10,
   "metadata": {},
   "outputs": [
    {
     "ename": "SyntaxError",
     "evalue": "invalid syntax (<ipython-input-10-bec4ba3f7ac1>, line 1)",
     "output_type": "error",
     "traceback": [
      "\u001b[1;36m  File \u001b[1;32m\"<ipython-input-10-bec4ba3f7ac1>\"\u001b[1;36m, line \u001b[1;32m1\u001b[0m\n\u001b[1;33m    python -m textblob.download_corpora\u001b[0m\n\u001b[1;37m                     ^\u001b[0m\n\u001b[1;31mSyntaxError\u001b[0m\u001b[1;31m:\u001b[0m invalid syntax\n"
     ]
    }
   ],
   "source": [
    "python -m textblob.download_corpora"
   ]
  },
  {
   "cell_type": "code",
   "execution_count": 12,
   "metadata": {},
   "outputs": [],
   "source": [
    "import pandas as pd"
   ]
  },
  {
   "cell_type": "markdown",
   "metadata": {},
   "source": [
    "l=[1,2,3,4]"
   ]
  },
  {
   "cell_type": "code",
   "execution_count": 16,
   "metadata": {},
   "outputs": [],
   "source": [
    "l=[1,2,3,4,8]"
   ]
  },
  {
   "cell_type": "code",
   "execution_count": 17,
   "metadata": {},
   "outputs": [
    {
     "data": {
      "text/html": [
       "<div>\n",
       "<style scoped>\n",
       "    .dataframe tbody tr th:only-of-type {\n",
       "        vertical-align: middle;\n",
       "    }\n",
       "\n",
       "    .dataframe tbody tr th {\n",
       "        vertical-align: top;\n",
       "    }\n",
       "\n",
       "    .dataframe thead th {\n",
       "        text-align: right;\n",
       "    }\n",
       "</style>\n",
       "<table border=\"1\" class=\"dataframe\">\n",
       "  <thead>\n",
       "    <tr style=\"text-align: right;\">\n",
       "      <th></th>\n",
       "      <th>0</th>\n",
       "    </tr>\n",
       "  </thead>\n",
       "  <tbody>\n",
       "    <tr>\n",
       "      <th>0</th>\n",
       "      <td>1</td>\n",
       "    </tr>\n",
       "    <tr>\n",
       "      <th>1</th>\n",
       "      <td>2</td>\n",
       "    </tr>\n",
       "    <tr>\n",
       "      <th>2</th>\n",
       "      <td>3</td>\n",
       "    </tr>\n",
       "    <tr>\n",
       "      <th>3</th>\n",
       "      <td>4</td>\n",
       "    </tr>\n",
       "    <tr>\n",
       "      <th>4</th>\n",
       "      <td>8</td>\n",
       "    </tr>\n",
       "  </tbody>\n",
       "</table>\n",
       "</div>"
      ],
      "text/plain": [
       "   0\n",
       "0  1\n",
       "1  2\n",
       "2  3\n",
       "3  4\n",
       "4  8"
      ]
     },
     "execution_count": 17,
     "metadata": {},
     "output_type": "execute_result"
    }
   ],
   "source": [
    "pd.DataFrame(l)"
   ]
  },
  {
   "cell_type": "code",
   "execution_count": 34,
   "metadata": {},
   "outputs": [],
   "source": [
    "a={'ris':[1,2],\n",
    "  'tushu':[2,3],\n",
    "  'hello':[5,6]}"
   ]
  },
  {
   "cell_type": "code",
   "execution_count": 51,
   "metadata": {},
   "outputs": [
    {
     "name": "stdout",
     "output_type": "stream",
     "text": [
      "{'ris': [1, 2], 'tushu': [2, 3], 'hello': [5, 6]}\n"
     ]
    }
   ],
   "source": [
    "s=pd.DataFrame(a)\n",
    "print(a)"
   ]
  },
  {
   "cell_type": "code",
   "execution_count": 42,
   "metadata": {},
   "outputs": [
    {
     "name": "stdout",
     "output_type": "stream",
     "text": [
      "   0\n",
      "0  1\n",
      "1  2\n"
     ]
    }
   ],
   "source": [
    "d=pd.DataFrame(a['ris'])\n",
    "print(d)"
   ]
  },
  {
   "cell_type": "code",
   "execution_count": 50,
   "metadata": {},
   "outputs": [
    {
     "data": {
      "text/html": [
       "<div>\n",
       "<style scoped>\n",
       "    .dataframe tbody tr th:only-of-type {\n",
       "        vertical-align: middle;\n",
       "    }\n",
       "\n",
       "    .dataframe tbody tr th {\n",
       "        vertical-align: top;\n",
       "    }\n",
       "\n",
       "    .dataframe thead th {\n",
       "        text-align: right;\n",
       "    }\n",
       "</style>\n",
       "<table border=\"1\" class=\"dataframe\">\n",
       "  <thead>\n",
       "    <tr style=\"text-align: right;\">\n",
       "      <th></th>\n",
       "      <th>tushu</th>\n",
       "      <th>ris</th>\n",
       "    </tr>\n",
       "  </thead>\n",
       "  <tbody>\n",
       "    <tr>\n",
       "      <th>0</th>\n",
       "      <td>2</td>\n",
       "      <td>1</td>\n",
       "    </tr>\n",
       "    <tr>\n",
       "      <th>1</th>\n",
       "      <td>3</td>\n",
       "      <td>2</td>\n",
       "    </tr>\n",
       "  </tbody>\n",
       "</table>\n",
       "</div>"
      ],
      "text/plain": [
       "   tushu  ris\n",
       "0      2    1\n",
       "1      3    2"
      ]
     },
     "execution_count": 50,
     "metadata": {},
     "output_type": "execute_result"
    }
   ],
   "source": [
    "s[['tushu','ris']]"
   ]
  },
  {
   "cell_type": "code",
   "execution_count": 56,
   "metadata": {},
   "outputs": [
    {
     "name": "stdout",
     "output_type": "stream",
     "text": [
      "       policyID statecode           county  eq_site_limit  hu_site_limit  \\\n",
      "0        119736        FL      CLAY COUNTY       498960.0      498960.00   \n",
      "1        448094        FL      CLAY COUNTY      1322376.3     1322376.30   \n",
      "2        206893        FL      CLAY COUNTY       190724.4      190724.40   \n",
      "3        333743        FL      CLAY COUNTY            0.0       79520.76   \n",
      "4        172534        FL      CLAY COUNTY            0.0      254281.50   \n",
      "5        785275        FL      CLAY COUNTY            0.0      515035.62   \n",
      "6        995932        FL      CLAY COUNTY            0.0    19260000.00   \n",
      "7        223488        FL      CLAY COUNTY       328500.0      328500.00   \n",
      "8        433512        FL      CLAY COUNTY       315000.0      315000.00   \n",
      "9        142071        FL      CLAY COUNTY       705600.0      705600.00   \n",
      "10       253816        FL      CLAY COUNTY       831498.3      831498.30   \n",
      "11       894922        FL      CLAY COUNTY            0.0       24059.09   \n",
      "12       422834        FL      CLAY COUNTY            0.0       48115.94   \n",
      "13       582721        FL      CLAY COUNTY            0.0       28869.12   \n",
      "14       842700        FL      CLAY COUNTY            0.0       56135.64   \n",
      "15       874333        FL      CLAY COUNTY            0.0       48115.94   \n",
      "16       580146        FL      CLAY COUNTY            0.0       48115.94   \n",
      "17       456149        FL      CLAY COUNTY            0.0       80192.49   \n",
      "18       767862        FL      CLAY COUNTY            0.0       48115.94   \n",
      "19       353022        FL      CLAY COUNTY            0.0       60946.79   \n",
      "20       367814        FL      CLAY COUNTY            0.0       28869.12   \n",
      "21       671392        FL      CLAY COUNTY            0.0    13410000.00   \n",
      "22       772887        FL      CLAY COUNTY            0.0     1669113.93   \n",
      "23       983122        FL      CLAY COUNTY            0.0      179562.23   \n",
      "24       934215        FL      CLAY COUNTY            0.0      177744.16   \n",
      "25       385951        FL      CLAY COUNTY            0.0       17757.58   \n",
      "26       716332        FL      CLAY COUNTY            0.0      130129.87   \n",
      "27       751262        FL      CLAY COUNTY            0.0       42854.77   \n",
      "28       633663        FL      CLAY COUNTY            0.0         785.58   \n",
      "29       105851        FL      CLAY COUNTY            0.0      170361.91   \n",
      "...         ...       ...              ...            ...            ...   \n",
      "36604    792963        FL  PINELLAS COUNTY            0.0      492483.92   \n",
      "36605    367030        FL  PINELLAS COUNTY            0.0      954000.00   \n",
      "36606    594660        FL  PINELLAS COUNTY            0.0      900000.00   \n",
      "36607    360785        FL  PINELLAS COUNTY            0.0     1093500.00   \n",
      "36608    847570        FL  PINELLAS COUNTY            0.0      436632.30   \n",
      "36609    196088        FL  PINELLAS COUNTY      1917403.2     1917403.20   \n",
      "36610    166064        FL  PINELLAS COUNTY      1392346.8     1392346.80   \n",
      "36611    507269        FL  PINELLAS COUNTY      1175310.0     1175310.00   \n",
      "36612    335445        FL  PINELLAS COUNTY        47250.9       47250.90   \n",
      "36613    451921        FL  PINELLAS COUNTY        18630.0       18630.00   \n",
      "36614    859202        FL  PINELLAS COUNTY         9450.0        9450.00   \n",
      "36615    584224        FL  PINELLAS COUNTY            0.0      866904.30   \n",
      "36616    603769        FL  PINELLAS COUNTY            0.0     1541972.70   \n",
      "36617    575194        FL  PINELLAS COUNTY            0.0     3759303.60   \n",
      "36618    708726        FL  PINELLAS COUNTY            0.0      717846.30   \n",
      "36619    645213        FL  PINELLAS COUNTY            0.0     1728847.80   \n",
      "36620    175829        FL  PINELLAS COUNTY            0.0    24210000.00   \n",
      "36621    546178        FL  PINELLAS COUNTY            0.0     1331880.30   \n",
      "36622    938910        FL  PINELLAS COUNTY            0.0       35408.70   \n",
      "36623    592170        FL  PINELLAS COUNTY            0.0       24574.50   \n",
      "36624    827844        FL  PINELLAS COUNTY            0.0       38112.30   \n",
      "36625    876385        FL  PINELLAS COUNTY            0.0       18312.30   \n",
      "36626    167630        FL  PINELLAS COUNTY            0.0        4522.50   \n",
      "36627    241496        FL  PINELLAS COUNTY            0.0        1350.00   \n",
      "36628    780814        FL  PINELLAS COUNTY            0.0        9770.40   \n",
      "36629    404309        FL  PINELLAS COUNTY            0.0       88722.00   \n",
      "36630    465875        FL  PINELLAS COUNTY      1297057.5     1297057.50   \n",
      "36631    791209        FL  PINELLAS COUNTY       173286.9      173286.90   \n",
      "36632    322627        FL  PINELLAS COUNTY      1499781.6     1499781.60   \n",
      "36633    398149        FL  PINELLAS COUNTY       373488.3      373488.30   \n",
      "\n",
      "       fl_site_limit  fr_site_limit     tiv_2011     tiv_2012  \\\n",
      "0           498960.0       498960.0    498960.00    792148.90   \n",
      "1          1322376.3      1322376.3   1322376.30   1438163.57   \n",
      "2           190724.4       190724.4    190724.40    192476.78   \n",
      "3                0.0            0.0     79520.76     86854.48   \n",
      "4                0.0       254281.5    254281.50    246144.49   \n",
      "5                0.0            0.0    515035.62    884419.17   \n",
      "6                0.0            0.0  19260000.00  20610000.00   \n",
      "7           328500.0       328500.0    328500.00    348374.25   \n",
      "8           315000.0       315000.0    315000.00    265821.57   \n",
      "9           705600.0       705600.0    705600.00   1010842.56   \n",
      "10          831498.3       831498.3    831498.30   1117791.48   \n",
      "11               0.0            0.0     24059.09     33952.19   \n",
      "12               0.0            0.0     48115.94     66755.39   \n",
      "13               0.0            0.0     28869.12     42826.99   \n",
      "14               0.0            0.0     56135.64     50656.80   \n",
      "15               0.0            0.0     48115.94     67905.07   \n",
      "16               0.0            0.0     48115.94     66938.90   \n",
      "17               0.0            0.0     80192.49     86421.04   \n",
      "18               0.0            0.0     48115.94     73798.50   \n",
      "19               0.0            0.0     60946.79     62467.29   \n",
      "20               0.0            0.0     28869.12     42727.74   \n",
      "21               0.0            0.0  13410000.00  11700000.00   \n",
      "22               0.0            0.0   1669113.93   2099127.76   \n",
      "23               0.0            0.0    179562.23    211372.57   \n",
      "24               0.0            0.0    177744.16    157171.16   \n",
      "25               0.0            0.0     17757.58     16948.72   \n",
      "26               0.0            0.0    130129.87    101758.43   \n",
      "27               0.0            0.0     42854.77     63592.88   \n",
      "28               0.0            0.0       785.58       662.18   \n",
      "29               0.0            0.0    170361.91    177176.38   \n",
      "...              ...            ...          ...          ...   \n",
      "36604            0.0            0.0    492483.92    631451.06   \n",
      "36605            0.0       954000.0    954000.00   1572497.28   \n",
      "36606            0.0       900000.0    900000.00    811814.40   \n",
      "36607            0.0      1093500.0   1093500.00   1534191.44   \n",
      "36608            0.0            0.0    436632.30    688459.98   \n",
      "36609      1917403.2      1917403.2   1917403.20   3302918.75   \n",
      "36610      1392346.8      1392346.8   1392346.80   1361819.60   \n",
      "36611      1175310.0      1175310.0   1175310.00   1521291.88   \n",
      "36612        47250.9        47250.9     47250.90     37895.60   \n",
      "36613        18630.0        18630.0     18630.00     21790.39   \n",
      "36614         9450.0         9450.0      9450.00      9577.31   \n",
      "36615            0.0       866904.3    866904.30   1329858.94   \n",
      "36616            0.0      1541972.7   1541972.70   2064682.94   \n",
      "36617            0.0      3759303.6   3759303.60   4209183.22   \n",
      "36618            0.0       717846.3    717846.30   1097387.43   \n",
      "36619            0.0      1728847.8   1728847.80   1449908.58   \n",
      "36620            0.0     24210000.0  24210000.00  27000000.00   \n",
      "36621            0.0      1331880.3   1331880.30   1770812.11   \n",
      "36622            0.0        35408.7     35408.70     51588.17   \n",
      "36623            0.0        24574.5     24574.50     40907.70   \n",
      "36624            0.0        38112.3     38112.30     52710.45   \n",
      "36625            0.0        18312.3     18312.30     18575.81   \n",
      "36626            0.0         4522.5      4522.50      4048.11   \n",
      "36627            0.0         1350.0      1350.00      1430.16   \n",
      "36628            0.0         9770.4      9770.40      9349.98   \n",
      "36629            0.0        88722.0     88722.00    155065.65   \n",
      "36630      1297057.5      1297057.5   1297057.50   1577500.79   \n",
      "36631            0.0            0.0    173286.90    205527.97   \n",
      "36632            0.0            0.0   1499781.60   1768782.43   \n",
      "36633            0.0            0.0    373488.30    596003.67   \n",
      "\n",
      "       eq_site_deductible  hu_site_deductible  fl_site_deductible  \\\n",
      "0                     0.0              9979.2                 0.0   \n",
      "1                     0.0                 0.0                 0.0   \n",
      "2                     0.0                 0.0                 0.0   \n",
      "3                     0.0                 0.0                 0.0   \n",
      "4                     0.0                 0.0                 0.0   \n",
      "5                     0.0                 0.0                 0.0   \n",
      "6                     0.0                 0.0                 0.0   \n",
      "7                     0.0             16425.0                 0.0   \n",
      "8                     0.0             15750.0                 0.0   \n",
      "9                 14112.0             35280.0                 0.0   \n",
      "10                    0.0                 0.0                 0.0   \n",
      "11                    0.0                 0.0                 0.0   \n",
      "12                    0.0                 0.0                 0.0   \n",
      "13                    0.0                 0.0                 0.0   \n",
      "14                    0.0                 0.0                 0.0   \n",
      "15                    0.0                 0.0                 0.0   \n",
      "16                    0.0                 0.0                 0.0   \n",
      "17                    0.0                 0.0                 0.0   \n",
      "18                    0.0                 0.0                 0.0   \n",
      "19                    0.0                 0.0                 0.0   \n",
      "20                    0.0                 0.0                 0.0   \n",
      "21                    0.0                 0.0                 0.0   \n",
      "22                    0.0                 0.0                 0.0   \n",
      "23                    0.0                 0.0                 0.0   \n",
      "24                    0.0                 0.0                 0.0   \n",
      "25                    0.0                 0.0                 0.0   \n",
      "26                    0.0                 0.0                 0.0   \n",
      "27                    0.0                 0.0                 0.0   \n",
      "28                    0.0                 0.0                 0.0   \n",
      "29                    0.0                 0.0                 0.0   \n",
      "...                   ...                 ...                 ...   \n",
      "36604                 0.0                 0.0                 0.0   \n",
      "36605                 0.0             47700.0                 0.0   \n",
      "36606                 0.0             27000.0                 0.0   \n",
      "36607                 0.0             32805.0                 0.0   \n",
      "36608                 0.0                 0.0                 0.0   \n",
      "36609                 0.0                 0.0                 0.0   \n",
      "36610                 0.0                 0.0                 0.0   \n",
      "36611                 0.0                 0.0                 0.0   \n",
      "36612                 0.0                 0.0                 0.0   \n",
      "36613                 0.0                 0.0                 0.0   \n",
      "36614                 0.0                 0.0                 0.0   \n",
      "36615                 0.0                 0.0                 0.0   \n",
      "36616                 0.0                 0.0                 0.0   \n",
      "36617                 0.0                 0.0                 0.0   \n",
      "36618                 0.0                 0.0                 0.0   \n",
      "36619                 0.0                 0.0                 0.0   \n",
      "36620                 0.0                 0.0                 0.0   \n",
      "36621                 0.0                 0.0                 0.0   \n",
      "36622                 0.0                 0.0                 0.0   \n",
      "36623                 0.0                 0.0                 0.0   \n",
      "36624                 0.0                 0.0                 0.0   \n",
      "36625                 0.0                 0.0                 0.0   \n",
      "36626                 0.0                 0.0                 0.0   \n",
      "36627                 0.0                 0.0                 0.0   \n",
      "36628                 0.0                 0.0                 0.0   \n",
      "36629                 0.0                 0.0                 0.0   \n",
      "36630                 0.0                 0.0                 0.0   \n",
      "36631                 0.0                 0.0                 0.0   \n",
      "36632                 0.0                 0.0                 0.0   \n",
      "36633                 0.0                 0.0                 0.0   \n",
      "\n",
      "       fr_site_deductible  point_latitude  point_longitude         line  \\\n",
      "0                       0       30.102261       -81.711777  Residential   \n",
      "1                       0       30.063936       -81.707664  Residential   \n",
      "2                       0       30.089579       -81.700455  Residential   \n",
      "3                       0       30.063236       -81.707703  Residential   \n",
      "4                       0       30.060614       -81.702675  Residential   \n",
      "5                       0       30.063236       -81.707703  Residential   \n",
      "6                       0       30.102226       -81.713882   Commercial   \n",
      "7                       0       30.102217       -81.707146  Residential   \n",
      "8                       0       30.118774       -81.704613  Residential   \n",
      "9                       0       30.100628       -81.703751  Residential   \n",
      "10                      0       30.102160       -81.719444  Residential   \n",
      "11                      0       30.095957       -81.695099  Residential   \n",
      "12                      0       30.100073       -81.739822  Residential   \n",
      "13                      0       30.092480       -81.725167  Residential   \n",
      "14                      0       30.101356       -81.726248  Residential   \n",
      "15                      0       30.113743       -81.727463  Residential   \n",
      "16                      0       30.121655       -81.732391  Residential   \n",
      "17                      0       30.109537       -81.741661  Residential   \n",
      "18                      0       30.118240       -81.745335  Residential   \n",
      "19                      0       30.065799       -81.717416  Residential   \n",
      "20                      0       30.082993       -81.710581  Residential   \n",
      "21                      0       30.091921       -81.711929   Commercial   \n",
      "22                      0       30.117352       -81.711884  Residential   \n",
      "23                      0       30.095783       -81.713181  Residential   \n",
      "24                      0       30.110518       -81.727478  Residential   \n",
      "25                      0       30.102880       -81.705719  Residential   \n",
      "26                      0       30.068468       -81.716240  Residential   \n",
      "27                      0       30.068468       -81.716240  Residential   \n",
      "28                      0       30.068468       -81.716240  Residential   \n",
      "29                      0       30.068468       -81.716240  Residential   \n",
      "...                   ...             ...              ...          ...   \n",
      "36604                   0       28.063780       -82.702550  Residential   \n",
      "36605                   0       28.041555       -82.669777  Residential   \n",
      "36606                   0       28.040613       -82.668579  Residential   \n",
      "36607                   0       28.048200       -82.681200  Residential   \n",
      "36608                   0       28.056019       -82.763885  Residential   \n",
      "36609                   0       28.081780       -82.748710   Commercial   \n",
      "36610                   0       28.081780       -82.748710  Residential   \n",
      "36611                   0       28.053280       -82.745920  Residential   \n",
      "36612                   0       28.081780       -82.748710  Residential   \n",
      "36613                   0       28.081780       -82.748710  Residential   \n",
      "36614                   0       28.053280       -82.745920  Residential   \n",
      "36615                   0       28.122885       -82.770218  Residential   \n",
      "36616                   0       28.122885       -82.770218  Residential   \n",
      "36617                   0       28.122885       -82.770218   Commercial   \n",
      "36618                   0       28.122885       -82.770218  Residential   \n",
      "36619                   0       28.122885       -82.770218  Residential   \n",
      "36620                   0       28.122885       -82.770218   Commercial   \n",
      "36621                   0       28.122885       -82.770218  Residential   \n",
      "36622                   0       28.122885       -82.770218  Residential   \n",
      "36623                   0       28.122885       -82.770218  Residential   \n",
      "36624                   0       28.122885       -82.770218  Residential   \n",
      "36625                   0       28.122885       -82.770218  Residential   \n",
      "36626                   0       28.122885       -82.770218  Residential   \n",
      "36627                   0       28.122885       -82.770218  Residential   \n",
      "36628                   0       28.122885       -82.770218  Residential   \n",
      "36629                   0       28.122885       -82.770218  Residential   \n",
      "36630                   0       28.080900       -82.758800  Residential   \n",
      "36631                   0       28.110550       -82.766360  Residential   \n",
      "36632                   0       28.089415       -82.697411  Residential   \n",
      "36633                   0       28.064440       -82.774590  Residential   \n",
      "\n",
      "              construction  point_granularity  \n",
      "0                  Masonry                  1  \n",
      "1                  Masonry                  3  \n",
      "2                     Wood                  1  \n",
      "3                     Wood                  3  \n",
      "4                     Wood                  1  \n",
      "5                  Masonry                  3  \n",
      "6      Reinforced Concrete                  1  \n",
      "7                     Wood                  1  \n",
      "8                     Wood                  1  \n",
      "9                  Masonry                  1  \n",
      "10                 Masonry                  1  \n",
      "11                    Wood                  1  \n",
      "12                    Wood                  1  \n",
      "13                    Wood                  1  \n",
      "14                    Wood                  1  \n",
      "15                    Wood                  1  \n",
      "16                    Wood                  3  \n",
      "17                    Wood                  1  \n",
      "18                    Wood                  3  \n",
      "19                    Wood                  1  \n",
      "20                    Wood                  1  \n",
      "21     Reinforced Concrete                  3  \n",
      "22                 Masonry                  1  \n",
      "23                    Wood                  3  \n",
      "24                    Wood                  1  \n",
      "25                    Wood                  1  \n",
      "26                    Wood                  1  \n",
      "27                    Wood                  1  \n",
      "28                    Wood                  1  \n",
      "29                    Wood                  1  \n",
      "...                    ...                ...  \n",
      "36604              Masonry                  1  \n",
      "36605              Masonry                  1  \n",
      "36606              Masonry                  1  \n",
      "36607              Masonry                  4  \n",
      "36608              Masonry                  3  \n",
      "36609   Reinforced Masonry                  1  \n",
      "36610              Masonry                  1  \n",
      "36611              Masonry                  1  \n",
      "36612                 Wood                  1  \n",
      "36613                 Wood                  1  \n",
      "36614                 Wood                  1  \n",
      "36615              Masonry                  3  \n",
      "36616              Masonry                  3  \n",
      "36617   Reinforced Masonry                  3  \n",
      "36618              Masonry                  3  \n",
      "36619              Masonry                  3  \n",
      "36620  Reinforced Concrete                  3  \n",
      "36621              Masonry                  3  \n",
      "36622                 Wood                  3  \n",
      "36623                 Wood                  3  \n",
      "36624                 Wood                  3  \n",
      "36625                 Wood                  3  \n",
      "36626                 Wood                  3  \n",
      "36627                 Wood                  3  \n",
      "36628                 Wood                  3  \n",
      "36629                 Wood                  3  \n",
      "36630              Masonry                  1  \n",
      "36631                 Wood                  4  \n",
      "36632              Masonry                  3  \n",
      "36633              Masonry                  1  \n",
      "\n",
      "[36634 rows x 18 columns]\n"
     ]
    }
   ],
   "source": [
    "r=pd.read_csv('FL_insurance_sample.csv') \n",
    "print(r)"
   ]
  },
  {
   "cell_type": "code",
   "execution_count": 57,
   "metadata": {},
   "outputs": [
    {
     "data": {
      "text/html": [
       "<div>\n",
       "<style scoped>\n",
       "    .dataframe tbody tr th:only-of-type {\n",
       "        vertical-align: middle;\n",
       "    }\n",
       "\n",
       "    .dataframe tbody tr th {\n",
       "        vertical-align: top;\n",
       "    }\n",
       "\n",
       "    .dataframe thead th {\n",
       "        text-align: right;\n",
       "    }\n",
       "</style>\n",
       "<table border=\"1\" class=\"dataframe\">\n",
       "  <thead>\n",
       "    <tr style=\"text-align: right;\">\n",
       "      <th></th>\n",
       "      <th>policyID</th>\n",
       "    </tr>\n",
       "  </thead>\n",
       "  <tbody>\n",
       "    <tr>\n",
       "      <th>0</th>\n",
       "      <td>119736</td>\n",
       "    </tr>\n",
       "    <tr>\n",
       "      <th>1</th>\n",
       "      <td>448094</td>\n",
       "    </tr>\n",
       "    <tr>\n",
       "      <th>2</th>\n",
       "      <td>206893</td>\n",
       "    </tr>\n",
       "    <tr>\n",
       "      <th>3</th>\n",
       "      <td>333743</td>\n",
       "    </tr>\n",
       "    <tr>\n",
       "      <th>4</th>\n",
       "      <td>172534</td>\n",
       "    </tr>\n",
       "    <tr>\n",
       "      <th>5</th>\n",
       "      <td>785275</td>\n",
       "    </tr>\n",
       "    <tr>\n",
       "      <th>6</th>\n",
       "      <td>995932</td>\n",
       "    </tr>\n",
       "    <tr>\n",
       "      <th>7</th>\n",
       "      <td>223488</td>\n",
       "    </tr>\n",
       "    <tr>\n",
       "      <th>8</th>\n",
       "      <td>433512</td>\n",
       "    </tr>\n",
       "    <tr>\n",
       "      <th>9</th>\n",
       "      <td>142071</td>\n",
       "    </tr>\n",
       "    <tr>\n",
       "      <th>10</th>\n",
       "      <td>253816</td>\n",
       "    </tr>\n",
       "    <tr>\n",
       "      <th>11</th>\n",
       "      <td>894922</td>\n",
       "    </tr>\n",
       "    <tr>\n",
       "      <th>12</th>\n",
       "      <td>422834</td>\n",
       "    </tr>\n",
       "    <tr>\n",
       "      <th>13</th>\n",
       "      <td>582721</td>\n",
       "    </tr>\n",
       "    <tr>\n",
       "      <th>14</th>\n",
       "      <td>842700</td>\n",
       "    </tr>\n",
       "    <tr>\n",
       "      <th>15</th>\n",
       "      <td>874333</td>\n",
       "    </tr>\n",
       "    <tr>\n",
       "      <th>16</th>\n",
       "      <td>580146</td>\n",
       "    </tr>\n",
       "    <tr>\n",
       "      <th>17</th>\n",
       "      <td>456149</td>\n",
       "    </tr>\n",
       "    <tr>\n",
       "      <th>18</th>\n",
       "      <td>767862</td>\n",
       "    </tr>\n",
       "    <tr>\n",
       "      <th>19</th>\n",
       "      <td>353022</td>\n",
       "    </tr>\n",
       "    <tr>\n",
       "      <th>20</th>\n",
       "      <td>367814</td>\n",
       "    </tr>\n",
       "    <tr>\n",
       "      <th>21</th>\n",
       "      <td>671392</td>\n",
       "    </tr>\n",
       "    <tr>\n",
       "      <th>22</th>\n",
       "      <td>772887</td>\n",
       "    </tr>\n",
       "    <tr>\n",
       "      <th>23</th>\n",
       "      <td>983122</td>\n",
       "    </tr>\n",
       "    <tr>\n",
       "      <th>24</th>\n",
       "      <td>934215</td>\n",
       "    </tr>\n",
       "    <tr>\n",
       "      <th>25</th>\n",
       "      <td>385951</td>\n",
       "    </tr>\n",
       "    <tr>\n",
       "      <th>26</th>\n",
       "      <td>716332</td>\n",
       "    </tr>\n",
       "    <tr>\n",
       "      <th>27</th>\n",
       "      <td>751262</td>\n",
       "    </tr>\n",
       "    <tr>\n",
       "      <th>28</th>\n",
       "      <td>633663</td>\n",
       "    </tr>\n",
       "    <tr>\n",
       "      <th>29</th>\n",
       "      <td>105851</td>\n",
       "    </tr>\n",
       "    <tr>\n",
       "      <th>...</th>\n",
       "      <td>...</td>\n",
       "    </tr>\n",
       "    <tr>\n",
       "      <th>36604</th>\n",
       "      <td>792963</td>\n",
       "    </tr>\n",
       "    <tr>\n",
       "      <th>36605</th>\n",
       "      <td>367030</td>\n",
       "    </tr>\n",
       "    <tr>\n",
       "      <th>36606</th>\n",
       "      <td>594660</td>\n",
       "    </tr>\n",
       "    <tr>\n",
       "      <th>36607</th>\n",
       "      <td>360785</td>\n",
       "    </tr>\n",
       "    <tr>\n",
       "      <th>36608</th>\n",
       "      <td>847570</td>\n",
       "    </tr>\n",
       "    <tr>\n",
       "      <th>36609</th>\n",
       "      <td>196088</td>\n",
       "    </tr>\n",
       "    <tr>\n",
       "      <th>36610</th>\n",
       "      <td>166064</td>\n",
       "    </tr>\n",
       "    <tr>\n",
       "      <th>36611</th>\n",
       "      <td>507269</td>\n",
       "    </tr>\n",
       "    <tr>\n",
       "      <th>36612</th>\n",
       "      <td>335445</td>\n",
       "    </tr>\n",
       "    <tr>\n",
       "      <th>36613</th>\n",
       "      <td>451921</td>\n",
       "    </tr>\n",
       "    <tr>\n",
       "      <th>36614</th>\n",
       "      <td>859202</td>\n",
       "    </tr>\n",
       "    <tr>\n",
       "      <th>36615</th>\n",
       "      <td>584224</td>\n",
       "    </tr>\n",
       "    <tr>\n",
       "      <th>36616</th>\n",
       "      <td>603769</td>\n",
       "    </tr>\n",
       "    <tr>\n",
       "      <th>36617</th>\n",
       "      <td>575194</td>\n",
       "    </tr>\n",
       "    <tr>\n",
       "      <th>36618</th>\n",
       "      <td>708726</td>\n",
       "    </tr>\n",
       "    <tr>\n",
       "      <th>36619</th>\n",
       "      <td>645213</td>\n",
       "    </tr>\n",
       "    <tr>\n",
       "      <th>36620</th>\n",
       "      <td>175829</td>\n",
       "    </tr>\n",
       "    <tr>\n",
       "      <th>36621</th>\n",
       "      <td>546178</td>\n",
       "    </tr>\n",
       "    <tr>\n",
       "      <th>36622</th>\n",
       "      <td>938910</td>\n",
       "    </tr>\n",
       "    <tr>\n",
       "      <th>36623</th>\n",
       "      <td>592170</td>\n",
       "    </tr>\n",
       "    <tr>\n",
       "      <th>36624</th>\n",
       "      <td>827844</td>\n",
       "    </tr>\n",
       "    <tr>\n",
       "      <th>36625</th>\n",
       "      <td>876385</td>\n",
       "    </tr>\n",
       "    <tr>\n",
       "      <th>36626</th>\n",
       "      <td>167630</td>\n",
       "    </tr>\n",
       "    <tr>\n",
       "      <th>36627</th>\n",
       "      <td>241496</td>\n",
       "    </tr>\n",
       "    <tr>\n",
       "      <th>36628</th>\n",
       "      <td>780814</td>\n",
       "    </tr>\n",
       "    <tr>\n",
       "      <th>36629</th>\n",
       "      <td>404309</td>\n",
       "    </tr>\n",
       "    <tr>\n",
       "      <th>36630</th>\n",
       "      <td>465875</td>\n",
       "    </tr>\n",
       "    <tr>\n",
       "      <th>36631</th>\n",
       "      <td>791209</td>\n",
       "    </tr>\n",
       "    <tr>\n",
       "      <th>36632</th>\n",
       "      <td>322627</td>\n",
       "    </tr>\n",
       "    <tr>\n",
       "      <th>36633</th>\n",
       "      <td>398149</td>\n",
       "    </tr>\n",
       "  </tbody>\n",
       "</table>\n",
       "<p>36634 rows × 1 columns</p>\n",
       "</div>"
      ],
      "text/plain": [
       "       policyID\n",
       "0        119736\n",
       "1        448094\n",
       "2        206893\n",
       "3        333743\n",
       "4        172534\n",
       "5        785275\n",
       "6        995932\n",
       "7        223488\n",
       "8        433512\n",
       "9        142071\n",
       "10       253816\n",
       "11       894922\n",
       "12       422834\n",
       "13       582721\n",
       "14       842700\n",
       "15       874333\n",
       "16       580146\n",
       "17       456149\n",
       "18       767862\n",
       "19       353022\n",
       "20       367814\n",
       "21       671392\n",
       "22       772887\n",
       "23       983122\n",
       "24       934215\n",
       "25       385951\n",
       "26       716332\n",
       "27       751262\n",
       "28       633663\n",
       "29       105851\n",
       "...         ...\n",
       "36604    792963\n",
       "36605    367030\n",
       "36606    594660\n",
       "36607    360785\n",
       "36608    847570\n",
       "36609    196088\n",
       "36610    166064\n",
       "36611    507269\n",
       "36612    335445\n",
       "36613    451921\n",
       "36614    859202\n",
       "36615    584224\n",
       "36616    603769\n",
       "36617    575194\n",
       "36618    708726\n",
       "36619    645213\n",
       "36620    175829\n",
       "36621    546178\n",
       "36622    938910\n",
       "36623    592170\n",
       "36624    827844\n",
       "36625    876385\n",
       "36626    167630\n",
       "36627    241496\n",
       "36628    780814\n",
       "36629    404309\n",
       "36630    465875\n",
       "36631    791209\n",
       "36632    322627\n",
       "36633    398149\n",
       "\n",
       "[36634 rows x 1 columns]"
      ]
     },
     "execution_count": 57,
     "metadata": {},
     "output_type": "execute_result"
    }
   ],
   "source": [
    "pd.DataFrame(r['policyID'])"
   ]
  },
  {
   "cell_type": "code",
   "execution_count": 65,
   "metadata": {},
   "outputs": [
    {
     "name": "stdout",
     "output_type": "stream",
     "text": [
      "statecode                      FL\n",
      "county                CLAY COUNTY\n",
      "eq_site_limit              498960\n",
      "hu_site_limit              498960\n",
      "fl_site_limit              498960\n",
      "fr_site_limit              498960\n",
      "tiv_2011                   498960\n",
      "tiv_2012                   792149\n",
      "eq_site_deductible              0\n",
      "hu_site_deductible         9979.2\n",
      "fl_site_deductible              0\n",
      "fr_site_deductible              0\n",
      "point_latitude            30.1023\n",
      "point_longitude          -81.7118\n",
      "line                  Residential\n",
      "construction              Masonry\n",
      "point_granularity               1\n",
      "Name: 119736, dtype: object\n"
     ]
    }
   ],
   "source": [
    "p=pd.read_csv('FL_insurance_sample.csv',index_col='policyID')\n",
    "q=p.loc[119736]\n",
    "print(q)\n"
   ]
  },
  {
   "cell_type": "code",
   "execution_count": 68,
   "metadata": {},
   "outputs": [
    {
     "name": "stdout",
     "output_type": "stream",
     "text": [
      "policyID                   206893\n",
      "statecode                      FL\n",
      "county                CLAY COUNTY\n",
      "eq_site_limit              190724\n",
      "hu_site_limit              190724\n",
      "fl_site_limit              190724\n",
      "fr_site_limit              190724\n",
      "tiv_2011                   190724\n",
      "tiv_2012                   192477\n",
      "eq_site_deductible              0\n",
      "hu_site_deductible              0\n",
      "fl_site_deductible              0\n",
      "fr_site_deductible              0\n",
      "point_latitude            30.0896\n",
      "point_longitude          -81.7005\n",
      "line                  Residential\n",
      "construction                 Wood\n",
      "point_granularity               1\n",
      "Name: 2, dtype: object\n"
     ]
    }
   ],
   "source": [
    "t=r.iloc[2]\n",
    "print(t)"
   ]
  },
  {
   "cell_type": "code",
   "execution_count": 1,
   "metadata": {},
   "outputs": [],
   "source": [
    "import numpy as np"
   ]
  },
  {
   "cell_type": "code",
   "execution_count": 3,
   "metadata": {},
   "outputs": [
    {
     "name": "stdout",
     "output_type": "stream",
     "text": [
      "[1 2 3 4]\n"
     ]
    }
   ],
   "source": [
    "a=np.array([1,2,3,4])\n",
    "print(a)"
   ]
  },
  {
   "cell_type": "code",
   "execution_count": 13,
   "metadata": {},
   "outputs": [
    {
     "name": "stdout",
     "output_type": "stream",
     "text": [
      "[[1 2 4]\n",
      " [6 7 9]\n",
      " [3 8 6]]\n"
     ]
    }
   ],
   "source": [
    "a=np.array([[1,2,4],[6,7,9],[3,8,6]])\n",
    "print(a)"
   ]
  },
  {
   "cell_type": "code",
   "execution_count": 8,
   "metadata": {},
   "outputs": [
    {
     "name": "stdout",
     "output_type": "stream",
     "text": [
      "[[1 2]\n",
      " [6 7]]\n"
     ]
    }
   ],
   "source": [
    "b=np.array([[1,2],[6,7]])\n",
    "print(b)"
   ]
  },
  {
   "cell_type": "code",
   "execution_count": 12,
   "metadata": {},
   "outputs": [
    {
     "name": "stdout",
     "output_type": "stream",
     "text": [
      "[[3 2 4]\n",
      " [8 7 9]\n",
      " [7 8 6]]\n"
     ]
    }
   ],
   "source": [
    "c=np.array([[3,2,4],[8,7,9],[7,8,6]])\n",
    "print(c)"
   ]
  },
  {
   "cell_type": "code",
   "execution_count": 14,
   "metadata": {},
   "outputs": [
    {
     "data": {
      "text/plain": [
       "array([[ 4,  4,  8],\n",
       "       [14, 14, 18],\n",
       "       [10, 16, 12]])"
      ]
     },
     "execution_count": 14,
     "metadata": {},
     "output_type": "execute_result"
    }
   ],
   "source": [
    "p=np.add(c,a)\n",
    "p"
   ]
  },
  {
   "cell_type": "code",
   "execution_count": 15,
   "metadata": {},
   "outputs": [
    {
     "data": {
      "text/plain": [
       "array([[ 5,  5,  9],\n",
       "       [15, 15, 19],\n",
       "       [11, 17, 13]])"
      ]
     },
     "execution_count": 15,
     "metadata": {},
     "output_type": "execute_result"
    }
   ],
   "source": [
    "p+1"
   ]
  },
  {
   "cell_type": "code",
   "execution_count": 16,
   "metadata": {},
   "outputs": [
    {
     "data": {
      "text/plain": [
       "array([[ 2,  2,  6],\n",
       "       [12, 12, 16],\n",
       "       [ 8, 14, 10]])"
      ]
     },
     "execution_count": 16,
     "metadata": {},
     "output_type": "execute_result"
    }
   ],
   "source": [
    "p-2"
   ]
  },
  {
   "cell_type": "code",
   "execution_count": 17,
   "metadata": {},
   "outputs": [
    {
     "data": {
      "text/plain": [
       "array([[ 4, 14, 10],\n",
       "       [ 4, 14, 16],\n",
       "       [ 8, 18, 12]])"
      ]
     },
     "execution_count": 17,
     "metadata": {},
     "output_type": "execute_result"
    }
   ],
   "source": [
    "p.T"
   ]
  },
  {
   "cell_type": "code",
   "execution_count": 19,
   "metadata": {},
   "outputs": [
    {
     "data": {
      "text/plain": [
       "46"
      ]
     },
     "execution_count": 19,
     "metadata": {},
     "output_type": "execute_result"
    }
   ],
   "source": [
    "a.sum()"
   ]
  },
  {
   "cell_type": "code",
   "execution_count": 20,
   "metadata": {},
   "outputs": [
    {
     "data": {
      "text/plain": [
       "dtype('int32')"
      ]
     },
     "execution_count": 20,
     "metadata": {},
     "output_type": "execute_result"
    }
   ],
   "source": [
    "a.dtype"
   ]
  },
  {
   "cell_type": "code",
   "execution_count": 21,
   "metadata": {},
   "outputs": [
    {
     "data": {
      "text/plain": [
       "46"
      ]
     },
     "execution_count": 21,
     "metadata": {},
     "output_type": "execute_result"
    }
   ],
   "source": [
    "np.sum(a)"
   ]
  },
  {
   "cell_type": "code",
   "execution_count": 22,
   "metadata": {},
   "outputs": [
    {
     "data": {
      "text/plain": [
       "array([[1.        , 1.41421356, 2.        ],\n",
       "       [2.44948974, 2.64575131, 3.        ],\n",
       "       [1.73205081, 2.82842712, 2.44948974]])"
      ]
     },
     "execution_count": 22,
     "metadata": {},
     "output_type": "execute_result"
    }
   ],
   "source": [
    "np.sqrt(a)"
   ]
  },
  {
   "cell_type": "code",
   "execution_count": 24,
   "metadata": {},
   "outputs": [
    {
     "data": {
      "text/plain": [
       "array([[2, 0, 0],\n",
       "       [2, 0, 0],\n",
       "       [4, 0, 0]])"
      ]
     },
     "execution_count": 24,
     "metadata": {},
     "output_type": "execute_result"
    }
   ],
   "source": [
    "np.subtract(c,a)"
   ]
  },
  {
   "cell_type": "code",
   "execution_count": 25,
   "metadata": {},
   "outputs": [
    {
     "data": {
      "text/plain": [
       "array([[ 3,  4, 16],\n",
       "       [48, 49, 81],\n",
       "       [21, 64, 36]])"
      ]
     },
     "execution_count": 25,
     "metadata": {},
     "output_type": "execute_result"
    }
   ],
   "source": [
    "np.multiply(c,a)"
   ]
  },
  {
   "cell_type": "code",
   "execution_count": 29,
   "metadata": {},
   "outputs": [],
   "source": [
    "import matplotlib.pyplot as mpl"
   ]
  },
  {
   "cell_type": "code",
   "execution_count": 30,
   "metadata": {},
   "outputs": [
    {
     "data": {
      "text/plain": [
       "[9, 6, 0, 4]"
      ]
     },
     "execution_count": 30,
     "metadata": {},
     "output_type": "execute_result"
    }
   ],
   "source": [
    "x=[1,3,6,8]\n",
    "y=[9,6,0,4]\n",
    "x\n",
    "y"
   ]
  },
  {
   "cell_type": "code",
   "execution_count": 31,
   "metadata": {},
   "outputs": [
    {
     "data": {
      "text/plain": [
       "[<matplotlib.lines.Line2D at 0x1cfe6f537b8>]"
      ]
     },
     "execution_count": 31,
     "metadata": {},
     "output_type": "execute_result"
    },
    {
     "data": {
      "image/png": "[encoded data removed]",
      "text/plain": [
       "<Figure size 432x288 with 1 Axes>"
      ]
     },
     "metadata": {
      "needs_background": "light"
     },
     "output_type": "display_data"
    }
   ],
   "source": [
    "a=mpl.plot(x,y)"
   ]
  },
  {
   "cell_type": "code",
   "execution_count": 47,
   "metadata": {},
   "outputs": [],
   "source": [
    "l=[4,8,2,5,12,2,10,50]\n"
   ]
  },
  {
   "cell_type": "code",
   "execution_count": 48,
   "metadata": {},
   "outputs": [
    {
     "data": {
      "image/png": "[encoded data removed]",
      "text/plain": [
       "<Figure size 432x288 with 1 Axes>"
      ]
     },
     "metadata": {
      "needs_background": "light"
     },
     "output_type": "display_data"
    }
   ],
   "source": [
    "a=mpl.plot(x,y,l)"
   ]
  },
  {
   "cell_type": "code",
   "execution_count": 57,
   "metadata": {},
   "outputs": [
    {
     "data": {
      "image/png": "[encoded data removed]",
      "text/plain": [
       "<Figure size 432x288 with 1 Axes>"
      ]
     },
     "metadata": {
      "needs_background": "light"
     },
     "output_type": "display_data"
    }
   ],
   "source": [
    "mpl.xlabel(\"X-axis ------->\")\n",
    "mpl.ylabel(\"Y-axis ------->\")\n",
    "a=mpl.plot(x,y,l)"
   ]
  },
  {
   "cell_type": "code",
   "execution_count": 59,
   "metadata": {},
   "outputs": [
    {
     "data": {
      "text/plain": [
       "Text(0.5, 1.0, 'Graph')"
      ]
     },
     "execution_count": 59,
     "metadata": {},
     "output_type": "execute_result"
    },
    {
     "data": {
      "image/png": "[encoded data removed]",
      "text/plain": [
       "<Figure size 432x288 with 1 Axes>"
      ]
     },
     "metadata": {
      "needs_background": "light"
     },
     "output_type": "display_data"
    }
   ],
   "source": [
    "mpl.xlabel(\"X-axis ------->\")\n",
    "mpl.ylabel(\"Y-axis ------->\")\n",
    "a=mpl.plot(x,y,l)\n",
    "mpl.title(\"Graph\")"
   ]
  },
  {
   "cell_type": "code",
   "execution_count": 68,
   "metadata": {},
   "outputs": [
    {
     "data": {
      "text/plain": [
       "<matplotlib.legend.Legend at 0x1cfe427a860>"
      ]
     },
     "execution_count": 68,
     "metadata": {},
     "output_type": "execute_result"
    },
    {
     "data": {
      "image/png": "[encoded data removed]",
      "text/plain": [
       "<Figure size 432x288 with 1 Axes>"
      ]
     },
     "metadata": {
      "needs_background": "light"
     },
     "output_type": "display_data"
    }
   ],
   "source": [
    "mpl.xlabel(\"X-axis ------->\")\n",
    "mpl.ylabel(\"Y-axis ------->\")\n",
    "a=mpl.plot(x,y,l)\n",
    "mpl.title(\"Graph\")\n",
    "mpl.legend(\"12\")"
   ]
  },
  {
   "cell_type": "code",
   "execution_count": 75,
   "metadata": {},
   "outputs": [
    {
     "data": {
      "text/plain": [
       "[<matplotlib.lines.Line2D at 0x1cfe8b784a8>]"
      ]
     },
     "execution_count": 75,
     "metadata": {},
     "output_type": "execute_result"
    },
    {
     "data": {
      "image/png": "[encoded data removed]",
      "text/plain": [
       "<Figure size 432x288 with 1 Axes>"
      ]
     },
     "metadata": {
      "needs_background": "light"
     },
     "output_type": "display_data"
    }
   ],
   "source": [
    "mpl.plot(x,label=\"X-axis ------->\",color=\"red\")  "
   ]
  },
  {
   "cell_type": "code",
   "execution_count": null,
   "metadata": {},
   "outputs": [],
   "source": [
    "a"
   ]
  },
  {
   "cell_type": "code",
   "execution_count": 88,
   "metadata": {},
   "outputs": [
    {
     "data": {
      "text/plain": [
       "<BarContainer object of 4 artists>"
      ]
     },
     "execution_count": 88,
     "metadata": {},
     "output_type": "execute_result"
    },
    {
     "data": {
      "image/png": "[encoded data removed]",
      "text/plain": [
       "<Figure size 432x288 with 1 Axes>"
      ]
     },
     "metadata": {
      "needs_background": "light"
     },
     "output_type": "display_data"
    }
   ],
   "source": [
    "x=[1,3,6,8]\n",
    "y=[6,6,3,4]\n",
    "mpl.bar(x,y,color=[\"orange\",\"green\",\"red\",\"pink\"])  "
   ]
  },
  {
   "cell_type": "code",
   "execution_count": 97,
   "metadata": {},
   "outputs": [],
   "source": [
    "import matplotlib.pyplot as mpl"
   ]
  },
  {
   "cell_type": "code",
   "execution_count": 98,
   "metadata": {},
   "outputs": [
    {
     "data": {
      "text/plain": [
       "<matplotlib.collections.PathCollection at 0x1cfe8ffe0f0>"
      ]
     },
     "execution_count": 98,
     "metadata": {},
     "output_type": "execute_result"
    },
    {
     "data": {
      "image/png": "[encoded data removed]",
      "text/plain": [
       "<Figure size 432x288 with 1 Axes>"
      ]
     },
     "metadata": {
      "needs_background": "light"
     },
     "output_type": "display_data"
    }
   ],
   "source": [
    "mpl.scatter(x,y)"
   ]
  },
  {
   "cell_type": "code",
   "execution_count": 146,
   "metadata": {},
   "outputs": [
    {
     "data": {
      "text/plain": [
       "([<matplotlib.patches.Wedge at 0x1cfeaec9c50>,\n",
       "  <matplotlib.patches.Wedge at 0x1cfeaed4160>,\n",
       "  <matplotlib.patches.Wedge at 0x1cfea8415f8>,\n",
       "  <matplotlib.patches.Wedge at 0x1cfeaed4ac8>],\n",
       " [Text(1.5556349186104048, 1.5556349186104048, ''),\n",
       "  Text(-1.5556349186104046, 1.5556349186104048, ''),\n",
       "  Text(-1.555634918610405, -1.5556349186104046, ''),\n",
       "  Text(1.5556349186104044, -1.555634918610405, '')])"
      ]
     },
     "execution_count": 146,
     "metadata": {},
     "output_type": "execute_result"
    },
    {
     "data": {
      "image/png": "[encoded data removed]",
      "text/plain": [
       "<Figure size 432x288 with 1 Axes>"
      ]
     },
     "metadata": {},
     "output_type": "display_data"
    }
   ],
   "source": [
    "l=[1,1,1,1]\n",
    "p=[\"mehul\",\"rishabh\",\"vaibhav\",\"tushar\"]\n",
    "mpl.pie(l)\n",
    "mpl.legend(p)\n",
    "mpl.pie(l,shadow=True)\n",
    "mpl.pie(l,radius=2)"
   ]
  },
  {
   "cell_type": "code",
   "execution_count": null,
   "metadata": {},
   "outputs": [],
   "source": []
  },
  {
   "cell_type": "code",
   "execution_count": null,
   "metadata": {},
   "outputs": [],
   "source": []
  }
 ],
 "metadata": {
  "kernelspec": {
   "display_name": "Python 3",
   "language": "python",
   "name": "python3"
  },
  "language_info": {
   "codemirror_mode": {
    "name": "ipython",
    "version": 3
   },
   "file_extension": ".py",
   "mimetype": "text/x-python",
   "name": "python",
   "nbconvert_exporter": "python",
   "pygments_lexer": "ipython3",
   "version": "3.7.3"
  }
 },
 "nbformat": 4,
 "nbformat_minor": 2
}
